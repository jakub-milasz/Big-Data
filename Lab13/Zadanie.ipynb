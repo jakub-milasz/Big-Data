{
 "cells": [
  {
   "cell_type": "code",
   "execution_count": 0,
   "metadata": {
    "application/vnd.databricks.v1+cell": {
     "cellMetadata": {
      "byteLimit": 2048000,
      "rowLimit": 10000
     },
     "inputWidgets": {},
     "nuid": "9441ed11-0e2e-4a6b-b752-c9e89883d8af",
     "showTitle": false,
     "tableResultSettingsMap": {},
     "title": ""
    }
   },
   "outputs": [
    {
     "output_type": "stream",
     "name": "stdout",
     "output_type": "stream",
     "text": [
      "Python interpreter will be restarted.\nRequirement already satisfied: geopandas==0.14.3 in /local_disk0/.ephemeral_nfs/envs/pythonEnv-1b7bbc43-e6fa-49df-a58e-d355d8f464ff/lib/python3.9/site-packages (0.14.3)\nRequirement already satisfied: databricks-mosaic in /local_disk0/.ephemeral_nfs/envs/pythonEnv-1b7bbc43-e6fa-49df-a58e-d355d8f464ff/lib/python3.9/site-packages (0.3.14)\nRequirement already satisfied: pandas>=1.4.0 in /databricks/python3/lib/python3.9/site-packages (from geopandas==0.14.3) (1.4.2)\nRequirement already satisfied: packaging in /databricks/python3/lib/python3.9/site-packages (from geopandas==0.14.3) (21.3)\nRequirement already satisfied: fiona>=1.8.21 in /local_disk0/.ephemeral_nfs/envs/pythonEnv-1b7bbc43-e6fa-49df-a58e-d355d8f464ff/lib/python3.9/site-packages (from geopandas==0.14.3) (1.10.1)\nRequirement already satisfied: shapely>=1.8.0 in /local_disk0/.ephemeral_nfs/envs/pythonEnv-1b7bbc43-e6fa-49df-a58e-d355d8f464ff/lib/python3.9/site-packages (from geopandas==0.14.3) (2.0.7)\nRequirement already satisfied: pyproj>=3.3.0 in /local_disk0/.ephemeral_nfs/envs/pythonEnv-1b7bbc43-e6fa-49df-a58e-d355d8f464ff/lib/python3.9/site-packages (from geopandas==0.14.3) (3.6.1)\nRequirement already satisfied: h3==3.7.3 in /local_disk0/.ephemeral_nfs/envs/pythonEnv-1b7bbc43-e6fa-49df-a58e-d355d8f464ff/lib/python3.9/site-packages (from databricks-mosaic) (3.7.3)\nRequirement already satisfied: keplergl==0.3.2 in /local_disk0/.ephemeral_nfs/envs/pythonEnv-1b7bbc43-e6fa-49df-a58e-d355d8f464ff/lib/python3.9/site-packages (from databricks-mosaic) (0.3.2)\nRequirement already satisfied: ipywidgets<8,>=7.0.0 in /databricks/python3/lib/python3.9/site-packages (from keplergl==0.3.2->databricks-mosaic) (7.7.2)\nRequirement already satisfied: traittypes>=0.2.1 in /local_disk0/.ephemeral_nfs/envs/pythonEnv-1b7bbc43-e6fa-49df-a58e-d355d8f464ff/lib/python3.9/site-packages (from keplergl==0.3.2->databricks-mosaic) (0.2.1)\nRequirement already satisfied: importlib-metadata in /local_disk0/.ephemeral_nfs/envs/pythonEnv-1b7bbc43-e6fa-49df-a58e-d355d8f464ff/lib/python3.9/site-packages (from fiona>=1.8.21->geopandas==0.14.3) (8.7.0)\nRequirement already satisfied: certifi in /databricks/python3/lib/python3.9/site-packages (from fiona>=1.8.21->geopandas==0.14.3) (2021.10.8)\nRequirement already satisfied: click-plugins>=1.0 in /local_disk0/.ephemeral_nfs/envs/pythonEnv-1b7bbc43-e6fa-49df-a58e-d355d8f464ff/lib/python3.9/site-packages (from fiona>=1.8.21->geopandas==0.14.3) (1.1.1)\nRequirement already satisfied: click~=8.0 in /databricks/python3/lib/python3.9/site-packages (from fiona>=1.8.21->geopandas==0.14.3) (8.0.4)\nRequirement already satisfied: attrs>=19.2.0 in /databricks/python3/lib/python3.9/site-packages (from fiona>=1.8.21->geopandas==0.14.3) (21.4.0)\nRequirement already satisfied: cligj>=0.5 in /local_disk0/.ephemeral_nfs/envs/pythonEnv-1b7bbc43-e6fa-49df-a58e-d355d8f464ff/lib/python3.9/site-packages (from fiona>=1.8.21->geopandas==0.14.3) (0.7.2)\nRequirement already satisfied: ipython-genutils~=0.2.0 in /databricks/python3/lib/python3.9/site-packages (from ipywidgets<8,>=7.0.0->keplergl==0.3.2->databricks-mosaic) (0.2.0)\nRequirement already satisfied: ipykernel>=4.5.1 in /databricks/python3/lib/python3.9/site-packages (from ipywidgets<8,>=7.0.0->keplergl==0.3.2->databricks-mosaic) (6.15.3)\nRequirement already satisfied: traitlets>=4.3.1 in /databricks/python3/lib/python3.9/site-packages (from ipywidgets<8,>=7.0.0->keplergl==0.3.2->databricks-mosaic) (5.1.1)\nRequirement already satisfied: jupyterlab-widgets<3,>=1.0.0 in /databricks/python3/lib/python3.9/site-packages (from ipywidgets<8,>=7.0.0->keplergl==0.3.2->databricks-mosaic) (1.0.0)\nRequirement already satisfied: ipython>=4.0.0 in /databricks/python3/lib/python3.9/site-packages (from ipywidgets<8,>=7.0.0->keplergl==0.3.2->databricks-mosaic) (8.5.0)\nRequirement already satisfied: widgetsnbextension~=3.6.0 in /databricks/python3/lib/python3.9/site-packages (from ipywidgets<8,>=7.0.0->keplergl==0.3.2->databricks-mosaic) (3.6.1)\nRequirement already satisfied: jupyter-client>=6.1.12 in /databricks/python3/lib/python3.9/site-packages (from ipykernel>=4.5.1->ipywidgets<8,>=7.0.0->keplergl==0.3.2->databricks-mosaic) (6.1.12)\nRequirement already satisfied: tornado>=6.1 in /databricks/python3/lib/python3.9/site-packages (from ipykernel>=4.5.1->ipywidgets<8,>=7.0.0->keplergl==0.3.2->databricks-mosaic) (6.1)\nRequirement already satisfied: matplotlib-inline>=0.1 in /databricks/python3/lib/python3.9/site-packages (from ipykernel>=4.5.1->ipywidgets<8,>=7.0.0->keplergl==0.3.2->databricks-mosaic) (0.1.2)\nRequirement already satisfied: debugpy>=1.0 in /databricks/python3/lib/python3.9/site-packages (from ipykernel>=4.5.1->ipywidgets<8,>=7.0.0->keplergl==0.3.2->databricks-mosaic) (1.5.1)\nRequirement already satisfied: pyzmq>=17 in /databricks/python3/lib/python3.9/site-packages (from ipykernel>=4.5.1->ipywidgets<8,>=7.0.0->keplergl==0.3.2->databricks-mosaic) (22.3.0)\nRequirement already satisfied: psutil in /databricks/python3/lib/python3.9/site-packages (from ipykernel>=4.5.1->ipywidgets<8,>=7.0.0->keplergl==0.3.2->databricks-mosaic) (5.8.0)\nRequirement already satisfied: nest-asyncio in /databricks/python3/lib/python3.9/site-packages (from ipykernel>=4.5.1->ipywidgets<8,>=7.0.0->keplergl==0.3.2->databricks-mosaic) (1.5.5)\nRequirement already satisfied: jedi>=0.16 in /databricks/python3/lib/python3.9/site-packages (from ipython>=4.0.0->ipywidgets<8,>=7.0.0->keplergl==0.3.2->databricks-mosaic) (0.18.1)\nRequirement already satisfied: backcall in /databricks/python3/lib/python3.9/site-packages (from ipython>=4.0.0->ipywidgets<8,>=7.0.0->keplergl==0.3.2->databricks-mosaic) (0.2.0)\nRequirement already satisfied: pygments>=2.4.0 in /databricks/python3/lib/python3.9/site-packages (from ipython>=4.0.0->ipywidgets<8,>=7.0.0->keplergl==0.3.2->databricks-mosaic) (2.11.2)\nRequirement already satisfied: decorator in /databricks/python3/lib/python3.9/site-packages (from ipython>=4.0.0->ipywidgets<8,>=7.0.0->keplergl==0.3.2->databricks-mosaic) (5.1.1)\nRequirement already satisfied: prompt-toolkit<3.1.0,>3.0.1 in /databricks/python3/lib/python3.9/site-packages (from ipython>=4.0.0->ipywidgets<8,>=7.0.0->keplergl==0.3.2->databricks-mosaic) (3.0.20)\nRequirement already satisfied: stack-data in /databricks/python3/lib/python3.9/site-packages (from ipython>=4.0.0->ipywidgets<8,>=7.0.0->keplergl==0.3.2->databricks-mosaic) (0.2.0)\nRequirement already satisfied: pickleshare in /databricks/python3/lib/python3.9/site-packages (from ipython>=4.0.0->ipywidgets<8,>=7.0.0->keplergl==0.3.2->databricks-mosaic) (0.7.5)\nRequirement already satisfied: pexpect>4.3 in /databricks/python3/lib/python3.9/site-packages (from ipython>=4.0.0->ipywidgets<8,>=7.0.0->keplergl==0.3.2->databricks-mosaic) (4.8.0)\nRequirement already satisfied: parso<0.9.0,>=0.8.0 in /databricks/python3/lib/python3.9/site-packages (from jedi>=0.16->ipython>=4.0.0->ipywidgets<8,>=7.0.0->keplergl==0.3.2->databricks-mosaic) (0.8.3)\nRequirement already satisfied: jupyter-core>=4.6.0 in /databricks/python3/lib/python3.9/site-packages (from jupyter-client>=6.1.12->ipykernel>=4.5.1->ipywidgets<8,>=7.0.0->keplergl==0.3.2->databricks-mosaic) (4.11.2)\nRequirement already satisfied: python-dateutil>=2.1 in /databricks/python3/lib/python3.9/site-packages (from jupyter-client>=6.1.12->ipykernel>=4.5.1->ipywidgets<8,>=7.0.0->keplergl==0.3.2->databricks-mosaic) (2.8.2)\nRequirement already satisfied: numpy>=1.18.5 in /databricks/python3/lib/python3.9/site-packages (from pandas>=1.4.0->geopandas==0.14.3) (1.21.5)\nRequirement already satisfied: pytz>=2020.1 in /databricks/python3/lib/python3.9/site-packages (from pandas>=1.4.0->geopandas==0.14.3) (2021.3)\nRequirement already satisfied: ptyprocess>=0.5 in /databricks/python3/lib/python3.9/site-packages (from pexpect>4.3->ipython>=4.0.0->ipywidgets<8,>=7.0.0->keplergl==0.3.2->databricks-mosaic) (0.7.0)\nRequirement already satisfied: wcwidth in /databricks/python3/lib/python3.9/site-packages (from prompt-toolkit<3.1.0,>3.0.1->ipython>=4.0.0->ipywidgets<8,>=7.0.0->keplergl==0.3.2->databricks-mosaic) (0.2.5)\nRequirement already satisfied: six>=1.5 in /databricks/python3/lib/python3.9/site-packages (from python-dateutil>=2.1->jupyter-client>=6.1.12->ipykernel>=4.5.1->ipywidgets<8,>=7.0.0->keplergl==0.3.2->databricks-mosaic) (1.16.0)\nRequirement already satisfied: notebook>=4.4.1 in /databricks/python3/lib/python3.9/site-packages (from widgetsnbextension~=3.6.0->ipywidgets<8,>=7.0.0->keplergl==0.3.2->databricks-mosaic) (6.4.8)\nRequirement already satisfied: nbconvert in /databricks/python3/lib/python3.9/site-packages (from notebook>=4.4.1->widgetsnbextension~=3.6.0->ipywidgets<8,>=7.0.0->keplergl==0.3.2->databricks-mosaic) (6.4.4)\nRequirement already satisfied: nbformat in /databricks/python3/lib/python3.9/site-packages (from notebook>=4.4.1->widgetsnbextension~=3.6.0->ipywidgets<8,>=7.0.0->keplergl==0.3.2->databricks-mosaic) (5.3.0)\nRequirement already satisfied: jinja2 in /databricks/python3/lib/python3.9/site-packages (from notebook>=4.4.1->widgetsnbextension~=3.6.0->ipywidgets<8,>=7.0.0->keplergl==0.3.2->databricks-mosaic) (2.11.3)\nRequirement already satisfied: argon2-cffi in /databricks/python3/lib/python3.9/site-packages (from notebook>=4.4.1->widgetsnbextension~=3.6.0->ipywidgets<8,>=7.0.0->keplergl==0.3.2->databricks-mosaic) (21.3.0)\nRequirement already satisfied: prometheus-client in /databricks/python3/lib/python3.9/site-packages (from notebook>=4.4.1->widgetsnbextension~=3.6.0->ipywidgets<8,>=7.0.0->keplergl==0.3.2->databricks-mosaic) (0.13.1)\nRequirement already satisfied: terminado>=0.8.3 in /databricks/python3/lib/python3.9/site-packages (from notebook>=4.4.1->widgetsnbextension~=3.6.0->ipywidgets<8,>=7.0.0->keplergl==0.3.2->databricks-mosaic) (0.13.1)\nRequirement already satisfied: Send2Trash>=1.8.0 in /databricks/python3/lib/python3.9/site-packages (from notebook>=4.4.1->widgetsnbextension~=3.6.0->ipywidgets<8,>=7.0.0->keplergl==0.3.2->databricks-mosaic) (1.8.0)\nRequirement already satisfied: argon2-cffi-bindings in /databricks/python3/lib/python3.9/site-packages (from argon2-cffi->notebook>=4.4.1->widgetsnbextension~=3.6.0->ipywidgets<8,>=7.0.0->keplergl==0.3.2->databricks-mosaic) (21.2.0)\nRequirement already satisfied: cffi>=1.0.1 in /databricks/python3/lib/python3.9/site-packages (from argon2-cffi-bindings->argon2-cffi->notebook>=4.4.1->widgetsnbextension~=3.6.0->ipywidgets<8,>=7.0.0->keplergl==0.3.2->databricks-mosaic) (1.15.0)\nRequirement already satisfied: pycparser in /databricks/python3/lib/python3.9/site-packages (from cffi>=1.0.1->argon2-cffi-bindings->argon2-cffi->notebook>=4.4.1->widgetsnbextension~=3.6.0->ipywidgets<8,>=7.0.0->keplergl==0.3.2->databricks-mosaic) (2.21)\nRequirement already satisfied: zipp>=3.20 in /local_disk0/.ephemeral_nfs/envs/pythonEnv-1b7bbc43-e6fa-49df-a58e-d355d8f464ff/lib/python3.9/site-packages (from importlib-metadata->fiona>=1.8.21->geopandas==0.14.3) (3.23.0)\nRequirement already satisfied: MarkupSafe>=0.23 in /databricks/python3/lib/python3.9/site-packages (from jinja2->notebook>=4.4.1->widgetsnbextension~=3.6.0->ipywidgets<8,>=7.0.0->keplergl==0.3.2->databricks-mosaic) (2.0.1)\nRequirement already satisfied: entrypoints>=0.2.2 in /databricks/python3/lib/python3.9/site-packages (from nbconvert->notebook>=4.4.1->widgetsnbextension~=3.6.0->ipywidgets<8,>=7.0.0->keplergl==0.3.2->databricks-mosaic) (0.4)\nRequirement already satisfied: bleach in /databricks/python3/lib/python3.9/site-packages (from nbconvert->notebook>=4.4.1->widgetsnbextension~=3.6.0->ipywidgets<8,>=7.0.0->keplergl==0.3.2->databricks-mosaic) (4.1.0)\nRequirement already satisfied: testpath in /databricks/python3/lib/python3.9/site-packages (from nbconvert->notebook>=4.4.1->widgetsnbextension~=3.6.0->ipywidgets<8,>=7.0.0->keplergl==0.3.2->databricks-mosaic) (0.5.0)\nRequirement already satisfied: pandocfilters>=1.4.1 in /databricks/python3/lib/python3.9/site-packages (from nbconvert->notebook>=4.4.1->widgetsnbextension~=3.6.0->ipywidgets<8,>=7.0.0->keplergl==0.3.2->databricks-mosaic) (1.5.0)\nRequirement already satisfied: defusedxml in /databricks/python3/lib/python3.9/site-packages (from nbconvert->notebook>=4.4.1->widgetsnbextension~=3.6.0->ipywidgets<8,>=7.0.0->keplergl==0.3.2->databricks-mosaic) (0.7.1)\nRequirement already satisfied: nbclient<0.6.0,>=0.5.0 in /databricks/python3/lib/python3.9/site-packages (from nbconvert->notebook>=4.4.1->widgetsnbextension~=3.6.0->ipywidgets<8,>=7.0.0->keplergl==0.3.2->databricks-mosaic) (0.5.13)\nRequirement already satisfied: beautifulsoup4 in /databricks/python3/lib/python3.9/site-packages (from nbconvert->notebook>=4.4.1->widgetsnbextension~=3.6.0->ipywidgets<8,>=7.0.0->keplergl==0.3.2->databricks-mosaic) (4.11.1)\nRequirement already satisfied: jupyterlab-pygments in /databricks/python3/lib/python3.9/site-packages (from nbconvert->notebook>=4.4.1->widgetsnbextension~=3.6.0->ipywidgets<8,>=7.0.0->keplergl==0.3.2->databricks-mosaic) (0.1.2)\nRequirement already satisfied: mistune<2,>=0.8.1 in /databricks/python3/lib/python3.9/site-packages (from nbconvert->notebook>=4.4.1->widgetsnbextension~=3.6.0->ipywidgets<8,>=7.0.0->keplergl==0.3.2->databricks-mosaic) (0.8.4)\nRequirement already satisfied: fastjsonschema in /databricks/python3/lib/python3.9/site-packages (from nbformat->notebook>=4.4.1->widgetsnbextension~=3.6.0->ipywidgets<8,>=7.0.0->keplergl==0.3.2->databricks-mosaic) (2.16.2)\nRequirement already satisfied: jsonschema>=2.6 in /databricks/python3/lib/python3.9/site-packages (from nbformat->notebook>=4.4.1->widgetsnbextension~=3.6.0->ipywidgets<8,>=7.0.0->keplergl==0.3.2->databricks-mosaic) (4.4.0)\nRequirement already satisfied: pyrsistent!=0.17.0,!=0.17.1,!=0.17.2,>=0.14.0 in /databricks/python3/lib/python3.9/site-packages (from jsonschema>=2.6->nbformat->notebook>=4.4.1->widgetsnbextension~=3.6.0->ipywidgets<8,>=7.0.0->keplergl==0.3.2->databricks-mosaic) (0.18.0)\nRequirement already satisfied: soupsieve>1.2 in /databricks/python3/lib/python3.9/site-packages (from beautifulsoup4->nbconvert->notebook>=4.4.1->widgetsnbextension~=3.6.0->ipywidgets<8,>=7.0.0->keplergl==0.3.2->databricks-mosaic) (2.3.1)\nRequirement already satisfied: webencodings in /databricks/python3/lib/python3.9/site-packages (from bleach->nbconvert->notebook>=4.4.1->widgetsnbextension~=3.6.0->ipywidgets<8,>=7.0.0->keplergl==0.3.2->databricks-mosaic) (0.5.1)\nRequirement already satisfied: pyparsing!=3.0.5,>=2.0.2 in /databricks/python3/lib/python3.9/site-packages (from packaging->geopandas==0.14.3) (3.0.4)\nRequirement already satisfied: executing in /databricks/python3/lib/python3.9/site-packages (from stack-data->ipython>=4.0.0->ipywidgets<8,>=7.0.0->keplergl==0.3.2->databricks-mosaic) (0.8.3)\nRequirement already satisfied: pure-eval in /databricks/python3/lib/python3.9/site-packages (from stack-data->ipython>=4.0.0->ipywidgets<8,>=7.0.0->keplergl==0.3.2->databricks-mosaic) (0.2.2)\nRequirement already satisfied: asttokens in /databricks/python3/lib/python3.9/site-packages (from stack-data->ipython>=4.0.0->ipywidgets<8,>=7.0.0->keplergl==0.3.2->databricks-mosaic) (2.0.5)\nPython interpreter will be restarted.\n"
     ]
    }
   ],
   "source": [
    "%pip install geopandas==0.14.3 databricks-mosaic"
   ]
  },
  {
   "cell_type": "code",
   "execution_count": 0,
   "metadata": {
    "application/vnd.databricks.v1+cell": {
     "cellMetadata": {
      "byteLimit": 2048000,
      "rowLimit": 10000
     },
     "inputWidgets": {},
     "nuid": "75f9e389-44a5-480f-bcae-6cc4f08ccce4",
     "showTitle": false,
     "tableResultSettingsMap": {},
     "title": ""
    }
   },
   "outputs": [],
   "source": [
    "from pyspark.sql.functions import *"
   ]
  },
  {
   "cell_type": "code",
   "execution_count": 0,
   "metadata": {
    "application/vnd.databricks.v1+cell": {
     "cellMetadata": {
      "byteLimit": 2048000,
      "rowLimit": 10000
     },
     "inputWidgets": {},
     "nuid": "4bca33e5-32d1-4fc9-8d87-8f97bdde5765",
     "showTitle": false,
     "tableResultSettingsMap": {},
     "title": ""
    }
   },
   "outputs": [
    {
     "output_type": "stream",
     "name": "stdout",
     "output_type": "stream",
     "text": [
      "\n            DEPRECATION WARNING: \n                Please use a Databricks:\n                    - Photon-enabled Runtime for performance benefits\n                    - Runtime ML for spatial AI benefits\n                Mosaic will stop working on this cluster after v0.3.x.\n"
     ]
    }
   ],
   "source": [
    "from mosaic import enable_mosaic\n",
    "enable_mosaic(spark, dbutils)"
   ]
  },
  {
   "cell_type": "code",
   "execution_count": 0,
   "metadata": {
    "application/vnd.databricks.v1+cell": {
     "cellMetadata": {
      "byteLimit": 2048000,
      "rowLimit": 10000
     },
     "inputWidgets": {},
     "nuid": "13483fe4-c35b-42fe-8eb6-fc7841309810",
     "showTitle": false,
     "tableResultSettingsMap": {},
     "title": ""
    }
   },
   "outputs": [
    {
     "output_type": "stream",
     "name": "stdout",
     "output_type": "stream",
     "text": [
      "+--------------------+-----------------+\n|            features|             type|\n+--------------------+-----------------+\n|[{{[[[20.45543129...|FeatureCollection|\n+--------------------+-----------------+\n\n"
     ]
    }
   ],
   "source": [
    "geoDF = (\n",
    "  spark.read.format(\"json\")\n",
    "  .load(\"dbfs:/FileStore/map.geojson\")\n",
    ")\n",
    "geoDF.show()"
   ]
  },
  {
   "cell_type": "code",
   "execution_count": 0,
   "metadata": {
    "application/vnd.databricks.v1+cell": {
     "cellMetadata": {
      "byteLimit": 2048000,
      "rowLimit": 10000
     },
     "inputWidgets": {},
     "nuid": "29efb9c2-12e5-49d6-8d9c-6c0341e84419",
     "showTitle": false,
     "tableResultSettingsMap": {},
     "title": ""
    }
   },
   "outputs": [
    {
     "output_type": "display_data",
     "data": {
      "text/html": [
       "<style scoped>\n",
       "  .table-result-container {\n",
       "    max-height: 300px;\n",
       "    overflow: auto;\n",
       "  }\n",
       "  table, th, td {\n",
       "    border: 1px solid black;\n",
       "    border-collapse: collapse;\n",
       "  }\n",
       "  th, td {\n",
       "    padding: 5px;\n",
       "  }\n",
       "  th {\n",
       "    text-align: left;\n",
       "  }\n",
       "</style><div class='table-result-container'><table class='table-result'><thead style='background-color: white'><tr><th>raw_geometry</th></tr></thead><tbody><tr><td>List(List(List(List(20.455431296344386, 50.079930179734646), List(20.455431296344386, 49.89022550478154), List(20.784936593937516, 49.89022550478154), List(20.784936593937516, 50.079930179734646), List(20.455431296344386, 50.079930179734646))), Polygon)</td></tr></tbody></table></div>"
      ]
     },
     "metadata": {
      "application/vnd.databricks.v1+output": {
       "addedWidgets": {},
       "aggData": [],
       "aggError": "",
       "aggOverflow": false,
       "aggSchema": [],
       "aggSeriesLimitReached": false,
       "aggType": "",
       "arguments": {},
       "columnCustomDisplayInfos": {},
       "data": [
        [
         [
          [
           [
            [
             20.455431296344386,
             50.079930179734646
            ],
            [
             20.455431296344386,
             49.89022550478154
            ],
            [
             20.784936593937516,
             49.89022550478154
            ],
            [
             20.784936593937516,
             50.079930179734646
            ],
            [
             20.455431296344386,
             50.079930179734646
            ]
           ]
          ],
          "Polygon"
         ]
        ]
       ],
       "datasetInfos": [],
       "dbfsResultPath": null,
       "isJsonSchema": true,
       "metadata": {},
       "overflow": false,
       "plotOptions": {
        "customPlotOptions": {},
        "displayType": "table",
        "pivotAggregation": null,
        "pivotColumns": null,
        "xColumns": null,
        "yColumns": null
       },
       "removedWidgets": [],
       "schema": [
        {
         "metadata": "{}",
         "name": "raw_geometry",
         "type": "{\"type\":\"struct\",\"fields\":[{\"name\":\"coordinates\",\"type\":{\"type\":\"array\",\"elementType\":{\"type\":\"array\",\"elementType\":{\"type\":\"array\",\"elementType\":\"double\",\"containsNull\":true},\"containsNull\":true},\"containsNull\":true},\"nullable\":true,\"metadata\":{}},{\"name\":\"type\",\"type\":\"string\",\"nullable\":true,\"metadata\":{}}]}"
        }
       ],
       "type": "table"
      }
     },
     "output_type": "display_data"
    }
   ],
   "source": [
    "geoDF = geoDF.select(explode(\"features\").alias(\"feature\"))\n",
    "\n",
    "geoDF = geoDF.select(\n",
    "    geoDF.feature.geometry.alias(\"raw_geometry\")\n",
    ")\n",
    "\n",
    "geoDF.display()"
   ]
  },
  {
   "cell_type": "code",
   "execution_count": 0,
   "metadata": {
    "application/vnd.databricks.v1+cell": {
     "cellMetadata": {
      "byteLimit": 2048000,
      "rowLimit": 10000
     },
     "inputWidgets": {},
     "nuid": "38ed29a5-5ce5-435a-bb6e-f72ec3f446f7",
     "showTitle": false,
     "tableResultSettingsMap": {},
     "title": ""
    }
   },
   "outputs": [
    {
     "output_type": "display_data",
     "data": {
      "text/html": [
       "<style scoped>\n",
       "  .table-result-container {\n",
       "    max-height: 300px;\n",
       "    overflow: auto;\n",
       "  }\n",
       "  table, th, td {\n",
       "    border: 1px solid black;\n",
       "    border-collapse: collapse;\n",
       "  }\n",
       "  th, td {\n",
       "    padding: 5px;\n",
       "  }\n",
       "  th {\n",
       "    text-align: left;\n",
       "  }\n",
       "</style><div class='table-result-container'><table class='table-result'><thead style='background-color: white'><tr><th>raw_geometry</th><th>geometry</th></tr></thead><tbody><tr><td>List(List(List(List(20.455431296344386, 50.079930179734646), List(20.455431296344386, 49.89022550478154), List(20.784936593937516, 49.89022550478154), List(20.784936593937516, 50.079930179734646), List(20.455431296344386, 50.079930179734646))), Polygon)</td><td>List(5, 4326, List(List(List(20.455431296344386, 50.079930179734646), List(20.455431296344386, 49.89022550478154), List(20.784936593937516, 49.89022550478154), List(20.784936593937516, 50.079930179734646), List(20.455431296344386, 50.079930179734646))), List(List()))</td></tr></tbody></table></div>"
      ]
     },
     "metadata": {
      "application/vnd.databricks.v1+output": {
       "addedWidgets": {},
       "aggData": [],
       "aggError": "",
       "aggOverflow": false,
       "aggSchema": [],
       "aggSeriesLimitReached": false,
       "aggType": "",
       "arguments": {},
       "columnCustomDisplayInfos": {},
       "data": [
        [
         [
          [
           [
            [
             20.455431296344386,
             50.079930179734646
            ],
            [
             20.455431296344386,
             49.89022550478154
            ],
            [
             20.784936593937516,
             49.89022550478154
            ],
            [
             20.784936593937516,
             50.079930179734646
            ],
            [
             20.455431296344386,
             50.079930179734646
            ]
           ]
          ],
          "Polygon"
         ],
         [
          5,
          4326,
          [
           [
            [
             20.455431296344386,
             50.079930179734646
            ],
            [
             20.455431296344386,
             49.89022550478154
            ],
            [
             20.784936593937516,
             49.89022550478154
            ],
            [
             20.784936593937516,
             50.079930179734646
            ],
            [
             20.455431296344386,
             50.079930179734646
            ]
           ]
          ],
          [
           []
          ]
         ]
        ]
       ],
       "datasetInfos": [],
       "dbfsResultPath": null,
       "isJsonSchema": true,
       "metadata": {},
       "overflow": false,
       "plotOptions": {
        "customPlotOptions": {},
        "displayType": "table",
        "pivotAggregation": null,
        "pivotColumns": null,
        "xColumns": null,
        "yColumns": null
       },
       "removedWidgets": [],
       "schema": [
        {
         "metadata": "{}",
         "name": "raw_geometry",
         "type": "{\"type\":\"struct\",\"fields\":[{\"name\":\"coordinates\",\"type\":{\"type\":\"array\",\"elementType\":{\"type\":\"array\",\"elementType\":{\"type\":\"array\",\"elementType\":\"double\",\"containsNull\":true},\"containsNull\":true},\"containsNull\":true},\"nullable\":true,\"metadata\":{}},{\"name\":\"type\",\"type\":\"string\",\"nullable\":true,\"metadata\":{}}]}"
        },
        {
         "metadata": "{}",
         "name": "geometry",
         "type": "{\"type\":\"struct\",\"fields\":[{\"name\":\"type_id\",\"type\":\"integer\",\"nullable\":true,\"metadata\":{}},{\"name\":\"srid\",\"type\":\"integer\",\"nullable\":true,\"metadata\":{}},{\"name\":\"boundary\",\"type\":{\"type\":\"array\",\"elementType\":{\"type\":\"array\",\"elementType\":{\"type\":\"array\",\"elementType\":\"double\",\"containsNull\":true},\"containsNull\":true},\"containsNull\":true},\"nullable\":true,\"metadata\":{}},{\"name\":\"holes\",\"type\":{\"type\":\"array\",\"elementType\":{\"type\":\"array\",\"elementType\":{\"type\":\"array\",\"elementType\":{\"type\":\"array\",\"elementType\":\"double\",\"containsNull\":true},\"containsNull\":true},\"containsNull\":true},\"containsNull\":true},\"nullable\":true,\"metadata\":{}}]}"
        }
       ],
       "type": "table"
      }
     },
     "output_type": "display_data"
    }
   ],
   "source": [
    "from mosaic import st_geomfromgeojson\n",
    "\n",
    "geoDF = geoDF.withColumn(\"geometry\", st_geomfromgeojson(to_json(\"raw_geometry\")))\n",
    "\n",
    "geoDF.display()"
   ]
  },
  {
   "cell_type": "code",
   "execution_count": 0,
   "metadata": {
    "application/vnd.databricks.v1+cell": {
     "cellMetadata": {
      "byteLimit": 2048000,
      "rowLimit": 10000
     },
     "inputWidgets": {},
     "nuid": "cb8b0f51-6b9d-4833-87b2-f2131a4a50c4",
     "showTitle": false,
     "tableResultSettingsMap": {},
     "title": ""
    }
   },
   "outputs": [
    {
     "output_type": "stream",
     "name": "stdout",
     "output_type": "stream",
     "text": [
      "+--------------------+-------------------+-------------------+-------------+----------+\n|            geometry|     calculatedArea|   calculatedLength|containsPoint|intersects|\n+--------------------+-------------------+-------------------+-------------+----------+\n|{5, 4326, [[[20.4...|0.06250869537523107|0.49519405557451796|         true|     false|\n+--------------------+-------------------+-------------------+-------------+----------+\n\n"
     ]
    }
   ],
   "source": [
    "from mosaic import st_point, st_area, st_distance, st_contains, st_intersects\n",
    "pt = st_point(lit(21.238944752863773), lit(49.69250412428684))\n",
    "olimpia = st_point(lit(20.621880800952454), lit(50.03471571202331))\n",
    "          \n",
    "(\n",
    "  geoDF\n",
    "  .withColumn(\"calculatedArea\", abs(st_area(\"geometry\")))\n",
    "  .withColumn(\"calculatedLength\", st_distance(\"geometry\", pt))\n",
    "  .withColumn(\"containsPoint\", st_contains(\"geometry\", olimpia))\n",
    "  .withColumn(\"intersects\", st_intersects(pt, olimpia))\n",
    "  .select(\"geometry\", \"calculatedArea\", \"calculatedLength\", \"containsPoint\", \"intersects\")\n",
    ").show()"
   ]
  }
 ],
 "metadata": {
  "application/vnd.databricks.v1+notebook": {
   "computePreferences": null,
   "dashboards": [],
   "environmentMetadata": {
    "base_environment": "",
    "environment_version": "1"
   },
   "inputWidgetPreferences": null,
   "language": "python",
   "notebookMetadata": {
    "pythonIndentUnit": 4
   },
   "notebookName": "Zadanie",
   "widgets": {}
  }
 },
 "nbformat": 4,
 "nbformat_minor": 0
}