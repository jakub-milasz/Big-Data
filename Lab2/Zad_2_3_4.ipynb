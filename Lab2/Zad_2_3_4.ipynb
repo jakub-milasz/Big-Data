{
 "cells": [
  {
   "cell_type": "markdown",
   "metadata": {
    "application/vnd.databricks.v1+cell": {
     "cellMetadata": {},
     "inputWidgets": {},
     "nuid": "275114a6-047e-43ad-8746-33fbac757ca4",
     "showTitle": false,
     "tableResultSettingsMap": {},
     "title": ""
    }
   },
   "source": [
    "## Zadanie 2"
   ]
  },
  {
   "cell_type": "code",
   "execution_count": 0,
   "metadata": {
    "application/vnd.databricks.v1+cell": {
     "cellMetadata": {
      "byteLimit": 2048000,
      "rowLimit": 10000
     },
     "inputWidgets": {},
     "nuid": "85b885d3-6f7a-41d6-838d-221e3b940974",
     "showTitle": false,
     "tableResultSettingsMap": {},
     "title": ""
    }
   },
   "outputs": [
    {
     "output_type": "display_data",
     "data": {
      "text/html": [
       "<style scoped>\n",
       "  .table-result-container {\n",
       "    max-height: 300px;\n",
       "    overflow: auto;\n",
       "  }\n",
       "  table, th, td {\n",
       "    border: 1px solid black;\n",
       "    border-collapse: collapse;\n",
       "  }\n",
       "  th, td {\n",
       "    padding: 5px;\n",
       "  }\n",
       "  th {\n",
       "    text-align: left;\n",
       "  }\n",
       "</style><div class='table-result-container'><table class='table-result'><thead style='background-color: white'><tr><th>imdb_title_id</th><th>ordering</th><th>imdb_name_id</th><th>category</th><th>job</th><th>characters</th></tr></thead><tbody><tr><td>tt0000009</td><td>1</td><td>nm0063086</td><td>actress</td><td>null</td><td>[Miss Geraldine Holbrook (Miss Jerry)]</td></tr><tr><td>tt0000009</td><td>2</td><td>nm0183823</td><td>actor</td><td>null</td><td>[Mr. Hamilton]</td></tr><tr><td>tt0000009</td><td>3</td><td>nm1309758</td><td>actor</td><td>null</td><td>[Chauncey Depew - the Director of the New York Central Railroad]</td></tr><tr><td>tt0000009</td><td>4</td><td>nm0085156</td><td>director</td><td>null</td><td>null</td></tr><tr><td>tt0000574</td><td>1</td><td>nm0846887</td><td>actress</td><td>null</td><td>[Kate Kelly]</td></tr><tr><td>tt0000574</td><td>2</td><td>nm0846894</td><td>actor</td><td>null</td><td>[School Master]</td></tr><tr><td>tt0000574</td><td>3</td><td>nm3002376</td><td>actor</td><td>null</td><td>[Steve Hart]</td></tr><tr><td>tt0000574</td><td>4</td><td>nm0170118</td><td>actress</td><td>null</td><td>null</td></tr><tr><td>tt0000574</td><td>5</td><td>nm0846879</td><td>director</td><td>null</td><td>null</td></tr><tr><td>tt0000574</td><td>6</td><td>nm0317210</td><td>producer</td><td>producer</td><td>null</td></tr><tr><td>tt0000574</td><td>7</td><td>nm0425854</td><td>producer</td><td>producer</td><td>null</td></tr><tr><td>tt0000574</td><td>8</td><td>nm0846911</td><td>producer</td><td>producer</td><td>null</td></tr><tr><td>tt0000574</td><td>9</td><td>nm2421834</td><td>composer</td><td>null</td><td>null</td></tr><tr><td>tt0000574</td><td>10</td><td>nm0675239</td><td>cinematographer</td><td>null</td><td>null</td></tr><tr><td>tt0001892</td><td>1</td><td>nm0003425</td><td>actress</td><td>null</td><td>[Stella]</td></tr><tr><td>tt0001892</td><td>2</td><td>nm0699637</td><td>actor</td><td>null</td><td>[Grev Johan Waldberg]</td></tr><tr><td>tt0001892</td><td>3</td><td>nm0375839</td><td>actor</td><td>null</td><td>[Hofjuveler A. Hirsch]</td></tr><tr><td>tt0001892</td><td>4</td><td>nm0016799</td><td>actor</td><td>null</td><td>null</td></tr><tr><td>tt0001892</td><td>5</td><td>nm0300487</td><td>director</td><td>null</td><td>null</td></tr><tr><td>tt0001892</td><td>6</td><td>nm2131092</td><td>writer</td><td>screenplay</td><td>null</td></tr></tbody></table></div>"
      ]
     },
     "metadata": {
      "application/vnd.databricks.v1+output": {
       "addedWidgets": {},
       "aggData": [],
       "aggError": "",
       "aggOverflow": false,
       "aggSchema": [],
       "aggSeriesLimitReached": false,
       "aggType": "",
       "arguments": {},
       "columnCustomDisplayInfos": {},
       "data": [
        [
         "tt0000009",
         1,
         "nm0063086",
         "actress",
         null,
         "[Miss Geraldine Holbrook (Miss Jerry)]"
        ],
        [
         "tt0000009",
         2,
         "nm0183823",
         "actor",
         null,
         "[Mr. Hamilton]"
        ],
        [
         "tt0000009",
         3,
         "nm1309758",
         "actor",
         null,
         "[Chauncey Depew - the Director of the New York Central Railroad]"
        ],
        [
         "tt0000009",
         4,
         "nm0085156",
         "director",
         null,
         null
        ],
        [
         "tt0000574",
         1,
         "nm0846887",
         "actress",
         null,
         "[Kate Kelly]"
        ],
        [
         "tt0000574",
         2,
         "nm0846894",
         "actor",
         null,
         "[School Master]"
        ],
        [
         "tt0000574",
         3,
         "nm3002376",
         "actor",
         null,
         "[Steve Hart]"
        ],
        [
         "tt0000574",
         4,
         "nm0170118",
         "actress",
         null,
         null
        ],
        [
         "tt0000574",
         5,
         "nm0846879",
         "director",
         null,
         null
        ],
        [
         "tt0000574",
         6,
         "nm0317210",
         "producer",
         "producer",
         null
        ],
        [
         "tt0000574",
         7,
         "nm0425854",
         "producer",
         "producer",
         null
        ],
        [
         "tt0000574",
         8,
         "nm0846911",
         "producer",
         "producer",
         null
        ],
        [
         "tt0000574",
         9,
         "nm2421834",
         "composer",
         null,
         null
        ],
        [
         "tt0000574",
         10,
         "nm0675239",
         "cinematographer",
         null,
         null
        ],
        [
         "tt0001892",
         1,
         "nm0003425",
         "actress",
         null,
         "[Stella]"
        ],
        [
         "tt0001892",
         2,
         "nm0699637",
         "actor",
         null,
         "[Grev Johan Waldberg]"
        ],
        [
         "tt0001892",
         3,
         "nm0375839",
         "actor",
         null,
         "[Hofjuveler A. Hirsch]"
        ],
        [
         "tt0001892",
         4,
         "nm0016799",
         "actor",
         null,
         null
        ],
        [
         "tt0001892",
         5,
         "nm0300487",
         "director",
         null,
         null
        ],
        [
         "tt0001892",
         6,
         "nm2131092",
         "writer",
         "screenplay",
         null
        ]
       ],
       "datasetInfos": [],
       "dbfsResultPath": null,
       "isJsonSchema": true,
       "metadata": {},
       "overflow": false,
       "plotOptions": {
        "customPlotOptions": {},
        "displayType": "table",
        "pivotAggregation": null,
        "pivotColumns": null,
        "xColumns": null,
        "yColumns": null
       },
       "removedWidgets": [],
       "schema": [
        {
         "metadata": "{}",
         "name": "imdb_title_id",
         "type": "\"string\""
        },
        {
         "metadata": "{}",
         "name": "ordering",
         "type": "\"integer\""
        },
        {
         "metadata": "{}",
         "name": "imdb_name_id",
         "type": "\"string\""
        },
        {
         "metadata": "{}",
         "name": "category",
         "type": "\"string\""
        },
        {
         "metadata": "{}",
         "name": "job",
         "type": "\"string\""
        },
        {
         "metadata": "{}",
         "name": "characters",
         "type": "\"string\""
        }
       ],
       "type": "table"
      }
     },
     "output_type": "display_data"
    }
   ],
   "source": [
    "actorsPath = \"dbfs:/FileStore/tables/Files/actors.csv\"\n",
    "actorsDf = spark.read.format(\"csv\").option(\"header\",\"true\").option(\"inferSchema\",\"true\").load(actorsPath)\n",
    "display(actorsDf.limit(20))"
   ]
  },
  {
   "cell_type": "code",
   "execution_count": 0,
   "metadata": {
    "application/vnd.databricks.v1+cell": {
     "cellMetadata": {
      "byteLimit": 2048000,
      "rowLimit": 10000
     },
     "inputWidgets": {},
     "nuid": "6cbb271b-5304-49fc-8259-3f2dfa085fe5",
     "showTitle": false,
     "tableResultSettingsMap": {},
     "title": ""
    }
   },
   "outputs": [],
   "source": [
    "from pyspark.sql.types import StructType, StructField, IntegerType, StringType\n",
    "actors_schema = StructType([\n",
    "    StructField(\"imdb_title_id\", StringType(), True),  \n",
    "    StructField(\"ordering\", IntegerType(), True),  \n",
    "    StructField(\"imdb_name_id\", StringType(), True),  \n",
    "    StructField(\"category\", StringType(), True),  \n",
    "    StructField(\"job\", StringType(), True),\n",
    "    StructField(\"characters\", StringType(), True)\n",
    "])"
   ]
  },
  {
   "cell_type": "code",
   "execution_count": 0,
   "metadata": {
    "application/vnd.databricks.v1+cell": {
     "cellMetadata": {
      "byteLimit": 2048000,
      "rowLimit": 10000
     },
     "inputWidgets": {},
     "nuid": "ab2f692b-d0dd-4939-8e04-47597e628e4a",
     "showTitle": false,
     "tableResultSettingsMap": {},
     "title": ""
    }
   },
   "outputs": [
    {
     "output_type": "display_data",
     "data": {
      "text/html": [
       "<style scoped>\n",
       "  .table-result-container {\n",
       "    max-height: 300px;\n",
       "    overflow: auto;\n",
       "  }\n",
       "  table, th, td {\n",
       "    border: 1px solid black;\n",
       "    border-collapse: collapse;\n",
       "  }\n",
       "  th, td {\n",
       "    padding: 5px;\n",
       "  }\n",
       "  th {\n",
       "    text-align: left;\n",
       "  }\n",
       "</style><div class='table-result-container'><table class='table-result'><thead style='background-color: white'><tr><th>imdb_title_id</th><th>ordering</th><th>imdb_name_id</th><th>category</th><th>job</th><th>characters</th></tr></thead><tbody><tr><td>tt0000009</td><td>1</td><td>nm0063086</td><td>actress</td><td>null</td><td>[Miss Geraldine Holbrook (Miss Jerry)]</td></tr><tr><td>tt0000009</td><td>2</td><td>nm0183823</td><td>actor</td><td>null</td><td>[Mr. Hamilton]</td></tr><tr><td>tt0000009</td><td>3</td><td>nm1309758</td><td>actor</td><td>null</td><td>[Chauncey Depew - the Director of the New York Central Railroad]</td></tr><tr><td>tt0000009</td><td>4</td><td>nm0085156</td><td>director</td><td>null</td><td>null</td></tr><tr><td>tt0000574</td><td>1</td><td>nm0846887</td><td>actress</td><td>null</td><td>[Kate Kelly]</td></tr><tr><td>tt0000574</td><td>2</td><td>nm0846894</td><td>actor</td><td>null</td><td>[School Master]</td></tr><tr><td>tt0000574</td><td>3</td><td>nm3002376</td><td>actor</td><td>null</td><td>[Steve Hart]</td></tr><tr><td>tt0000574</td><td>4</td><td>nm0170118</td><td>actress</td><td>null</td><td>null</td></tr><tr><td>tt0000574</td><td>5</td><td>nm0846879</td><td>director</td><td>null</td><td>null</td></tr><tr><td>tt0000574</td><td>6</td><td>nm0317210</td><td>producer</td><td>producer</td><td>null</td></tr><tr><td>tt0000574</td><td>7</td><td>nm0425854</td><td>producer</td><td>producer</td><td>null</td></tr><tr><td>tt0000574</td><td>8</td><td>nm0846911</td><td>producer</td><td>producer</td><td>null</td></tr><tr><td>tt0000574</td><td>9</td><td>nm2421834</td><td>composer</td><td>null</td><td>null</td></tr><tr><td>tt0000574</td><td>10</td><td>nm0675239</td><td>cinematographer</td><td>null</td><td>null</td></tr><tr><td>tt0001892</td><td>1</td><td>nm0003425</td><td>actress</td><td>null</td><td>[Stella]</td></tr><tr><td>tt0001892</td><td>2</td><td>nm0699637</td><td>actor</td><td>null</td><td>[Grev Johan Waldberg]</td></tr><tr><td>tt0001892</td><td>3</td><td>nm0375839</td><td>actor</td><td>null</td><td>[Hofjuveler A. Hirsch]</td></tr><tr><td>tt0001892</td><td>4</td><td>nm0016799</td><td>actor</td><td>null</td><td>null</td></tr><tr><td>tt0001892</td><td>5</td><td>nm0300487</td><td>director</td><td>null</td><td>null</td></tr><tr><td>tt0001892</td><td>6</td><td>nm2131092</td><td>writer</td><td>screenplay</td><td>null</td></tr></tbody></table></div>"
      ]
     },
     "metadata": {
      "application/vnd.databricks.v1+output": {
       "addedWidgets": {},
       "aggData": [],
       "aggError": "",
       "aggOverflow": false,
       "aggSchema": [],
       "aggSeriesLimitReached": false,
       "aggType": "",
       "arguments": {},
       "columnCustomDisplayInfos": {},
       "data": [
        [
         "tt0000009",
         1,
         "nm0063086",
         "actress",
         null,
         "[Miss Geraldine Holbrook (Miss Jerry)]"
        ],
        [
         "tt0000009",
         2,
         "nm0183823",
         "actor",
         null,
         "[Mr. Hamilton]"
        ],
        [
         "tt0000009",
         3,
         "nm1309758",
         "actor",
         null,
         "[Chauncey Depew - the Director of the New York Central Railroad]"
        ],
        [
         "tt0000009",
         4,
         "nm0085156",
         "director",
         null,
         null
        ],
        [
         "tt0000574",
         1,
         "nm0846887",
         "actress",
         null,
         "[Kate Kelly]"
        ],
        [
         "tt0000574",
         2,
         "nm0846894",
         "actor",
         null,
         "[School Master]"
        ],
        [
         "tt0000574",
         3,
         "nm3002376",
         "actor",
         null,
         "[Steve Hart]"
        ],
        [
         "tt0000574",
         4,
         "nm0170118",
         "actress",
         null,
         null
        ],
        [
         "tt0000574",
         5,
         "nm0846879",
         "director",
         null,
         null
        ],
        [
         "tt0000574",
         6,
         "nm0317210",
         "producer",
         "producer",
         null
        ],
        [
         "tt0000574",
         7,
         "nm0425854",
         "producer",
         "producer",
         null
        ],
        [
         "tt0000574",
         8,
         "nm0846911",
         "producer",
         "producer",
         null
        ],
        [
         "tt0000574",
         9,
         "nm2421834",
         "composer",
         null,
         null
        ],
        [
         "tt0000574",
         10,
         "nm0675239",
         "cinematographer",
         null,
         null
        ],
        [
         "tt0001892",
         1,
         "nm0003425",
         "actress",
         null,
         "[Stella]"
        ],
        [
         "tt0001892",
         2,
         "nm0699637",
         "actor",
         null,
         "[Grev Johan Waldberg]"
        ],
        [
         "tt0001892",
         3,
         "nm0375839",
         "actor",
         null,
         "[Hofjuveler A. Hirsch]"
        ],
        [
         "tt0001892",
         4,
         "nm0016799",
         "actor",
         null,
         null
        ],
        [
         "tt0001892",
         5,
         "nm0300487",
         "director",
         null,
         null
        ],
        [
         "tt0001892",
         6,
         "nm2131092",
         "writer",
         "screenplay",
         null
        ]
       ],
       "datasetInfos": [],
       "dbfsResultPath": null,
       "isJsonSchema": true,
       "metadata": {},
       "overflow": false,
       "plotOptions": {
        "customPlotOptions": {},
        "displayType": "table",
        "pivotAggregation": null,
        "pivotColumns": null,
        "xColumns": null,
        "yColumns": null
       },
       "removedWidgets": [],
       "schema": [
        {
         "metadata": "{}",
         "name": "imdb_title_id",
         "type": "\"string\""
        },
        {
         "metadata": "{}",
         "name": "ordering",
         "type": "\"integer\""
        },
        {
         "metadata": "{}",
         "name": "imdb_name_id",
         "type": "\"string\""
        },
        {
         "metadata": "{}",
         "name": "category",
         "type": "\"string\""
        },
        {
         "metadata": "{}",
         "name": "job",
         "type": "\"string\""
        },
        {
         "metadata": "{}",
         "name": "characters",
         "type": "\"string\""
        }
       ],
       "type": "table"
      }
     },
     "output_type": "display_data"
    }
   ],
   "source": [
    "actorsDfSchema = spark.read.format(\"csv\").option(\"header\", \"true\").schema(actors_schema).load(actorsPath)\n",
    "display(actorsDfSchema.limit(20))"
   ]
  },
  {
   "cell_type": "markdown",
   "metadata": {
    "application/vnd.databricks.v1+cell": {
     "cellMetadata": {},
     "inputWidgets": {},
     "nuid": "c88b5176-68df-4b3d-a2b6-a7a2f967b2e5",
     "showTitle": false,
     "tableResultSettingsMap": {},
     "title": ""
    }
   },
   "source": [
    "## Zadanie 3"
   ]
  },
  {
   "cell_type": "code",
   "execution_count": 0,
   "metadata": {
    "application/vnd.databricks.v1+cell": {
     "cellMetadata": {
      "byteLimit": 2048000,
      "rowLimit": 10000
     },
     "inputWidgets": {},
     "nuid": "c67592f9-a596-4b3e-99e6-10e13477c679",
     "showTitle": false,
     "tableResultSettingsMap": {},
     "title": ""
    }
   },
   "outputs": [],
   "source": [
    "# Wczytywanie na poprawnych plikach\n",
    "actorsPermissive = spark.read.format('csv').option(\"header\", \"true\").schema(actors_schema).option(\"mode\", \"PERMISSIVE\").load(actorsPath)\n",
    "actorsDropmalformed = spark.read.format('csv').option(\"header\", \"true\").schema(actors_schema).option(\"mode\", \"DROPMALFORMED\").load(actorsPath)\n",
    "actorsFailfast = spark.read.format('csv').option(\"header\", \"true\").schema(actors_schema).option(\"mode\", \"FAILFAST\").load(actorsPath)\n",
    "actorsBadRecords = spark.read.format(\"csv\").option(\"header\", \"true\").schema(actors_schema).option(\"badRecordsPath\", \"/mnt/source/badrecords\")"
   ]
  },
  {
   "cell_type": "code",
   "execution_count": 0,
   "metadata": {
    "application/vnd.databricks.v1+cell": {
     "cellMetadata": {
      "byteLimit": 2048000,
      "rowLimit": 10000
     },
     "inputWidgets": {},
     "nuid": "31610ed0-e4ea-4d03-ad00-33a793c974ba",
     "showTitle": false,
     "tableResultSettingsMap": {},
     "title": ""
    }
   },
   "outputs": [],
   "source": [
    "from pyspark.sql.functions import *\n",
    "# zepsucie plików\n",
    "actorsPermissive = actorsPermissive.withColumn(\"ordering\", when(col(\"ordering\") > 7, 'nan').otherwise(col(\"ordering\")))\n",
    "actorsPermissive.write.mode(\"overwrite\").csv(\"dbfs:/tmp/zeputy.csv\", header=True)"
   ]
  },
  {
   "cell_type": "code",
   "execution_count": 0,
   "metadata": {
    "application/vnd.databricks.v1+cell": {
     "cellMetadata": {
      "byteLimit": 2048000,
      "rowLimit": 10000
     },
     "inputWidgets": {},
     "nuid": "67e9b219-d13c-4917-8758-8ece71b3121b",
     "showTitle": false,
     "tableResultSettingsMap": {},
     "title": ""
    }
   },
   "outputs": [
    {
     "output_type": "display_data",
     "data": {
      "text/html": [
       "<style scoped>\n",
       "  .table-result-container {\n",
       "    max-height: 300px;\n",
       "    overflow: auto;\n",
       "  }\n",
       "  table, th, td {\n",
       "    border: 1px solid black;\n",
       "    border-collapse: collapse;\n",
       "  }\n",
       "  th, td {\n",
       "    padding: 5px;\n",
       "  }\n",
       "  th {\n",
       "    text-align: left;\n",
       "  }\n",
       "</style><div class='table-result-container'><table class='table-result'><thead style='background-color: white'><tr><th>imdb_title_id</th><th>ordering</th><th>imdb_name_id</th><th>category</th><th>job</th><th>characters</th></tr></thead><tbody><tr><td>tt0000009</td><td>1</td><td>nm0063086</td><td>actress</td><td>null</td><td>[Miss Geraldine Holbrook (Miss Jerry)]</td></tr><tr><td>tt0000009</td><td>2</td><td>nm0183823</td><td>actor</td><td>null</td><td>[Mr. Hamilton]</td></tr><tr><td>tt0000009</td><td>3</td><td>nm1309758</td><td>actor</td><td>null</td><td>[Chauncey Depew - the Director of the New York Central Railroad]</td></tr><tr><td>tt0000009</td><td>4</td><td>nm0085156</td><td>director</td><td>null</td><td>null</td></tr><tr><td>tt0000574</td><td>1</td><td>nm0846887</td><td>actress</td><td>null</td><td>[Kate Kelly]</td></tr><tr><td>tt0000574</td><td>2</td><td>nm0846894</td><td>actor</td><td>null</td><td>[School Master]</td></tr><tr><td>tt0000574</td><td>3</td><td>nm3002376</td><td>actor</td><td>null</td><td>[Steve Hart]</td></tr><tr><td>tt0000574</td><td>4</td><td>nm0170118</td><td>actress</td><td>null</td><td>null</td></tr><tr><td>tt0000574</td><td>5</td><td>nm0846879</td><td>director</td><td>null</td><td>null</td></tr><tr><td>tt0000574</td><td>6</td><td>nm0317210</td><td>producer</td><td>producer</td><td>null</td></tr><tr><td>tt0000574</td><td>7</td><td>nm0425854</td><td>producer</td><td>producer</td><td>null</td></tr><tr><td>tt0000574</td><td>null</td><td>nm0846911</td><td>producer</td><td>producer</td><td>null</td></tr><tr><td>tt0000574</td><td>null</td><td>nm2421834</td><td>composer</td><td>null</td><td>null</td></tr><tr><td>tt0000574</td><td>null</td><td>nm0675239</td><td>cinematographer</td><td>null</td><td>null</td></tr><tr><td>tt0001892</td><td>1</td><td>nm0003425</td><td>actress</td><td>null</td><td>[Stella]</td></tr><tr><td>tt0001892</td><td>2</td><td>nm0699637</td><td>actor</td><td>null</td><td>[Grev Johan Waldberg]</td></tr><tr><td>tt0001892</td><td>3</td><td>nm0375839</td><td>actor</td><td>null</td><td>[Hofjuveler A. Hirsch]</td></tr><tr><td>tt0001892</td><td>4</td><td>nm0016799</td><td>actor</td><td>null</td><td>null</td></tr><tr><td>tt0001892</td><td>5</td><td>nm0300487</td><td>director</td><td>null</td><td>null</td></tr><tr><td>tt0001892</td><td>6</td><td>nm2131092</td><td>writer</td><td>screenplay</td><td>null</td></tr></tbody></table></div>"
      ]
     },
     "metadata": {
      "application/vnd.databricks.v1+output": {
       "addedWidgets": {},
       "aggData": [],
       "aggError": "",
       "aggOverflow": false,
       "aggSchema": [],
       "aggSeriesLimitReached": false,
       "aggType": "",
       "arguments": {},
       "columnCustomDisplayInfos": {},
       "data": [
        [
         "tt0000009",
         1,
         "nm0063086",
         "actress",
         null,
         "[Miss Geraldine Holbrook (Miss Jerry)]"
        ],
        [
         "tt0000009",
         2,
         "nm0183823",
         "actor",
         null,
         "[Mr. Hamilton]"
        ],
        [
         "tt0000009",
         3,
         "nm1309758",
         "actor",
         null,
         "[Chauncey Depew - the Director of the New York Central Railroad]"
        ],
        [
         "tt0000009",
         4,
         "nm0085156",
         "director",
         null,
         null
        ],
        [
         "tt0000574",
         1,
         "nm0846887",
         "actress",
         null,
         "[Kate Kelly]"
        ],
        [
         "tt0000574",
         2,
         "nm0846894",
         "actor",
         null,
         "[School Master]"
        ],
        [
         "tt0000574",
         3,
         "nm3002376",
         "actor",
         null,
         "[Steve Hart]"
        ],
        [
         "tt0000574",
         4,
         "nm0170118",
         "actress",
         null,
         null
        ],
        [
         "tt0000574",
         5,
         "nm0846879",
         "director",
         null,
         null
        ],
        [
         "tt0000574",
         6,
         "nm0317210",
         "producer",
         "producer",
         null
        ],
        [
         "tt0000574",
         7,
         "nm0425854",
         "producer",
         "producer",
         null
        ],
        [
         "tt0000574",
         null,
         "nm0846911",
         "producer",
         "producer",
         null
        ],
        [
         "tt0000574",
         null,
         "nm2421834",
         "composer",
         null,
         null
        ],
        [
         "tt0000574",
         null,
         "nm0675239",
         "cinematographer",
         null,
         null
        ],
        [
         "tt0001892",
         1,
         "nm0003425",
         "actress",
         null,
         "[Stella]"
        ],
        [
         "tt0001892",
         2,
         "nm0699637",
         "actor",
         null,
         "[Grev Johan Waldberg]"
        ],
        [
         "tt0001892",
         3,
         "nm0375839",
         "actor",
         null,
         "[Hofjuveler A. Hirsch]"
        ],
        [
         "tt0001892",
         4,
         "nm0016799",
         "actor",
         null,
         null
        ],
        [
         "tt0001892",
         5,
         "nm0300487",
         "director",
         null,
         null
        ],
        [
         "tt0001892",
         6,
         "nm2131092",
         "writer",
         "screenplay",
         null
        ]
       ],
       "datasetInfos": [],
       "dbfsResultPath": null,
       "isJsonSchema": true,
       "metadata": {},
       "overflow": false,
       "plotOptions": {
        "customPlotOptions": {},
        "displayType": "table",
        "pivotAggregation": null,
        "pivotColumns": null,
        "xColumns": null,
        "yColumns": null
       },
       "removedWidgets": [],
       "schema": [
        {
         "metadata": "{}",
         "name": "imdb_title_id",
         "type": "\"string\""
        },
        {
         "metadata": "{}",
         "name": "ordering",
         "type": "\"integer\""
        },
        {
         "metadata": "{}",
         "name": "imdb_name_id",
         "type": "\"string\""
        },
        {
         "metadata": "{}",
         "name": "category",
         "type": "\"string\""
        },
        {
         "metadata": "{}",
         "name": "job",
         "type": "\"string\""
        },
        {
         "metadata": "{}",
         "name": "characters",
         "type": "\"string\""
        }
       ],
       "type": "table"
      }
     },
     "output_type": "display_data"
    }
   ],
   "source": [
    "crashedDfPermissive = spark.read.format('csv').option(\"header\", \"true\").schema(actors_schema).option(\"mode\", \"PERMISSIVE\").load(\"dbfs:/tmp/zeputy.csv\")\n",
    "display(crashedDfPermissive.limit(20)) # wartości null w kolumnie \"ordering\""
   ]
  },
  {
   "cell_type": "code",
   "execution_count": 0,
   "metadata": {
    "application/vnd.databricks.v1+cell": {
     "cellMetadata": {
      "byteLimit": 2048000,
      "rowLimit": 10000
     },
     "inputWidgets": {},
     "nuid": "74bd3894-292b-4883-a629-53f79f5c8831",
     "showTitle": false,
     "tableResultSettingsMap": {},
     "title": ""
    }
   },
   "outputs": [
    {
     "output_type": "display_data",
     "data": {
      "text/html": [
       "<style scoped>\n",
       "  .table-result-container {\n",
       "    max-height: 300px;\n",
       "    overflow: auto;\n",
       "  }\n",
       "  table, th, td {\n",
       "    border: 1px solid black;\n",
       "    border-collapse: collapse;\n",
       "  }\n",
       "  th, td {\n",
       "    padding: 5px;\n",
       "  }\n",
       "  th {\n",
       "    text-align: left;\n",
       "  }\n",
       "</style><div class='table-result-container'><table class='table-result'><thead style='background-color: white'><tr><th>imdb_title_id</th><th>ordering</th><th>imdb_name_id</th><th>category</th><th>job</th><th>characters</th></tr></thead><tbody><tr><td>tt0000009</td><td>1</td><td>nm0063086</td><td>actress</td><td>null</td><td>[Miss Geraldine Holbrook (Miss Jerry)]</td></tr><tr><td>tt0000009</td><td>2</td><td>nm0183823</td><td>actor</td><td>null</td><td>[Mr. Hamilton]</td></tr><tr><td>tt0000009</td><td>3</td><td>nm1309758</td><td>actor</td><td>null</td><td>[Chauncey Depew - the Director of the New York Central Railroad]</td></tr><tr><td>tt0000009</td><td>4</td><td>nm0085156</td><td>director</td><td>null</td><td>null</td></tr><tr><td>tt0000574</td><td>1</td><td>nm0846887</td><td>actress</td><td>null</td><td>[Kate Kelly]</td></tr><tr><td>tt0000574</td><td>2</td><td>nm0846894</td><td>actor</td><td>null</td><td>[School Master]</td></tr><tr><td>tt0000574</td><td>3</td><td>nm3002376</td><td>actor</td><td>null</td><td>[Steve Hart]</td></tr><tr><td>tt0000574</td><td>4</td><td>nm0170118</td><td>actress</td><td>null</td><td>null</td></tr><tr><td>tt0000574</td><td>5</td><td>nm0846879</td><td>director</td><td>null</td><td>null</td></tr><tr><td>tt0000574</td><td>6</td><td>nm0317210</td><td>producer</td><td>producer</td><td>null</td></tr><tr><td>tt0000574</td><td>7</td><td>nm0425854</td><td>producer</td><td>producer</td><td>null</td></tr><tr><td>tt0001892</td><td>1</td><td>nm0003425</td><td>actress</td><td>null</td><td>[Stella]</td></tr><tr><td>tt0001892</td><td>2</td><td>nm0699637</td><td>actor</td><td>null</td><td>[Grev Johan Waldberg]</td></tr><tr><td>tt0001892</td><td>3</td><td>nm0375839</td><td>actor</td><td>null</td><td>[Hofjuveler A. Hirsch]</td></tr><tr><td>tt0001892</td><td>4</td><td>nm0016799</td><td>actor</td><td>null</td><td>null</td></tr><tr><td>tt0001892</td><td>5</td><td>nm0300487</td><td>director</td><td>null</td><td>null</td></tr><tr><td>tt0001892</td><td>6</td><td>nm2131092</td><td>writer</td><td>screenplay</td><td>null</td></tr><tr><td>tt0001892</td><td>7</td><td>nm0423762</td><td>cinematographer</td><td>null</td><td>null</td></tr><tr><td>tt0002101</td><td>1</td><td>nm0306947</td><td>actress</td><td>null</td><td>[Cleopatra - Queen of Egypt]</td></tr><tr><td>tt0002101</td><td>2</td><td>nm0801774</td><td>actress</td><td>null</td><td>[Iras - An Attendant]</td></tr></tbody></table></div>"
      ]
     },
     "metadata": {
      "application/vnd.databricks.v1+output": {
       "addedWidgets": {},
       "aggData": [],
       "aggError": "",
       "aggOverflow": false,
       "aggSchema": [],
       "aggSeriesLimitReached": false,
       "aggType": "",
       "arguments": {},
       "columnCustomDisplayInfos": {},
       "data": [
        [
         "tt0000009",
         1,
         "nm0063086",
         "actress",
         null,
         "[Miss Geraldine Holbrook (Miss Jerry)]"
        ],
        [
         "tt0000009",
         2,
         "nm0183823",
         "actor",
         null,
         "[Mr. Hamilton]"
        ],
        [
         "tt0000009",
         3,
         "nm1309758",
         "actor",
         null,
         "[Chauncey Depew - the Director of the New York Central Railroad]"
        ],
        [
         "tt0000009",
         4,
         "nm0085156",
         "director",
         null,
         null
        ],
        [
         "tt0000574",
         1,
         "nm0846887",
         "actress",
         null,
         "[Kate Kelly]"
        ],
        [
         "tt0000574",
         2,
         "nm0846894",
         "actor",
         null,
         "[School Master]"
        ],
        [
         "tt0000574",
         3,
         "nm3002376",
         "actor",
         null,
         "[Steve Hart]"
        ],
        [
         "tt0000574",
         4,
         "nm0170118",
         "actress",
         null,
         null
        ],
        [
         "tt0000574",
         5,
         "nm0846879",
         "director",
         null,
         null
        ],
        [
         "tt0000574",
         6,
         "nm0317210",
         "producer",
         "producer",
         null
        ],
        [
         "tt0000574",
         7,
         "nm0425854",
         "producer",
         "producer",
         null
        ],
        [
         "tt0001892",
         1,
         "nm0003425",
         "actress",
         null,
         "[Stella]"
        ],
        [
         "tt0001892",
         2,
         "nm0699637",
         "actor",
         null,
         "[Grev Johan Waldberg]"
        ],
        [
         "tt0001892",
         3,
         "nm0375839",
         "actor",
         null,
         "[Hofjuveler A. Hirsch]"
        ],
        [
         "tt0001892",
         4,
         "nm0016799",
         "actor",
         null,
         null
        ],
        [
         "tt0001892",
         5,
         "nm0300487",
         "director",
         null,
         null
        ],
        [
         "tt0001892",
         6,
         "nm2131092",
         "writer",
         "screenplay",
         null
        ],
        [
         "tt0001892",
         7,
         "nm0423762",
         "cinematographer",
         null,
         null
        ],
        [
         "tt0002101",
         1,
         "nm0306947",
         "actress",
         null,
         "[Cleopatra - Queen of Egypt]"
        ],
        [
         "tt0002101",
         2,
         "nm0801774",
         "actress",
         null,
         "[Iras - An Attendant]"
        ]
       ],
       "datasetInfos": [],
       "dbfsResultPath": null,
       "isJsonSchema": true,
       "metadata": {},
       "overflow": false,
       "plotOptions": {
        "customPlotOptions": {},
        "displayType": "table",
        "pivotAggregation": null,
        "pivotColumns": null,
        "xColumns": null,
        "yColumns": null
       },
       "removedWidgets": [],
       "schema": [
        {
         "metadata": "{}",
         "name": "imdb_title_id",
         "type": "\"string\""
        },
        {
         "metadata": "{}",
         "name": "ordering",
         "type": "\"integer\""
        },
        {
         "metadata": "{}",
         "name": "imdb_name_id",
         "type": "\"string\""
        },
        {
         "metadata": "{}",
         "name": "category",
         "type": "\"string\""
        },
        {
         "metadata": "{}",
         "name": "job",
         "type": "\"string\""
        },
        {
         "metadata": "{}",
         "name": "characters",
         "type": "\"string\""
        }
       ],
       "type": "table"
      }
     },
     "output_type": "display_data"
    }
   ],
   "source": [
    "crashedDfDropmalformed = spark.read.format('csv').option(\"header\", \"true\").schema(actors_schema).option(\"mode\", \"DROPMALFORMED\").load(\"dbfs:/tmp/zeputy.csv\")\n",
    "display(crashedDfDropmalformed.limit(20)) # usunął wiersze z null w kolumnie \"ordering\""
   ]
  },
  {
   "cell_type": "code",
   "execution_count": 0,
   "metadata": {
    "application/vnd.databricks.v1+cell": {
     "cellMetadata": {
      "byteLimit": 2048000,
      "rowLimit": 10000
     },
     "inputWidgets": {},
     "nuid": "236cc7e1-d460-4534-ab16-f82ce40d9201",
     "showTitle": false,
     "tableResultSettingsMap": {},
     "title": ""
    }
   },
   "outputs": [
    {
     "output_type": "display_data",
     "data": {
      "text/html": [
       "<style scoped>\n",
       "  .ansiout {\n",
       "    display: block;\n",
       "    unicode-bidi: embed;\n",
       "    white-space: pre-wrap;\n",
       "    word-wrap: break-word;\n",
       "    word-break: break-all;\n",
       "    font-family: \"Menlo\", \"Monaco\", \"Consolas\", \"Ubuntu Mono\", \"Source Code Pro\", monospace;\n",
       "    font-size: 13px;\n",
       "    color: #555;\n",
       "    margin-left: 4px;\n",
       "    line-height: 19px;\n",
       "  }\n",
       "</style>\n",
       "org.apache.spark.SparkException: Job aborted due to stage failure: Task 0 in stage 64.0 failed 1 times, most recent failure: Lost task 0.0 in stage 64.0 (TID 173) (ip-10-172-190-0.us-west-2.compute.internal executor driver): com.databricks.sql.io.FileReadException: Error while reading file dbfs:/tmp/zeputy.csv/part-00000-tid-7531742791831032783-427bce3c-93b4-411b-9c8c-eb8bee5263a1-163-1-c000.csv.\n",
       "\tat org.apache.spark.sql.execution.datasources.FileScanRDD$$anon$1$$anon$2.logFileNameAndThrow(FileScanRDD.scala:704)\n",
       "\tat org.apache.spark.sql.execution.datasources.FileScanRDD$$anon$1$$anon$2.getNext(FileScanRDD.scala:673)\n",
       "\tat org.apache.spark.util.NextIterator.hasNext(NextIterator.scala:73)\n",
       "\tat org.apache.spark.sql.execution.datasources.FileScanRDD$$anon$1.$anonfun$hasNext$1(FileScanRDD.scala:493)\n",
       "\tat scala.runtime.java8.JFunction0$mcZ$sp.apply(JFunction0$mcZ$sp.java:23)\n",
       "\tat com.databricks.spark.util.ExecutorFrameProfiler$.record(ExecutorFrameProfiler.scala:110)\n",
       "\tat org.apache.spark.sql.execution.datasources.FileScanRDD$$anon$1.hasNext(FileScanRDD.scala:486)\n",
       "\tat scala.collection.Iterator$$anon$10.hasNext(Iterator.scala:460)\n",
       "\tat org.apache.spark.sql.execution.collect.UnsafeRowBatchUtils$.encodeUnsafeRows(UnsafeRowBatchUtils.scala:82)\n",
       "\tat org.apache.spark.sql.execution.collect.Collector.$anonfun$processFunc$1(Collector.scala:208)\n",
       "\tat org.apache.spark.scheduler.ResultTask.$anonfun$runTask$3(ResultTask.scala:75)\n",
       "\tat com.databricks.spark.util.ExecutorFrameProfiler$.record(ExecutorFrameProfiler.scala:110)\n",
       "\tat org.apache.spark.scheduler.ResultTask.$anonfun$runTask$1(ResultTask.scala:75)\n",
       "\tat com.databricks.spark.util.ExecutorFrameProfiler$.record(ExecutorFrameProfiler.scala:110)\n",
       "\tat org.apache.spark.scheduler.ResultTask.runTask(ResultTask.scala:55)\n",
       "\tat org.apache.spark.scheduler.Task.doRunTask(Task.scala:179)\n",
       "\tat org.apache.spark.scheduler.Task.$anonfun$run$5(Task.scala:142)\n",
       "\tat com.databricks.unity.EmptyHandle$.runWithAndClose(UCSHandle.scala:126)\n",
       "\tat org.apache.spark.scheduler.Task.$anonfun$run$1(Task.scala:142)\n",
       "\tat com.databricks.spark.util.ExecutorFrameProfiler$.record(ExecutorFrameProfiler.scala:110)\n",
       "\tat org.apache.spark.scheduler.Task.run(Task.scala:97)\n",
       "\tat org.apache.spark.executor.Executor$TaskRunner.$anonfun$run$13(Executor.scala:904)\n",
       "\tat org.apache.spark.util.Utils$.tryWithSafeFinally(Utils.scala:1741)\n",
       "\tat org.apache.spark.executor.Executor$TaskRunner.$anonfun$run$4(Executor.scala:907)\n",
       "\tat scala.runtime.java8.JFunction0$mcV$sp.apply(JFunction0$mcV$sp.java:23)\n",
       "\tat com.databricks.spark.util.ExecutorFrameProfiler$.record(ExecutorFrameProfiler.scala:110)\n",
       "\tat org.apache.spark.executor.Executor$TaskRunner.run(Executor.scala:761)\n",
       "\tat java.util.concurrent.ThreadPoolExecutor.runWorker(ThreadPoolExecutor.java:1149)\n",
       "\tat java.util.concurrent.ThreadPoolExecutor$Worker.run(ThreadPoolExecutor.java:624)\n",
       "\tat java.lang.Thread.run(Thread.java:750)\n",
       "Caused by: org.apache.spark.SparkException: Malformed records are detected in record parsing. Parse Mode: FAILFAST. To process malformed records as null result, try setting the option 'mode' as 'PERMISSIVE'.\n",
       "\tat org.apache.spark.sql.errors.QueryExecutionErrors$.malformedRecordsDetectedInRecordParsingError(QueryExecutionErrors.scala:1936)\n",
       "\tat org.apache.spark.sql.catalyst.util.FailureSafeParser.parse(FailureSafeParser.scala:103)\n",
       "\tat org.apache.spark.sql.catalyst.csv.UnivocityParser$.$anonfun$parseIterator$2(UnivocityParser.scala:507)\n",
       "\tat scala.collection.Iterator$$anon$11.nextCur(Iterator.scala:486)\n",
       "\tat scala.collection.Iterator$$anon$11.hasNext(Iterator.scala:492)\n",
       "\tat org.apache.spark.util.CompletionIterator.hasNext(CompletionIterator.scala:31)\n",
       "\tat scala.collection.Iterator$$anon$10.hasNext(Iterator.scala:460)\n",
       "\tat org.apache.spark.sql.execution.datasources.FileScanRDD$$anon$1$$anon$2.getNext(FileScanRDD.scala:619)\n",
       "\t... 28 more\n",
       "Caused by: org.apache.spark.sql.catalyst.util.BadRecordException: java.lang.NumberFormatException: For input string: \"nan\"\n",
       "Caused by: java.lang.NumberFormatException: For input string: \"nan\"\n",
       "\tat java.lang.NumberFormatException.forInputString(NumberFormatException.java:65)\n",
       "\tat java.lang.Integer.parseInt(Integer.java:580)\n",
       "\tat java.lang.Integer.parseInt(Integer.java:615)\n",
       "\tat scala.collection.immutable.StringLike.toInt(StringLike.scala:304)\n",
       "\tat scala.collection.immutable.StringLike.toInt$(StringLike.scala:304)\n",
       "\tat scala.collection.immutable.StringOps.toInt(StringOps.scala:33)\n",
       "\tat org.apache.spark.sql.catalyst.csv.UnivocityParser.$anonfun$makeConverter$6(UnivocityParser.scala:202)\n",
       "\tat org.apache.spark.sql.catalyst.csv.UnivocityParser.$anonfun$makeConverter$6$adapted(UnivocityParser.scala:202)\n",
       "\tat org.apache.spark.sql.catalyst.csv.UnivocityParser.nullSafeDatum(UnivocityParser.scala:305)\n",
       "\tat org.apache.spark.sql.catalyst.csv.UnivocityParser.$anonfun$makeConverter$5(UnivocityParser.scala:202)\n",
       "\tat org.apache.spark.sql.catalyst.csv.UnivocityParser.convert(UnivocityParser.scala:360)\n",
       "\tat org.apache.spark.sql.catalyst.csv.UnivocityParser.$anonfun$parse$2(UnivocityParser.scala:321)\n",
       "\tat org.apache.spark.sql.catalyst.csv.UnivocityParser$.$anonfun$parseIterator$1(UnivocityParser.scala:499)\n",
       "\tat org.apache.spark.sql.catalyst.util.FailureSafeParser.parse(FailureSafeParser.scala:92)\n",
       "\tat org.apache.spark.sql.catalyst.csv.UnivocityParser$.$anonfun$parseIterator$2(UnivocityParser.scala:507)\n",
       "\tat scala.collection.Iterator$$anon$11.nextCur(Iterator.scala:486)\n",
       "\tat scala.collection.Iterator$$anon$11.hasNext(Iterator.scala:492)\n",
       "\tat org.apache.spark.util.CompletionIterator.hasNext(CompletionIterator.scala:31)\n",
       "\tat scala.collection.Iterator$$anon$10.hasNext(Iterator.scala:460)\n",
       "\tat org.apache.spark.sql.execution.datasources.FileScanRDD$$anon$1$$anon$2.getNext(FileScanRDD.scala:619)\n",
       "\tat org.apache.spark.util.NextIterator.hasNext(NextIterator.scala:73)\n",
       "\tat org.apache.spark.sql.execution.datasources.FileScanRDD$$anon$1.$anonfun$hasNext$1(FileScanRDD.scala:493)\n",
       "\tat scala.runtime.java8.JFunction0$mcZ$sp.apply(JFunction0$mcZ$sp.java:23)\n",
       "\tat com.databricks.spark.util.ExecutorFrameProfiler$.record(ExecutorFrameProfiler.scala:110)\n",
       "\tat org.apache.spark.sql.execution.datasources.FileScanRDD$$anon$1.hasNext(FileScanRDD.scala:486)\n",
       "\tat scala.collection.Iterator$$anon$10.hasNext(Iterator.scala:460)\n",
       "\tat org.apache.spark.sql.execution.collect.UnsafeRowBatchUtils$.encodeUnsafeRows(UnsafeRowBatchUtils.scala:82)\n",
       "\tat org.apache.spark.sql.execution.collect.Collector.$anonfun$processFunc$1(Collector.scala:208)\n",
       "\tat org.apache.spark.scheduler.ResultTask.$anonfun$runTask$3(ResultTask.scala:75)\n",
       "\tat com.databricks.spark.util.ExecutorFrameProfiler$.record(ExecutorFrameProfiler.scala:110)\n",
       "\tat org.apache.spark.scheduler.ResultTask.$anonfun$runTask$1(ResultTask.scala:75)\n",
       "\tat com.databricks.spark.util.ExecutorFrameProfiler$.record(ExecutorFrameProfiler.scala:110)\n",
       "\tat org.apache.spark.scheduler.ResultTask.runTask(ResultTask.scala:55)\n",
       "\tat org.apache.spark.scheduler.Task.doRunTask(Task.scala:179)\n",
       "\tat org.apache.spark.scheduler.Task.$anonfun$run$5(Task.scala:142)\n",
       "\tat com.databricks.unity.EmptyHandle$.runWithAndClose(UCSHandle.scala:126)\n",
       "\tat org.apache.spark.scheduler.Task.$anonfun$run$1(Task.scala:142)\n",
       "\tat com.databricks.spark.util.ExecutorFrameProfiler$.record(ExecutorFrameProfiler.scala:110)\n",
       "\tat org.apache.spark.scheduler.Task.run(Task.scala:97)\n",
       "\tat org.apache.spark.executor.Executor$TaskRunner.$anonfun$run$13(Executor.scala:904)\n",
       "\tat org.apache.spark.util.Utils$.tryWithSafeFinally(Utils.scala:1741)\n",
       "\tat org.apache.spark.executor.Executor$TaskRunner.$anonfun$run$4(Executor.scala:907)\n",
       "\tat scala.runtime.java8.JFunction0$mcV$sp.apply(JFunction0$mcV$sp.java:23)\n",
       "\tat com.databricks.spark.util.ExecutorFrameProfiler$.record(ExecutorFrameProfiler.scala:110)\n",
       "\tat org.apache.spark.executor.Executor$TaskRunner.run(Executor.scala:761)\n",
       "\tat java.util.concurrent.ThreadPoolExecutor.runWorker(ThreadPoolExecutor.java:1149)\n",
       "\tat java.util.concurrent.ThreadPoolExecutor$Worker.run(ThreadPoolExecutor.java:624)\n",
       "\tat java.lang.Thread.run(Thread.java:750)\n",
       "\n",
       "Driver stacktrace:\n",
       "\tat org.apache.spark.scheduler.DAGScheduler.failJobAndIndependentStages(DAGScheduler.scala:3440)\n",
       "\tat org.apache.spark.scheduler.DAGScheduler.$anonfun$abortStage$2(DAGScheduler.scala:3362)\n",
       "\tat org.apache.spark.scheduler.DAGScheduler.$anonfun$abortStage$2$adapted(DAGScheduler.scala:3351)\n",
       "\tat scala.collection.mutable.ResizableArray.foreach(ResizableArray.scala:62)\n",
       "\tat scala.collection.mutable.ResizableArray.foreach$(ResizableArray.scala:55)\n",
       "\tat scala.collection.mutable.ArrayBuffer.foreach(ArrayBuffer.scala:49)\n",
       "\tat org.apache.spark.scheduler.DAGScheduler.abortStage(DAGScheduler.scala:3351)\n",
       "\tat org.apache.spark.scheduler.DAGScheduler.$anonfun$handleTaskSetFailed$1(DAGScheduler.scala:1460)\n",
       "\tat org.apache.spark.scheduler.DAGScheduler.$anonfun$handleTaskSetFailed$1$adapted(DAGScheduler.scala:1460)\n",
       "\tat scala.Option.foreach(Option.scala:407)\n",
       "\tat org.apache.spark.scheduler.DAGScheduler.handleTaskSetFailed(DAGScheduler.scala:1460)\n",
       "\tat org.apache.spark.scheduler.DAGSchedulerEventProcessLoop.doOnReceive(DAGScheduler.scala:3651)\n",
       "\tat org.apache.spark.scheduler.DAGSchedulerEventProcessLoop.onReceive(DAGScheduler.scala:3589)\n",
       "\tat org.apache.spark.scheduler.DAGSchedulerEventProcessLoop.onReceive(DAGScheduler.scala:3577)\n",
       "\tat org.apache.spark.util.EventLoop$$anon$1.run(EventLoop.scala:51)\n",
       "\tat org.apache.spark.scheduler.DAGScheduler.$anonfun$runJob$1(DAGScheduler.scala:1209)\n",
       "\tat scala.runtime.java8.JFunction0$mcV$sp.apply(JFunction0$mcV$sp.java:23)\n",
       "\tat com.databricks.spark.util.FrameProfiler$.record(FrameProfiler.scala:80)\n",
       "\tat org.apache.spark.scheduler.DAGScheduler.runJob(DAGScheduler.scala:1197)\n",
       "\tat org.apache.spark.SparkContext.runJobInternal(SparkContext.scala:2758)\n",
       "\tat org.apache.spark.sql.execution.collect.Collector.$anonfun$runSparkJobs$1(Collector.scala:349)\n",
       "\tat scala.runtime.java8.JFunction0$mcV$sp.apply(JFunction0$mcV$sp.java:23)\n",
       "\tat com.databricks.spark.util.FrameProfiler$.record(FrameProfiler.scala:80)\n",
       "\tat org.apache.spark.sql.execution.collect.Collector.runSparkJobs(Collector.scala:293)\n",
       "\tat org.apache.spark.sql.execution.collect.Collector.collect(Collector.scala:377)\n",
       "\tat org.apache.spark.sql.execution.collect.Collector$.collect(Collector.scala:128)\n",
       "\tat org.apache.spark.sql.execution.collect.Collector$.collect(Collector.scala:135)\n",
       "\tat org.apache.spark.sql.execution.qrc.InternalRowFormat$.collect(cachedSparkResults.scala:122)\n",
       "\tat org.apache.spark.sql.execution.qrc.InternalRowFormat$.collect(cachedSparkResults.scala:110)\n",
       "\tat org.apache.spark.sql.execution.qrc.InternalRowFormat$.collect(cachedSparkResults.scala:92)\n",
       "\tat org.apache.spark.sql.execution.qrc.ResultCacheManager.$anonfun$computeResult$1(ResultCacheManager.scala:537)\n",
       "\tat com.databricks.spark.util.FrameProfiler$.record(FrameProfiler.scala:80)\n",
       "\tat org.apache.spark.sql.execution.qrc.ResultCacheManager.collectResult$1(ResultCacheManager.scala:529)\n",
       "\tat org.apache.spark.sql.execution.qrc.ResultCacheManager.computeResult(ResultCacheManager.scala:549)\n",
       "\tat org.apache.spark.sql.execution.qrc.ResultCacheManager.$anonfun$getOrComputeResultInternal$1(ResultCacheManager.scala:402)\n",
       "\tat scala.Option.getOrElse(Option.scala:189)\n",
       "\tat org.apache.spark.sql.execution.qrc.ResultCacheManager.getOrComputeResultInternal(ResultCacheManager.scala:395)\n",
       "\tat org.apache.spark.sql.execution.qrc.ResultCacheManager.getOrComputeResult(ResultCacheManager.scala:289)\n",
       "\tat org.apache.spark.sql.execution.SparkPlan.$anonfun$executeCollectResult$1(SparkPlan.scala:506)\n",
       "\tat com.databricks.spark.util.FrameProfiler$.record(FrameProfiler.scala:80)\n",
       "\tat org.apache.spark.sql.execution.SparkPlan.executeCollectResult(SparkPlan.scala:503)\n",
       "\tat org.apache.spark.sql.Dataset.collectResult(Dataset.scala:3458)\n",
       "\tat org.apache.spark.sql.Dataset.$anonfun$collectResult$1(Dataset.scala:3449)\n",
       "\tat org.apache.spark.sql.Dataset.$anonfun$withAction$3(Dataset.scala:4373)\n",
       "\tat org.apache.spark.sql.execution.QueryExecution$.withInternalError(QueryExecution.scala:841)\n",
       "\tat org.apache.spark.sql.Dataset.$anonfun$withAction$2(Dataset.scala:4371)\n",
       "\tat org.apache.spark.sql.execution.SQLExecution$.$anonfun$withCustomExecutionEnv$9(SQLExecution.scala:258)\n",
       "\tat org.apache.spark.sql.execution.SQLExecution$.withSQLConfPropagated(SQLExecution.scala:448)\n",
       "\tat org.apache.spark.sql.execution.SQLExecution$.$anonfun$withCustomExecutionEnv$1(SQLExecution.scala:203)\n",
       "\tat org.apache.spark.sql.SparkSession.withActive(SparkSession.scala:1073)\n",
       "\tat org.apache.spark.sql.execution.SQLExecution$.withCustomExecutionEnv(SQLExecution.scala:131)\n",
       "\tat org.apache.spark.sql.execution.SQLExecution$.withNewExecutionId(SQLExecution.scala:398)\n",
       "\tat org.apache.spark.sql.Dataset.withAction(Dataset.scala:4371)\n",
       "\tat org.apache.spark.sql.Dataset.collectResult(Dataset.scala:3448)\n",
       "\tat com.databricks.backend.daemon.driver.OutputAggregator$.withOutputAggregation0(OutputAggregator.scala:267)\n",
       "\tat com.databricks.backend.daemon.driver.OutputAggregator$.withOutputAggregation(OutputAggregator.scala:101)\n",
       "\tat com.databricks.backend.daemon.driver.PythonDriverLocalBase.generateTableResult(PythonDriverLocalBase.scala:727)\n",
       "\tat com.databricks.backend.daemon.driver.JupyterDriverLocal.computeListResultsItem(JupyterDriverLocal.scala:887)\n",
       "\tat com.databricks.backend.daemon.driver.JupyterDriverLocal$JupyterEntryPoint.addCustomDisplayData(JupyterDriverLocal.scala:286)\n",
       "\tat sun.reflect.GeneratedMethodAccessor462.invoke(Unknown Source)\n",
       "\tat sun.reflect.DelegatingMethodAccessorImpl.invoke(DelegatingMethodAccessorImpl.java:43)\n",
       "\tat java.lang.reflect.Method.invoke(Method.java:498)\n",
       "\tat py4j.reflection.MethodInvoker.invoke(MethodInvoker.java:244)\n",
       "\tat py4j.reflection.ReflectionEngine.invoke(ReflectionEngine.java:380)\n",
       "\tat py4j.Gateway.invoke(Gateway.java:306)\n",
       "\tat py4j.commands.AbstractCommand.invokeMethod(AbstractCommand.java:132)\n",
       "\tat py4j.commands.CallCommand.execute(CallCommand.java:79)\n",
       "\tat py4j.ClientServerConnection.waitForCommands(ClientServerConnection.java:195)\n",
       "\tat py4j.ClientServerConnection.run(ClientServerConnection.java:115)\n",
       "\tat java.lang.Thread.run(Thread.java:750)\n",
       "Caused by: com.databricks.sql.io.FileReadException: Error while reading file dbfs:/tmp/zeputy.csv/part-00000-tid-7531742791831032783-427bce3c-93b4-411b-9c8c-eb8bee5263a1-163-1-c000.csv.\n",
       "\tat org.apache.spark.sql.execution.datasources.FileScanRDD$$anon$1$$anon$2.logFileNameAndThrow(FileScanRDD.scala:704)\n",
       "\tat org.apache.spark.sql.execution.datasources.FileScanRDD$$anon$1$$anon$2.getNext(FileScanRDD.scala:673)\n",
       "\tat org.apache.spark.util.NextIterator.hasNext(NextIterator.scala:73)\n",
       "\tat org.apache.spark.sql.execution.datasources.FileScanRDD$$anon$1.$anonfun$hasNext$1(FileScanRDD.scala:493)\n",
       "\tat scala.runtime.java8.JFunction0$mcZ$sp.apply(JFunction0$mcZ$sp.java:23)\n",
       "\tat com.databricks.spark.util.ExecutorFrameProfiler$.record(ExecutorFrameProfiler.scala:110)\n",
       "\tat org.apache.spark.sql.execution.datasources.FileScanRDD$$anon$1.hasNext(FileScanRDD.scala:486)\n",
       "\tat scala.collection.Iterator$$anon$10.hasNext(Iterator.scala:460)\n",
       "\tat org.apache.spark.sql.execution.collect.UnsafeRowBatchUtils$.encodeUnsafeRows(UnsafeRowBatchUtils.scala:82)\n",
       "\tat org.apache.spark.sql.execution.collect.Collector.$anonfun$processFunc$1(Collector.scala:208)\n",
       "\tat org.apache.spark.scheduler.ResultTask.$anonfun$runTask$3(ResultTask.scala:75)\n",
       "\tat com.databricks.spark.util.ExecutorFrameProfiler$.record(ExecutorFrameProfiler.scala:110)\n",
       "\tat org.apache.spark.scheduler.ResultTask.$anonfun$runTask$1(ResultTask.scala:75)\n",
       "\tat com.databricks.spark.util.ExecutorFrameProfiler$.record(ExecutorFrameProfiler.scala:110)\n",
       "\tat org.apache.spark.scheduler.ResultTask.runTask(ResultTask.scala:55)\n",
       "\tat org.apache.spark.scheduler.Task.doRunTask(Task.scala:179)\n",
       "\tat org.apache.spark.scheduler.Task.$anonfun$run$5(Task.scala:142)\n",
       "\tat com.databricks.unity.EmptyHandle$.runWithAndClose(UCSHandle.scala:126)\n",
       "\tat org.apache.spark.scheduler.Task.$anonfun$run$1(Task.scala:142)\n",
       "\tat com.databricks.spark.util.ExecutorFrameProfiler$.record(ExecutorFrameProfiler.scala:110)\n",
       "\tat org.apache.spark.scheduler.Task.run(Task.scala:97)\n",
       "\tat org.apache.spark.executor.Executor$TaskRunner.$anonfun$run$13(Executor.scala:904)\n",
       "\tat org.apache.spark.util.Utils$.tryWithSafeFinally(Utils.scala:1741)\n",
       "\tat org.apache.spark.executor.Executor$TaskRunner.$anonfun$run$4(Executor.scala:907)\n",
       "\tat scala.runtime.java8.JFunction0$mcV$sp.apply(JFunction0$mcV$sp.java:23)\n",
       "\tat com.databricks.spark.util.ExecutorFrameProfiler$.record(ExecutorFrameProfiler.scala:110)\n",
       "\tat org.apache.spark.executor.Executor$TaskRunner.run(Executor.scala:761)\n",
       "\tat java.util.concurrent.ThreadPoolExecutor.runWorker(ThreadPoolExecutor.java:1149)\n",
       "\tat java.util.concurrent.ThreadPoolExecutor$Worker.run(ThreadPoolExecutor.java:624)\n",
       "\t... 1 more\n",
       "Caused by: org.apache.spark.SparkException: Malformed records are detected in record parsing. Parse Mode: FAILFAST. To process malformed records as null result, try setting the option 'mode' as 'PERMISSIVE'.\n",
       "\tat org.apache.spark.sql.errors.QueryExecutionErrors$.malformedRecordsDetectedInRecordParsingError(QueryExecutionErrors.scala:1936)\n",
       "\tat org.apache.spark.sql.catalyst.util.FailureSafeParser.parse(FailureSafeParser.scala:103)\n",
       "\tat org.apache.spark.sql.catalyst.csv.UnivocityParser$.$anonfun$parseIterator$2(UnivocityParser.scala:507)\n",
       "\tat scala.collection.Iterator$$anon$11.nextCur(Iterator.scala:486)\n",
       "\tat scala.collection.Iterator$$anon$11.hasNext(Iterator.scala:492)\n",
       "\tat org.apache.spark.util.CompletionIterator.hasNext(CompletionIterator.scala:31)\n",
       "\tat scala.collection.Iterator$$anon$10.hasNext(Iterator.scala:460)\n",
       "\tat org.apache.spark.sql.execution.datasources.FileScanRDD$$anon$1$$anon$2.getNext(FileScanRDD.scala:619)\n",
       "\t... 28 more\n",
       "Caused by: org.apache.spark.sql.catalyst.util.BadRecordException: java.lang.NumberFormatException: For input string: \"nan\"\n",
       "Caused by: java.lang.NumberFormatException: For input string: \"nan\"\n",
       "\tat java.lang.NumberFormatException.forInputString(NumberFormatException.java:65)\n",
       "\tat java.lang.Integer.parseInt(Integer.java:580)\n",
       "\tat java.lang.Integer.parseInt(Integer.java:615)\n",
       "\tat scala.collection.immutable.StringLike.toInt(StringLike.scala:304)\n",
       "\tat scala.collection.immutable.StringLike.toInt$(StringLike.scala:304)\n",
       "\tat scala.collection.immutable.StringOps.toInt(StringOps.scala:33)\n",
       "\tat org.apache.spark.sql.catalyst.csv.UnivocityParser.$anonfun$makeConverter$6(UnivocityParser.scala:202)\n",
       "\tat org.apache.spark.sql.catalyst.csv.UnivocityParser.$anonfun$makeConverter$6$adapted(UnivocityParser.scala:202)\n",
       "\tat org.apache.spark.sql.catalyst.csv.UnivocityParser.nullSafeDatum(UnivocityParser.scala:305)\n",
       "\tat org.apache.spark.sql.catalyst.csv.UnivocityParser.$anonfun$makeConverter$5(UnivocityParser.scala:202)\n",
       "\tat org.apache.spark.sql.catalyst.csv.UnivocityParser.convert(UnivocityParser.scala:360)\n",
       "\tat org.apache.spark.sql.catalyst.csv.UnivocityParser.$anonfun$parse$2(UnivocityParser.scala:321)\n",
       "\tat org.apache.spark.sql.catalyst.csv.UnivocityParser$.$anonfun$parseIterator$1(UnivocityParser.scala:499)\n",
       "\tat org.apache.spark.sql.catalyst.util.FailureSafeParser.parse(FailureSafeParser.scala:92)\n",
       "\tat org.apache.spark.sql.catalyst.csv.UnivocityParser$.$anonfun$parseIterator$2(UnivocityParser.scala:507)\n",
       "\tat scala.collection.Iterator$$anon$11.nextCur(Iterator.scala:486)\n",
       "\tat scala.collection.Iterator$$anon$11.hasNext(Iterator.scala:492)\n",
       "\tat org.apache.spark.util.CompletionIterator.hasNext(CompletionIterator.scala:31)\n",
       "\tat scala.collection.Iterator$$anon$10.hasNext(Iterator.scala:460)\n",
       "\tat org.apache.spark.sql.execution.datasources.FileScanRDD$$anon$1$$anon$2.getNext(FileScanRDD.scala:619)\n",
       "\tat org.apache.spark.util.NextIterator.hasNext(NextIterator.scala:73)\n",
       "\tat org.apache.spark.sql.execution.datasources.FileScanRDD$$anon$1.$anonfun$hasNext$1(FileScanRDD.scala:493)\n",
       "\tat scala.runtime.java8.JFunction0$mcZ$sp.apply(JFunction0$mcZ$sp.java:23)\n",
       "\tat com.databricks.spark.util.ExecutorFrameProfiler$.record(ExecutorFrameProfiler.scala:110)\n",
       "\tat org.apache.spark.sql.execution.datasources.FileScanRDD$$anon$1.hasNext(FileScanRDD.scala:486)\n",
       "\tat scala.collection.Iterator$$anon$10.hasNext(Iterator.scala:460)\n",
       "\tat org.apache.spark.sql.execution.collect.UnsafeRowBatchUtils$.encodeUnsafeRows(UnsafeRowBatchUtils.scala:82)\n",
       "\tat org.apache.spark.sql.execution.collect.Collector.$anonfun$processFunc$1(Collector.scala:208)\n",
       "\tat org.apache.spark.scheduler.ResultTask.$anonfun$runTask$3(ResultTask.scala:75)\n",
       "\tat com.databricks.spark.util.ExecutorFrameProfiler$.record(ExecutorFrameProfiler.scala:110)\n",
       "\tat org.apache.spark.scheduler.ResultTask.$anonfun$runTask$1(ResultTask.scala:75)\n",
       "\tat com.databricks.spark.util.ExecutorFrameProfiler$.record(ExecutorFrameProfiler.scala:110)\n",
       "\tat org.apache.spark.scheduler.ResultTask.runTask(ResultTask.scala:55)\n",
       "\tat org.apache.spark.scheduler.Task.doRunTask(Task.scala:179)\n",
       "\tat org.apache.spark.scheduler.Task.$anonfun$run$5(Task.scala:142)\n",
       "\tat com.databricks.unity.EmptyHandle$.runWithAndClose(UCSHandle.scala:126)\n",
       "\tat org.apache.spark.scheduler.Task.$anonfun$run$1(Task.scala:142)\n",
       "\tat com.databricks.spark.util.ExecutorFrameProfiler$.record(ExecutorFrameProfiler.scala:110)\n",
       "\tat org.apache.spark.scheduler.Task.run(Task.scala:97)\n",
       "\tat org.apache.spark.executor.Executor$TaskRunner.$anonfun$run$13(Executor.scala:904)\n",
       "\tat org.apache.spark.util.Utils$.tryWithSafeFinally(Utils.scala:1741)\n",
       "\tat org.apache.spark.executor.Executor$TaskRunner.$anonfun$run$4(Executor.scala:907)\n",
       "\tat scala.runtime.java8.JFunction0$mcV$sp.apply(JFunction0$mcV$sp.java:23)\n",
       "\tat com.databricks.spark.util.ExecutorFrameProfiler$.record(ExecutorFrameProfiler.scala:110)\n",
       "\tat org.apache.spark.executor.Executor$TaskRunner.run(Executor.scala:761)\n",
       "\tat java.util.concurrent.ThreadPoolExecutor.runWorker(ThreadPoolExecutor.java:1149)\n",
       "\tat java.util.concurrent.ThreadPoolExecutor$Worker.run(ThreadPoolExecutor.java:624)\n",
       "\tat java.lang.Thread.run(Thread.java:750)"
      ]
     },
     "metadata": {
      "application/vnd.databricks.v1+output": {
       "arguments": {},
       "data": "org.apache.spark.SparkException: Job aborted due to stage failure: Task 0 in stage 64.0 failed 1 times, most recent failure: Lost task 0.0 in stage 64.0 (TID 173) (ip-10-172-190-0.us-west-2.compute.internal executor driver): com.databricks.sql.io.FileReadException: Error while reading file dbfs:/tmp/zeputy.csv/part-00000-tid-7531742791831032783-427bce3c-93b4-411b-9c8c-eb8bee5263a1-163-1-c000.csv.\n\tat org.apache.spark.sql.execution.datasources.FileScanRDD$$anon$1$$anon$2.logFileNameAndThrow(FileScanRDD.scala:704)\n\tat org.apache.spark.sql.execution.datasources.FileScanRDD$$anon$1$$anon$2.getNext(FileScanRDD.scala:673)\n\tat org.apache.spark.util.NextIterator.hasNext(NextIterator.scala:73)\n\tat org.apache.spark.sql.execution.datasources.FileScanRDD$$anon$1.$anonfun$hasNext$1(FileScanRDD.scala:493)\n\tat scala.runtime.java8.JFunction0$mcZ$sp.apply(JFunction0$mcZ$sp.java:23)\n\tat com.databricks.spark.util.ExecutorFrameProfiler$.record(ExecutorFrameProfiler.scala:110)\n\tat org.apache.spark.sql.execution.datasources.FileScanRDD$$anon$1.hasNext(FileScanRDD.scala:486)\n\tat scala.collection.Iterator$$anon$10.hasNext(Iterator.scala:460)\n\tat org.apache.spark.sql.execution.collect.UnsafeRowBatchUtils$.encodeUnsafeRows(UnsafeRowBatchUtils.scala:82)\n\tat org.apache.spark.sql.execution.collect.Collector.$anonfun$processFunc$1(Collector.scala:208)\n\tat org.apache.spark.scheduler.ResultTask.$anonfun$runTask$3(ResultTask.scala:75)\n\tat com.databricks.spark.util.ExecutorFrameProfiler$.record(ExecutorFrameProfiler.scala:110)\n\tat org.apache.spark.scheduler.ResultTask.$anonfun$runTask$1(ResultTask.scala:75)\n\tat com.databricks.spark.util.ExecutorFrameProfiler$.record(ExecutorFrameProfiler.scala:110)\n\tat org.apache.spark.scheduler.ResultTask.runTask(ResultTask.scala:55)\n\tat org.apache.spark.scheduler.Task.doRunTask(Task.scala:179)\n\tat org.apache.spark.scheduler.Task.$anonfun$run$5(Task.scala:142)\n\tat com.databricks.unity.EmptyHandle$.runWithAndClose(UCSHandle.scala:126)\n\tat org.apache.spark.scheduler.Task.$anonfun$run$1(Task.scala:142)\n\tat com.databricks.spark.util.ExecutorFrameProfiler$.record(ExecutorFrameProfiler.scala:110)\n\tat org.apache.spark.scheduler.Task.run(Task.scala:97)\n\tat org.apache.spark.executor.Executor$TaskRunner.$anonfun$run$13(Executor.scala:904)\n\tat org.apache.spark.util.Utils$.tryWithSafeFinally(Utils.scala:1741)\n\tat org.apache.spark.executor.Executor$TaskRunner.$anonfun$run$4(Executor.scala:907)\n\tat scala.runtime.java8.JFunction0$mcV$sp.apply(JFunction0$mcV$sp.java:23)\n\tat com.databricks.spark.util.ExecutorFrameProfiler$.record(ExecutorFrameProfiler.scala:110)\n\tat org.apache.spark.executor.Executor$TaskRunner.run(Executor.scala:761)\n\tat java.util.concurrent.ThreadPoolExecutor.runWorker(ThreadPoolExecutor.java:1149)\n\tat java.util.concurrent.ThreadPoolExecutor$Worker.run(ThreadPoolExecutor.java:624)\n\tat java.lang.Thread.run(Thread.java:750)\nCaused by: org.apache.spark.SparkException: Malformed records are detected in record parsing. Parse Mode: FAILFAST. To process malformed records as null result, try setting the option 'mode' as 'PERMISSIVE'.\n\tat org.apache.spark.sql.errors.QueryExecutionErrors$.malformedRecordsDetectedInRecordParsingError(QueryExecutionErrors.scala:1936)\n\tat org.apache.spark.sql.catalyst.util.FailureSafeParser.parse(FailureSafeParser.scala:103)\n\tat org.apache.spark.sql.catalyst.csv.UnivocityParser$.$anonfun$parseIterator$2(UnivocityParser.scala:507)\n\tat scala.collection.Iterator$$anon$11.nextCur(Iterator.scala:486)\n\tat scala.collection.Iterator$$anon$11.hasNext(Iterator.scala:492)\n\tat org.apache.spark.util.CompletionIterator.hasNext(CompletionIterator.scala:31)\n\tat scala.collection.Iterator$$anon$10.hasNext(Iterator.scala:460)\n\tat org.apache.spark.sql.execution.datasources.FileScanRDD$$anon$1$$anon$2.getNext(FileScanRDD.scala:619)\n\t... 28 more\nCaused by: org.apache.spark.sql.catalyst.util.BadRecordException: java.lang.NumberFormatException: For input string: \"nan\"\nCaused by: java.lang.NumberFormatException: For input string: \"nan\"\n\tat java.lang.NumberFormatException.forInputString(NumberFormatException.java:65)\n\tat java.lang.Integer.parseInt(Integer.java:580)\n\tat java.lang.Integer.parseInt(Integer.java:615)\n\tat scala.collection.immutable.StringLike.toInt(StringLike.scala:304)\n\tat scala.collection.immutable.StringLike.toInt$(StringLike.scala:304)\n\tat scala.collection.immutable.StringOps.toInt(StringOps.scala:33)\n\tat org.apache.spark.sql.catalyst.csv.UnivocityParser.$anonfun$makeConverter$6(UnivocityParser.scala:202)\n\tat org.apache.spark.sql.catalyst.csv.UnivocityParser.$anonfun$makeConverter$6$adapted(UnivocityParser.scala:202)\n\tat org.apache.spark.sql.catalyst.csv.UnivocityParser.nullSafeDatum(UnivocityParser.scala:305)\n\tat org.apache.spark.sql.catalyst.csv.UnivocityParser.$anonfun$makeConverter$5(UnivocityParser.scala:202)\n\tat org.apache.spark.sql.catalyst.csv.UnivocityParser.convert(UnivocityParser.scala:360)\n\tat org.apache.spark.sql.catalyst.csv.UnivocityParser.$anonfun$parse$2(UnivocityParser.scala:321)\n\tat org.apache.spark.sql.catalyst.csv.UnivocityParser$.$anonfun$parseIterator$1(UnivocityParser.scala:499)\n\tat org.apache.spark.sql.catalyst.util.FailureSafeParser.parse(FailureSafeParser.scala:92)\n\tat org.apache.spark.sql.catalyst.csv.UnivocityParser$.$anonfun$parseIterator$2(UnivocityParser.scala:507)\n\tat scala.collection.Iterator$$anon$11.nextCur(Iterator.scala:486)\n\tat scala.collection.Iterator$$anon$11.hasNext(Iterator.scala:492)\n\tat org.apache.spark.util.CompletionIterator.hasNext(CompletionIterator.scala:31)\n\tat scala.collection.Iterator$$anon$10.hasNext(Iterator.scala:460)\n\tat org.apache.spark.sql.execution.datasources.FileScanRDD$$anon$1$$anon$2.getNext(FileScanRDD.scala:619)\n\tat org.apache.spark.util.NextIterator.hasNext(NextIterator.scala:73)\n\tat org.apache.spark.sql.execution.datasources.FileScanRDD$$anon$1.$anonfun$hasNext$1(FileScanRDD.scala:493)\n\tat scala.runtime.java8.JFunction0$mcZ$sp.apply(JFunction0$mcZ$sp.java:23)\n\tat com.databricks.spark.util.ExecutorFrameProfiler$.record(ExecutorFrameProfiler.scala:110)\n\tat org.apache.spark.sql.execution.datasources.FileScanRDD$$anon$1.hasNext(FileScanRDD.scala:486)\n\tat scala.collection.Iterator$$anon$10.hasNext(Iterator.scala:460)\n\tat org.apache.spark.sql.execution.collect.UnsafeRowBatchUtils$.encodeUnsafeRows(UnsafeRowBatchUtils.scala:82)\n\tat org.apache.spark.sql.execution.collect.Collector.$anonfun$processFunc$1(Collector.scala:208)\n\tat org.apache.spark.scheduler.ResultTask.$anonfun$runTask$3(ResultTask.scala:75)\n\tat com.databricks.spark.util.ExecutorFrameProfiler$.record(ExecutorFrameProfiler.scala:110)\n\tat org.apache.spark.scheduler.ResultTask.$anonfun$runTask$1(ResultTask.scala:75)\n\tat com.databricks.spark.util.ExecutorFrameProfiler$.record(ExecutorFrameProfiler.scala:110)\n\tat org.apache.spark.scheduler.ResultTask.runTask(ResultTask.scala:55)\n\tat org.apache.spark.scheduler.Task.doRunTask(Task.scala:179)\n\tat org.apache.spark.scheduler.Task.$anonfun$run$5(Task.scala:142)\n\tat com.databricks.unity.EmptyHandle$.runWithAndClose(UCSHandle.scala:126)\n\tat org.apache.spark.scheduler.Task.$anonfun$run$1(Task.scala:142)\n\tat com.databricks.spark.util.ExecutorFrameProfiler$.record(ExecutorFrameProfiler.scala:110)\n\tat org.apache.spark.scheduler.Task.run(Task.scala:97)\n\tat org.apache.spark.executor.Executor$TaskRunner.$anonfun$run$13(Executor.scala:904)\n\tat org.apache.spark.util.Utils$.tryWithSafeFinally(Utils.scala:1741)\n\tat org.apache.spark.executor.Executor$TaskRunner.$anonfun$run$4(Executor.scala:907)\n\tat scala.runtime.java8.JFunction0$mcV$sp.apply(JFunction0$mcV$sp.java:23)\n\tat com.databricks.spark.util.ExecutorFrameProfiler$.record(ExecutorFrameProfiler.scala:110)\n\tat org.apache.spark.executor.Executor$TaskRunner.run(Executor.scala:761)\n\tat java.util.concurrent.ThreadPoolExecutor.runWorker(ThreadPoolExecutor.java:1149)\n\tat java.util.concurrent.ThreadPoolExecutor$Worker.run(ThreadPoolExecutor.java:624)\n\tat java.lang.Thread.run(Thread.java:750)\n\nDriver stacktrace:\n\tat org.apache.spark.scheduler.DAGScheduler.failJobAndIndependentStages(DAGScheduler.scala:3440)\n\tat org.apache.spark.scheduler.DAGScheduler.$anonfun$abortStage$2(DAGScheduler.scala:3362)\n\tat org.apache.spark.scheduler.DAGScheduler.$anonfun$abortStage$2$adapted(DAGScheduler.scala:3351)\n\tat scala.collection.mutable.ResizableArray.foreach(ResizableArray.scala:62)\n\tat scala.collection.mutable.ResizableArray.foreach$(ResizableArray.scala:55)\n\tat scala.collection.mutable.ArrayBuffer.foreach(ArrayBuffer.scala:49)\n\tat org.apache.spark.scheduler.DAGScheduler.abortStage(DAGScheduler.scala:3351)\n\tat org.apache.spark.scheduler.DAGScheduler.$anonfun$handleTaskSetFailed$1(DAGScheduler.scala:1460)\n\tat org.apache.spark.scheduler.DAGScheduler.$anonfun$handleTaskSetFailed$1$adapted(DAGScheduler.scala:1460)\n\tat scala.Option.foreach(Option.scala:407)\n\tat org.apache.spark.scheduler.DAGScheduler.handleTaskSetFailed(DAGScheduler.scala:1460)\n\tat org.apache.spark.scheduler.DAGSchedulerEventProcessLoop.doOnReceive(DAGScheduler.scala:3651)\n\tat org.apache.spark.scheduler.DAGSchedulerEventProcessLoop.onReceive(DAGScheduler.scala:3589)\n\tat org.apache.spark.scheduler.DAGSchedulerEventProcessLoop.onReceive(DAGScheduler.scala:3577)\n\tat org.apache.spark.util.EventLoop$$anon$1.run(EventLoop.scala:51)\n\tat org.apache.spark.scheduler.DAGScheduler.$anonfun$runJob$1(DAGScheduler.scala:1209)\n\tat scala.runtime.java8.JFunction0$mcV$sp.apply(JFunction0$mcV$sp.java:23)\n\tat com.databricks.spark.util.FrameProfiler$.record(FrameProfiler.scala:80)\n\tat org.apache.spark.scheduler.DAGScheduler.runJob(DAGScheduler.scala:1197)\n\tat org.apache.spark.SparkContext.runJobInternal(SparkContext.scala:2758)\n\tat org.apache.spark.sql.execution.collect.Collector.$anonfun$runSparkJobs$1(Collector.scala:349)\n\tat scala.runtime.java8.JFunction0$mcV$sp.apply(JFunction0$mcV$sp.java:23)\n\tat com.databricks.spark.util.FrameProfiler$.record(FrameProfiler.scala:80)\n\tat org.apache.spark.sql.execution.collect.Collector.runSparkJobs(Collector.scala:293)\n\tat org.apache.spark.sql.execution.collect.Collector.collect(Collector.scala:377)\n\tat org.apache.spark.sql.execution.collect.Collector$.collect(Collector.scala:128)\n\tat org.apache.spark.sql.execution.collect.Collector$.collect(Collector.scala:135)\n\tat org.apache.spark.sql.execution.qrc.InternalRowFormat$.collect(cachedSparkResults.scala:122)\n\tat org.apache.spark.sql.execution.qrc.InternalRowFormat$.collect(cachedSparkResults.scala:110)\n\tat org.apache.spark.sql.execution.qrc.InternalRowFormat$.collect(cachedSparkResults.scala:92)\n\tat org.apache.spark.sql.execution.qrc.ResultCacheManager.$anonfun$computeResult$1(ResultCacheManager.scala:537)\n\tat com.databricks.spark.util.FrameProfiler$.record(FrameProfiler.scala:80)\n\tat org.apache.spark.sql.execution.qrc.ResultCacheManager.collectResult$1(ResultCacheManager.scala:529)\n\tat org.apache.spark.sql.execution.qrc.ResultCacheManager.computeResult(ResultCacheManager.scala:549)\n\tat org.apache.spark.sql.execution.qrc.ResultCacheManager.$anonfun$getOrComputeResultInternal$1(ResultCacheManager.scala:402)\n\tat scala.Option.getOrElse(Option.scala:189)\n\tat org.apache.spark.sql.execution.qrc.ResultCacheManager.getOrComputeResultInternal(ResultCacheManager.scala:395)\n\tat org.apache.spark.sql.execution.qrc.ResultCacheManager.getOrComputeResult(ResultCacheManager.scala:289)\n\tat org.apache.spark.sql.execution.SparkPlan.$anonfun$executeCollectResult$1(SparkPlan.scala:506)\n\tat com.databricks.spark.util.FrameProfiler$.record(FrameProfiler.scala:80)\n\tat org.apache.spark.sql.execution.SparkPlan.executeCollectResult(SparkPlan.scala:503)\n\tat org.apache.spark.sql.Dataset.collectResult(Dataset.scala:3458)\n\tat org.apache.spark.sql.Dataset.$anonfun$collectResult$1(Dataset.scala:3449)\n\tat org.apache.spark.sql.Dataset.$anonfun$withAction$3(Dataset.scala:4373)\n\tat org.apache.spark.sql.execution.QueryExecution$.withInternalError(QueryExecution.scala:841)\n\tat org.apache.spark.sql.Dataset.$anonfun$withAction$2(Dataset.scala:4371)\n\tat org.apache.spark.sql.execution.SQLExecution$.$anonfun$withCustomExecutionEnv$9(SQLExecution.scala:258)\n\tat org.apache.spark.sql.execution.SQLExecution$.withSQLConfPropagated(SQLExecution.scala:448)\n\tat org.apache.spark.sql.execution.SQLExecution$.$anonfun$withCustomExecutionEnv$1(SQLExecution.scala:203)\n\tat org.apache.spark.sql.SparkSession.withActive(SparkSession.scala:1073)\n\tat org.apache.spark.sql.execution.SQLExecution$.withCustomExecutionEnv(SQLExecution.scala:131)\n\tat org.apache.spark.sql.execution.SQLExecution$.withNewExecutionId(SQLExecution.scala:398)\n\tat org.apache.spark.sql.Dataset.withAction(Dataset.scala:4371)\n\tat org.apache.spark.sql.Dataset.collectResult(Dataset.scala:3448)\n\tat com.databricks.backend.daemon.driver.OutputAggregator$.withOutputAggregation0(OutputAggregator.scala:267)\n\tat com.databricks.backend.daemon.driver.OutputAggregator$.withOutputAggregation(OutputAggregator.scala:101)\n\tat com.databricks.backend.daemon.driver.PythonDriverLocalBase.generateTableResult(PythonDriverLocalBase.scala:727)\n\tat com.databricks.backend.daemon.driver.JupyterDriverLocal.computeListResultsItem(JupyterDriverLocal.scala:887)\n\tat com.databricks.backend.daemon.driver.JupyterDriverLocal$JupyterEntryPoint.addCustomDisplayData(JupyterDriverLocal.scala:286)\n\tat sun.reflect.GeneratedMethodAccessor462.invoke(Unknown Source)\n\tat sun.reflect.DelegatingMethodAccessorImpl.invoke(DelegatingMethodAccessorImpl.java:43)\n\tat java.lang.reflect.Method.invoke(Method.java:498)\n\tat py4j.reflection.MethodInvoker.invoke(MethodInvoker.java:244)\n\tat py4j.reflection.ReflectionEngine.invoke(ReflectionEngine.java:380)\n\tat py4j.Gateway.invoke(Gateway.java:306)\n\tat py4j.commands.AbstractCommand.invokeMethod(AbstractCommand.java:132)\n\tat py4j.commands.CallCommand.execute(CallCommand.java:79)\n\tat py4j.ClientServerConnection.waitForCommands(ClientServerConnection.java:195)\n\tat py4j.ClientServerConnection.run(ClientServerConnection.java:115)\n\tat java.lang.Thread.run(Thread.java:750)\nCaused by: com.databricks.sql.io.FileReadException: Error while reading file dbfs:/tmp/zeputy.csv/part-00000-tid-7531742791831032783-427bce3c-93b4-411b-9c8c-eb8bee5263a1-163-1-c000.csv.\n\tat org.apache.spark.sql.execution.datasources.FileScanRDD$$anon$1$$anon$2.logFileNameAndThrow(FileScanRDD.scala:704)\n\tat org.apache.spark.sql.execution.datasources.FileScanRDD$$anon$1$$anon$2.getNext(FileScanRDD.scala:673)\n\tat org.apache.spark.util.NextIterator.hasNext(NextIterator.scala:73)\n\tat org.apache.spark.sql.execution.datasources.FileScanRDD$$anon$1.$anonfun$hasNext$1(FileScanRDD.scala:493)\n\tat scala.runtime.java8.JFunction0$mcZ$sp.apply(JFunction0$mcZ$sp.java:23)\n\tat com.databricks.spark.util.ExecutorFrameProfiler$.record(ExecutorFrameProfiler.scala:110)\n\tat org.apache.spark.sql.execution.datasources.FileScanRDD$$anon$1.hasNext(FileScanRDD.scala:486)\n\tat scala.collection.Iterator$$anon$10.hasNext(Iterator.scala:460)\n\tat org.apache.spark.sql.execution.collect.UnsafeRowBatchUtils$.encodeUnsafeRows(UnsafeRowBatchUtils.scala:82)\n\tat org.apache.spark.sql.execution.collect.Collector.$anonfun$processFunc$1(Collector.scala:208)\n\tat org.apache.spark.scheduler.ResultTask.$anonfun$runTask$3(ResultTask.scala:75)\n\tat com.databricks.spark.util.ExecutorFrameProfiler$.record(ExecutorFrameProfiler.scala:110)\n\tat org.apache.spark.scheduler.ResultTask.$anonfun$runTask$1(ResultTask.scala:75)\n\tat com.databricks.spark.util.ExecutorFrameProfiler$.record(ExecutorFrameProfiler.scala:110)\n\tat org.apache.spark.scheduler.ResultTask.runTask(ResultTask.scala:55)\n\tat org.apache.spark.scheduler.Task.doRunTask(Task.scala:179)\n\tat org.apache.spark.scheduler.Task.$anonfun$run$5(Task.scala:142)\n\tat com.databricks.unity.EmptyHandle$.runWithAndClose(UCSHandle.scala:126)\n\tat org.apache.spark.scheduler.Task.$anonfun$run$1(Task.scala:142)\n\tat com.databricks.spark.util.ExecutorFrameProfiler$.record(ExecutorFrameProfiler.scala:110)\n\tat org.apache.spark.scheduler.Task.run(Task.scala:97)\n\tat org.apache.spark.executor.Executor$TaskRunner.$anonfun$run$13(Executor.scala:904)\n\tat org.apache.spark.util.Utils$.tryWithSafeFinally(Utils.scala:1741)\n\tat org.apache.spark.executor.Executor$TaskRunner.$anonfun$run$4(Executor.scala:907)\n\tat scala.runtime.java8.JFunction0$mcV$sp.apply(JFunction0$mcV$sp.java:23)\n\tat com.databricks.spark.util.ExecutorFrameProfiler$.record(ExecutorFrameProfiler.scala:110)\n\tat org.apache.spark.executor.Executor$TaskRunner.run(Executor.scala:761)\n\tat java.util.concurrent.ThreadPoolExecutor.runWorker(ThreadPoolExecutor.java:1149)\n\tat java.util.concurrent.ThreadPoolExecutor$Worker.run(ThreadPoolExecutor.java:624)\n\t... 1 more\nCaused by: org.apache.spark.SparkException: Malformed records are detected in record parsing. Parse Mode: FAILFAST. To process malformed records as null result, try setting the option 'mode' as 'PERMISSIVE'.\n\tat org.apache.spark.sql.errors.QueryExecutionErrors$.malformedRecordsDetectedInRecordParsingError(QueryExecutionErrors.scala:1936)\n\tat org.apache.spark.sql.catalyst.util.FailureSafeParser.parse(FailureSafeParser.scala:103)\n\tat org.apache.spark.sql.catalyst.csv.UnivocityParser$.$anonfun$parseIterator$2(UnivocityParser.scala:507)\n\tat scala.collection.Iterator$$anon$11.nextCur(Iterator.scala:486)\n\tat scala.collection.Iterator$$anon$11.hasNext(Iterator.scala:492)\n\tat org.apache.spark.util.CompletionIterator.hasNext(CompletionIterator.scala:31)\n\tat scala.collection.Iterator$$anon$10.hasNext(Iterator.scala:460)\n\tat org.apache.spark.sql.execution.datasources.FileScanRDD$$anon$1$$anon$2.getNext(FileScanRDD.scala:619)\n\t... 28 more\nCaused by: org.apache.spark.sql.catalyst.util.BadRecordException: java.lang.NumberFormatException: For input string: \"nan\"\nCaused by: java.lang.NumberFormatException: For input string: \"nan\"\n\tat java.lang.NumberFormatException.forInputString(NumberFormatException.java:65)\n\tat java.lang.Integer.parseInt(Integer.java:580)\n\tat java.lang.Integer.parseInt(Integer.java:615)\n\tat scala.collection.immutable.StringLike.toInt(StringLike.scala:304)\n\tat scala.collection.immutable.StringLike.toInt$(StringLike.scala:304)\n\tat scala.collection.immutable.StringOps.toInt(StringOps.scala:33)\n\tat org.apache.spark.sql.catalyst.csv.UnivocityParser.$anonfun$makeConverter$6(UnivocityParser.scala:202)\n\tat org.apache.spark.sql.catalyst.csv.UnivocityParser.$anonfun$makeConverter$6$adapted(UnivocityParser.scala:202)\n\tat org.apache.spark.sql.catalyst.csv.UnivocityParser.nullSafeDatum(UnivocityParser.scala:305)\n\tat org.apache.spark.sql.catalyst.csv.UnivocityParser.$anonfun$makeConverter$5(UnivocityParser.scala:202)\n\tat org.apache.spark.sql.catalyst.csv.UnivocityParser.convert(UnivocityParser.scala:360)\n\tat org.apache.spark.sql.catalyst.csv.UnivocityParser.$anonfun$parse$2(UnivocityParser.scala:321)\n\tat org.apache.spark.sql.catalyst.csv.UnivocityParser$.$anonfun$parseIterator$1(UnivocityParser.scala:499)\n\tat org.apache.spark.sql.catalyst.util.FailureSafeParser.parse(FailureSafeParser.scala:92)\n\tat org.apache.spark.sql.catalyst.csv.UnivocityParser$.$anonfun$parseIterator$2(UnivocityParser.scala:507)\n\tat scala.collection.Iterator$$anon$11.nextCur(Iterator.scala:486)\n\tat scala.collection.Iterator$$anon$11.hasNext(Iterator.scala:492)\n\tat org.apache.spark.util.CompletionIterator.hasNext(CompletionIterator.scala:31)\n\tat scala.collection.Iterator$$anon$10.hasNext(Iterator.scala:460)\n\tat org.apache.spark.sql.execution.datasources.FileScanRDD$$anon$1$$anon$2.getNext(FileScanRDD.scala:619)\n\tat org.apache.spark.util.NextIterator.hasNext(NextIterator.scala:73)\n\tat org.apache.spark.sql.execution.datasources.FileScanRDD$$anon$1.$anonfun$hasNext$1(FileScanRDD.scala:493)\n\tat scala.runtime.java8.JFunction0$mcZ$sp.apply(JFunction0$mcZ$sp.java:23)\n\tat com.databricks.spark.util.ExecutorFrameProfiler$.record(ExecutorFrameProfiler.scala:110)\n\tat org.apache.spark.sql.execution.datasources.FileScanRDD$$anon$1.hasNext(FileScanRDD.scala:486)\n\tat scala.collection.Iterator$$anon$10.hasNext(Iterator.scala:460)\n\tat org.apache.spark.sql.execution.collect.UnsafeRowBatchUtils$.encodeUnsafeRows(UnsafeRowBatchUtils.scala:82)\n\tat org.apache.spark.sql.execution.collect.Collector.$anonfun$processFunc$1(Collector.scala:208)\n\tat org.apache.spark.scheduler.ResultTask.$anonfun$runTask$3(ResultTask.scala:75)\n\tat com.databricks.spark.util.ExecutorFrameProfiler$.record(ExecutorFrameProfiler.scala:110)\n\tat org.apache.spark.scheduler.ResultTask.$anonfun$runTask$1(ResultTask.scala:75)\n\tat com.databricks.spark.util.ExecutorFrameProfiler$.record(ExecutorFrameProfiler.scala:110)\n\tat org.apache.spark.scheduler.ResultTask.runTask(ResultTask.scala:55)\n\tat org.apache.spark.scheduler.Task.doRunTask(Task.scala:179)\n\tat org.apache.spark.scheduler.Task.$anonfun$run$5(Task.scala:142)\n\tat com.databricks.unity.EmptyHandle$.runWithAndClose(UCSHandle.scala:126)\n\tat org.apache.spark.scheduler.Task.$anonfun$run$1(Task.scala:142)\n\tat com.databricks.spark.util.ExecutorFrameProfiler$.record(ExecutorFrameProfiler.scala:110)\n\tat org.apache.spark.scheduler.Task.run(Task.scala:97)\n\tat org.apache.spark.executor.Executor$TaskRunner.$anonfun$run$13(Executor.scala:904)\n\tat org.apache.spark.util.Utils$.tryWithSafeFinally(Utils.scala:1741)\n\tat org.apache.spark.executor.Executor$TaskRunner.$anonfun$run$4(Executor.scala:907)\n\tat scala.runtime.java8.JFunction0$mcV$sp.apply(JFunction0$mcV$sp.java:23)\n\tat com.databricks.spark.util.ExecutorFrameProfiler$.record(ExecutorFrameProfiler.scala:110)\n\tat org.apache.spark.executor.Executor$TaskRunner.run(Executor.scala:761)\n\tat java.util.concurrent.ThreadPoolExecutor.runWorker(ThreadPoolExecutor.java:1149)\n\tat java.util.concurrent.ThreadPoolExecutor$Worker.run(ThreadPoolExecutor.java:624)\n\tat java.lang.Thread.run(Thread.java:750)\n",
       "errorSummary": "FileReadException: Error while reading file dbfs:/tmp/zeputy.csv/part-00000-tid-7531742791831032783-427bce3c-93b4-411b-9c8c-eb8bee5263a1-163-1-c000.csv.\nCaused by: SparkException: Malformed records are detected in record parsing. Parse Mode: FAILFAST. To process malformed records as null result, try setting the option 'mode' as 'PERMISSIVE'.\nCaused by: BadRecordException: java.lang.NumberFormatException: For input string: \"nan\"\nCaused by: NumberFormatException: For input string: \"nan\"",
       "errorTraceType": "html",
       "metadata": {},
       "type": "ipynbError"
      }
     },
     "output_type": "display_data"
    }
   ],
   "source": [
    "crashedDfFailfast = spark.read.format('csv').option(\"header\", \"true\").schema(actors_schema).option(\"mode\", \"FAILFAST\").load(\"dbfs:/tmp/zeputy.csv\")\n",
    "display(crashedDfFailfast.limit(20)) # przerwał operację, gdy natrafił na błąd"
   ]
  },
  {
   "cell_type": "code",
   "execution_count": 0,
   "metadata": {
    "application/vnd.databricks.v1+cell": {
     "cellMetadata": {
      "byteLimit": 2048000,
      "rowLimit": 10000
     },
     "inputWidgets": {},
     "nuid": "71995734-1d5f-49b5-81ee-dbfdc1833801",
     "showTitle": false,
     "tableResultSettingsMap": {},
     "title": ""
    }
   },
   "outputs": [
    {
     "output_type": "display_data",
     "data": {
      "text/html": [
       "<style scoped>\n",
       "  .table-result-container {\n",
       "    max-height: 300px;\n",
       "    overflow: auto;\n",
       "  }\n",
       "  table, th, td {\n",
       "    border: 1px solid black;\n",
       "    border-collapse: collapse;\n",
       "  }\n",
       "  th, td {\n",
       "    padding: 5px;\n",
       "  }\n",
       "  th {\n",
       "    text-align: left;\n",
       "  }\n",
       "</style><div class='table-result-container'><table class='table-result'><thead style='background-color: white'><tr><th>imdb_title_id</th><th>ordering</th><th>imdb_name_id</th><th>category</th><th>job</th><th>characters</th></tr></thead><tbody><tr><td>tt0000009</td><td>1</td><td>nm0063086</td><td>actress</td><td>null</td><td>[Miss Geraldine Holbrook (Miss Jerry)]</td></tr><tr><td>tt0000009</td><td>2</td><td>nm0183823</td><td>actor</td><td>null</td><td>[Mr. Hamilton]</td></tr><tr><td>tt0000009</td><td>3</td><td>nm1309758</td><td>actor</td><td>null</td><td>[Chauncey Depew - the Director of the New York Central Railroad]</td></tr><tr><td>tt0000009</td><td>4</td><td>nm0085156</td><td>director</td><td>null</td><td>null</td></tr><tr><td>tt0000574</td><td>1</td><td>nm0846887</td><td>actress</td><td>null</td><td>[Kate Kelly]</td></tr><tr><td>tt0000574</td><td>2</td><td>nm0846894</td><td>actor</td><td>null</td><td>[School Master]</td></tr><tr><td>tt0000574</td><td>3</td><td>nm3002376</td><td>actor</td><td>null</td><td>[Steve Hart]</td></tr><tr><td>tt0000574</td><td>4</td><td>nm0170118</td><td>actress</td><td>null</td><td>null</td></tr><tr><td>tt0000574</td><td>5</td><td>nm0846879</td><td>director</td><td>null</td><td>null</td></tr><tr><td>tt0000574</td><td>6</td><td>nm0317210</td><td>producer</td><td>producer</td><td>null</td></tr><tr><td>tt0000574</td><td>7</td><td>nm0425854</td><td>producer</td><td>producer</td><td>null</td></tr><tr><td>tt0001892</td><td>1</td><td>nm0003425</td><td>actress</td><td>null</td><td>[Stella]</td></tr><tr><td>tt0001892</td><td>2</td><td>nm0699637</td><td>actor</td><td>null</td><td>[Grev Johan Waldberg]</td></tr><tr><td>tt0001892</td><td>3</td><td>nm0375839</td><td>actor</td><td>null</td><td>[Hofjuveler A. Hirsch]</td></tr><tr><td>tt0001892</td><td>4</td><td>nm0016799</td><td>actor</td><td>null</td><td>null</td></tr><tr><td>tt0001892</td><td>5</td><td>nm0300487</td><td>director</td><td>null</td><td>null</td></tr><tr><td>tt0001892</td><td>6</td><td>nm2131092</td><td>writer</td><td>screenplay</td><td>null</td></tr><tr><td>tt0001892</td><td>7</td><td>nm0423762</td><td>cinematographer</td><td>null</td><td>null</td></tr><tr><td>tt0002101</td><td>1</td><td>nm0306947</td><td>actress</td><td>null</td><td>[Cleopatra - Queen of Egypt]</td></tr><tr><td>tt0002101</td><td>2</td><td>nm0801774</td><td>actress</td><td>null</td><td>[Iras - An Attendant]</td></tr></tbody></table></div>"
      ]
     },
     "metadata": {
      "application/vnd.databricks.v1+output": {
       "addedWidgets": {},
       "aggData": [],
       "aggError": "",
       "aggOverflow": false,
       "aggSchema": [],
       "aggSeriesLimitReached": false,
       "aggType": "",
       "arguments": {},
       "columnCustomDisplayInfos": {},
       "data": [
        [
         "tt0000009",
         1,
         "nm0063086",
         "actress",
         null,
         "[Miss Geraldine Holbrook (Miss Jerry)]"
        ],
        [
         "tt0000009",
         2,
         "nm0183823",
         "actor",
         null,
         "[Mr. Hamilton]"
        ],
        [
         "tt0000009",
         3,
         "nm1309758",
         "actor",
         null,
         "[Chauncey Depew - the Director of the New York Central Railroad]"
        ],
        [
         "tt0000009",
         4,
         "nm0085156",
         "director",
         null,
         null
        ],
        [
         "tt0000574",
         1,
         "nm0846887",
         "actress",
         null,
         "[Kate Kelly]"
        ],
        [
         "tt0000574",
         2,
         "nm0846894",
         "actor",
         null,
         "[School Master]"
        ],
        [
         "tt0000574",
         3,
         "nm3002376",
         "actor",
         null,
         "[Steve Hart]"
        ],
        [
         "tt0000574",
         4,
         "nm0170118",
         "actress",
         null,
         null
        ],
        [
         "tt0000574",
         5,
         "nm0846879",
         "director",
         null,
         null
        ],
        [
         "tt0000574",
         6,
         "nm0317210",
         "producer",
         "producer",
         null
        ],
        [
         "tt0000574",
         7,
         "nm0425854",
         "producer",
         "producer",
         null
        ],
        [
         "tt0001892",
         1,
         "nm0003425",
         "actress",
         null,
         "[Stella]"
        ],
        [
         "tt0001892",
         2,
         "nm0699637",
         "actor",
         null,
         "[Grev Johan Waldberg]"
        ],
        [
         "tt0001892",
         3,
         "nm0375839",
         "actor",
         null,
         "[Hofjuveler A. Hirsch]"
        ],
        [
         "tt0001892",
         4,
         "nm0016799",
         "actor",
         null,
         null
        ],
        [
         "tt0001892",
         5,
         "nm0300487",
         "director",
         null,
         null
        ],
        [
         "tt0001892",
         6,
         "nm2131092",
         "writer",
         "screenplay",
         null
        ],
        [
         "tt0001892",
         7,
         "nm0423762",
         "cinematographer",
         null,
         null
        ],
        [
         "tt0002101",
         1,
         "nm0306947",
         "actress",
         null,
         "[Cleopatra - Queen of Egypt]"
        ],
        [
         "tt0002101",
         2,
         "nm0801774",
         "actress",
         null,
         "[Iras - An Attendant]"
        ]
       ],
       "datasetInfos": [],
       "dbfsResultPath": null,
       "isJsonSchema": true,
       "metadata": {},
       "overflow": false,
       "plotOptions": {
        "customPlotOptions": {},
        "displayType": "table",
        "pivotAggregation": null,
        "pivotColumns": null,
        "xColumns": null,
        "yColumns": null
       },
       "removedWidgets": [],
       "schema": [
        {
         "metadata": "{}",
         "name": "imdb_title_id",
         "type": "\"string\""
        },
        {
         "metadata": "{}",
         "name": "ordering",
         "type": "\"integer\""
        },
        {
         "metadata": "{}",
         "name": "imdb_name_id",
         "type": "\"string\""
        },
        {
         "metadata": "{}",
         "name": "category",
         "type": "\"string\""
        },
        {
         "metadata": "{}",
         "name": "job",
         "type": "\"string\""
        },
        {
         "metadata": "{}",
         "name": "characters",
         "type": "\"string\""
        }
       ],
       "type": "table"
      }
     },
     "output_type": "display_data"
    }
   ],
   "source": [
    "crashedDfBadRecords = spark.read.format(\"csv\").option(\"header\", \"true\").schema(actors_schema).option(\"badRecordsPath\", \"/mnt/source/badrecords\").load(\"dbfs:/tmp/zeputy.csv\")\n",
    "display(crashedDfBadRecords.limit(20)) # usunął wiersze z null w kolumnie \"ordering\""
   ]
  },
  {
   "cell_type": "markdown",
   "metadata": {
    "application/vnd.databricks.v1+cell": {
     "cellMetadata": {},
     "inputWidgets": {},
     "nuid": "9acf023a-5948-45d5-94b4-db7aed9f1add",
     "showTitle": false,
     "tableResultSettingsMap": {},
     "title": ""
    }
   },
   "source": [
    "## Zadanie 4"
   ]
  },
  {
   "cell_type": "code",
   "execution_count": 0,
   "metadata": {
    "application/vnd.databricks.v1+cell": {
     "cellMetadata": {
      "byteLimit": 2048000,
      "rowLimit": 10000
     },
     "inputWidgets": {},
     "nuid": "b16f0f68-f371-4e4a-977e-b4cb668186a5",
     "showTitle": false,
     "tableResultSettingsMap": {},
     "title": ""
    }
   },
   "outputs": [
    {
     "output_type": "display_data",
     "data": {
      "text/html": [
       "<style scoped>\n",
       "  .table-result-container {\n",
       "    max-height: 300px;\n",
       "    overflow: auto;\n",
       "  }\n",
       "  table, th, td {\n",
       "    border: 1px solid black;\n",
       "    border-collapse: collapse;\n",
       "  }\n",
       "  th, td {\n",
       "    padding: 5px;\n",
       "  }\n",
       "  th {\n",
       "    text-align: left;\n",
       "  }\n",
       "</style><div class='table-result-container'><table class='table-result'><thead style='background-color: white'><tr><th>imdb_title_id</th><th>ordering</th><th>imdb_name_id</th><th>category</th><th>job</th><th>characters</th></tr></thead><tbody><tr><td>tt3249124</td><td>4</td><td>nm6005417</td><td>actor</td><td>null</td><td>[Tom]</td></tr><tr><td>tt3249124</td><td>5</td><td>nm1871431</td><td>director</td><td>null</td><td>null</td></tr><tr><td>tt3249124</td><td>6</td><td>nm1862032</td><td>producer</td><td>producer</td><td>null</td></tr><tr><td>tt3249124</td><td>7</td><td>nm4261282</td><td>composer</td><td>null</td><td>null</td></tr><tr><td>tt3249124</td><td>8</td><td>nm1677303</td><td>production_designer</td><td>null</td><td>null</td></tr><tr><td>tt3249158</td><td>1</td><td>nm2946712</td><td>actor</td><td>null</td><td>[Sebastian]</td></tr><tr><td>tt3249158</td><td>2</td><td>nm2578315</td><td>actress</td><td>null</td><td>[Miranda]</td></tr><tr><td>tt3249158</td><td>3</td><td>nm7033017</td><td>actor</td><td>null</td><td>[Jacinto]</td></tr><tr><td>tt3249158</td><td>4</td><td>nm7033021</td><td>actor</td><td>null</td><td>[Rosa]</td></tr><tr><td>tt3249158</td><td>5</td><td>nm1848095</td><td>director</td><td>null</td><td>null</td></tr><tr><td>tt3249158</td><td>6</td><td>nm1120960</td><td>producer</td><td>producer</td><td>null</td></tr><tr><td>tt3249158</td><td>7</td><td>nm4065853</td><td>producer</td><td>producer</td><td>null</td></tr><tr><td>tt3249158</td><td>8</td><td>nm1680580</td><td>producer</td><td>producer</td><td>null</td></tr><tr><td>tt3249158</td><td>9</td><td>nm2613542</td><td>composer</td><td>null</td><td>null</td></tr><tr><td>tt3249158</td><td>10</td><td>nm0608209</td><td>cinematographer</td><td>null</td><td>null</td></tr><tr><td>tt3249524</td><td>1</td><td>nm2768721</td><td>actress</td><td>null</td><td>[Polly]</td></tr><tr><td>tt3249524</td><td>2</td><td>nm0059088</td><td>actress</td><td>null</td><td>[Rachel]</td></tr><tr><td>tt3249524</td><td>3</td><td>nm6005667</td><td>actress</td><td>null</td><td>[Rachel]</td></tr><tr><td>tt3249524</td><td>4</td><td>nm6736174</td><td>actor</td><td>null</td><td>[Bigg Weezy]</td></tr><tr><td>tt3249524</td><td>5</td><td>nm1053523</td><td>director</td><td>null</td><td>null</td></tr></tbody></table></div>"
      ]
     },
     "metadata": {
      "application/vnd.databricks.v1+output": {
       "addedWidgets": {},
       "aggData": [],
       "aggError": "",
       "aggOverflow": false,
       "aggSchema": [],
       "aggSeriesLimitReached": false,
       "aggType": "",
       "arguments": {},
       "columnCustomDisplayInfos": {},
       "data": [
        [
         "tt3249124",
         4,
         "nm6005417",
         "actor",
         null,
         "[Tom]"
        ],
        [
         "tt3249124",
         5,
         "nm1871431",
         "director",
         null,
         null
        ],
        [
         "tt3249124",
         6,
         "nm1862032",
         "producer",
         "producer",
         null
        ],
        [
         "tt3249124",
         7,
         "nm4261282",
         "composer",
         null,
         null
        ],
        [
         "tt3249124",
         8,
         "nm1677303",
         "production_designer",
         null,
         null
        ],
        [
         "tt3249158",
         1,
         "nm2946712",
         "actor",
         null,
         "[Sebastian]"
        ],
        [
         "tt3249158",
         2,
         "nm2578315",
         "actress",
         null,
         "[Miranda]"
        ],
        [
         "tt3249158",
         3,
         "nm7033017",
         "actor",
         null,
         "[Jacinto]"
        ],
        [
         "tt3249158",
         4,
         "nm7033021",
         "actor",
         null,
         "[Rosa]"
        ],
        [
         "tt3249158",
         5,
         "nm1848095",
         "director",
         null,
         null
        ],
        [
         "tt3249158",
         6,
         "nm1120960",
         "producer",
         "producer",
         null
        ],
        [
         "tt3249158",
         7,
         "nm4065853",
         "producer",
         "producer",
         null
        ],
        [
         "tt3249158",
         8,
         "nm1680580",
         "producer",
         "producer",
         null
        ],
        [
         "tt3249158",
         9,
         "nm2613542",
         "composer",
         null,
         null
        ],
        [
         "tt3249158",
         10,
         "nm0608209",
         "cinematographer",
         null,
         null
        ],
        [
         "tt3249524",
         1,
         "nm2768721",
         "actress",
         null,
         "[Polly]"
        ],
        [
         "tt3249524",
         2,
         "nm0059088",
         "actress",
         null,
         "[Rachel]"
        ],
        [
         "tt3249524",
         3,
         "nm6005667",
         "actress",
         null,
         "[Rachel]"
        ],
        [
         "tt3249524",
         4,
         "nm6736174",
         "actor",
         null,
         "[Bigg Weezy]"
        ],
        [
         "tt3249524",
         5,
         "nm1053523",
         "director",
         null,
         null
        ]
       ],
       "datasetInfos": [],
       "dbfsResultPath": null,
       "isJsonSchema": true,
       "metadata": {},
       "overflow": false,
       "plotOptions": {
        "customPlotOptions": {},
        "displayType": "table",
        "pivotAggregation": null,
        "pivotColumns": null,
        "xColumns": null,
        "yColumns": null
       },
       "removedWidgets": [],
       "schema": [
        {
         "metadata": "{}",
         "name": "imdb_title_id",
         "type": "\"string\""
        },
        {
         "metadata": "{}",
         "name": "ordering",
         "type": "\"integer\""
        },
        {
         "metadata": "{}",
         "name": "imdb_name_id",
         "type": "\"string\""
        },
        {
         "metadata": "{}",
         "name": "category",
         "type": "\"string\""
        },
        {
         "metadata": "{}",
         "name": "job",
         "type": "\"string\""
        },
        {
         "metadata": "{}",
         "name": "characters",
         "type": "\"string\""
        }
       ],
       "type": "table"
      }
     },
     "output_type": "display_data"
    }
   ],
   "source": [
    "actorsDf.write.option(\"header\", \"true\").format(\"parquet\").mode(\"overwrite\").save(\"dbfs:/tmp/actors.parquet\")\n",
    "actorsParquet = spark.read.format(\"parquet\").schema(actors_schema).option(\"header\", \"true\").load(\"dbfs:/tmp/actors.parquet\")\n",
    "display(actorsParquet.limit(20))"
   ]
  },
  {
   "cell_type": "code",
   "execution_count": 0,
   "metadata": {
    "application/vnd.databricks.v1+cell": {
     "cellMetadata": {
      "byteLimit": 2048000,
      "rowLimit": 10000
     },
     "inputWidgets": {},
     "nuid": "800aebe7-acf8-4c7d-8638-5bf9101e4893",
     "showTitle": false,
     "tableResultSettingsMap": {},
     "title": ""
    }
   },
   "outputs": [
    {
     "output_type": "display_data",
     "data": {
      "text/html": [
       "<style scoped>\n",
       "  .table-result-container {\n",
       "    max-height: 300px;\n",
       "    overflow: auto;\n",
       "  }\n",
       "  table, th, td {\n",
       "    border: 1px solid black;\n",
       "    border-collapse: collapse;\n",
       "  }\n",
       "  th, td {\n",
       "    padding: 5px;\n",
       "  }\n",
       "  th {\n",
       "    text-align: left;\n",
       "  }\n",
       "</style><div class='table-result-container'><table class='table-result'><thead style='background-color: white'><tr><th>imdb_title_id</th><th>ordering</th><th>imdb_name_id</th><th>category</th><th>job</th><th>characters</th></tr></thead><tbody><tr><td>tt3249124</td><td>4</td><td>nm6005417</td><td>actor</td><td>null</td><td>[Tom]</td></tr><tr><td>tt3249124</td><td>5</td><td>nm1871431</td><td>director</td><td>null</td><td>null</td></tr><tr><td>tt3249124</td><td>6</td><td>nm1862032</td><td>producer</td><td>producer</td><td>null</td></tr><tr><td>tt3249124</td><td>7</td><td>nm4261282</td><td>composer</td><td>null</td><td>null</td></tr><tr><td>tt3249124</td><td>8</td><td>nm1677303</td><td>production_designer</td><td>null</td><td>null</td></tr><tr><td>tt3249158</td><td>1</td><td>nm2946712</td><td>actor</td><td>null</td><td>[Sebastian]</td></tr><tr><td>tt3249158</td><td>2</td><td>nm2578315</td><td>actress</td><td>null</td><td>[Miranda]</td></tr><tr><td>tt3249158</td><td>3</td><td>nm7033017</td><td>actor</td><td>null</td><td>[Jacinto]</td></tr><tr><td>tt3249158</td><td>4</td><td>nm7033021</td><td>actor</td><td>null</td><td>[Rosa]</td></tr><tr><td>tt3249158</td><td>5</td><td>nm1848095</td><td>director</td><td>null</td><td>null</td></tr><tr><td>tt3249158</td><td>6</td><td>nm1120960</td><td>producer</td><td>producer</td><td>null</td></tr><tr><td>tt3249158</td><td>7</td><td>nm4065853</td><td>producer</td><td>producer</td><td>null</td></tr><tr><td>tt3249158</td><td>8</td><td>nm1680580</td><td>producer</td><td>producer</td><td>null</td></tr><tr><td>tt3249158</td><td>9</td><td>nm2613542</td><td>composer</td><td>null</td><td>null</td></tr><tr><td>tt3249158</td><td>10</td><td>nm0608209</td><td>cinematographer</td><td>null</td><td>null</td></tr><tr><td>tt3249524</td><td>1</td><td>nm2768721</td><td>actress</td><td>null</td><td>[Polly]</td></tr><tr><td>tt3249524</td><td>2</td><td>nm0059088</td><td>actress</td><td>null</td><td>[Rachel]</td></tr><tr><td>tt3249524</td><td>3</td><td>nm6005667</td><td>actress</td><td>null</td><td>[Rachel]</td></tr><tr><td>tt3249524</td><td>4</td><td>nm6736174</td><td>actor</td><td>null</td><td>[Bigg Weezy]</td></tr><tr><td>tt3249524</td><td>5</td><td>nm1053523</td><td>director</td><td>null</td><td>null</td></tr></tbody></table></div>"
      ]
     },
     "metadata": {
      "application/vnd.databricks.v1+output": {
       "addedWidgets": {},
       "aggData": [],
       "aggError": "",
       "aggOverflow": false,
       "aggSchema": [],
       "aggSeriesLimitReached": false,
       "aggType": "",
       "arguments": {},
       "columnCustomDisplayInfos": {},
       "data": [
        [
         "tt3249124",
         4,
         "nm6005417",
         "actor",
         null,
         "[Tom]"
        ],
        [
         "tt3249124",
         5,
         "nm1871431",
         "director",
         null,
         null
        ],
        [
         "tt3249124",
         6,
         "nm1862032",
         "producer",
         "producer",
         null
        ],
        [
         "tt3249124",
         7,
         "nm4261282",
         "composer",
         null,
         null
        ],
        [
         "tt3249124",
         8,
         "nm1677303",
         "production_designer",
         null,
         null
        ],
        [
         "tt3249158",
         1,
         "nm2946712",
         "actor",
         null,
         "[Sebastian]"
        ],
        [
         "tt3249158",
         2,
         "nm2578315",
         "actress",
         null,
         "[Miranda]"
        ],
        [
         "tt3249158",
         3,
         "nm7033017",
         "actor",
         null,
         "[Jacinto]"
        ],
        [
         "tt3249158",
         4,
         "nm7033021",
         "actor",
         null,
         "[Rosa]"
        ],
        [
         "tt3249158",
         5,
         "nm1848095",
         "director",
         null,
         null
        ],
        [
         "tt3249158",
         6,
         "nm1120960",
         "producer",
         "producer",
         null
        ],
        [
         "tt3249158",
         7,
         "nm4065853",
         "producer",
         "producer",
         null
        ],
        [
         "tt3249158",
         8,
         "nm1680580",
         "producer",
         "producer",
         null
        ],
        [
         "tt3249158",
         9,
         "nm2613542",
         "composer",
         null,
         null
        ],
        [
         "tt3249158",
         10,
         "nm0608209",
         "cinematographer",
         null,
         null
        ],
        [
         "tt3249524",
         1,
         "nm2768721",
         "actress",
         null,
         "[Polly]"
        ],
        [
         "tt3249524",
         2,
         "nm0059088",
         "actress",
         null,
         "[Rachel]"
        ],
        [
         "tt3249524",
         3,
         "nm6005667",
         "actress",
         null,
         "[Rachel]"
        ],
        [
         "tt3249524",
         4,
         "nm6736174",
         "actor",
         null,
         "[Bigg Weezy]"
        ],
        [
         "tt3249524",
         5,
         "nm1053523",
         "director",
         null,
         null
        ]
       ],
       "datasetInfos": [],
       "dbfsResultPath": null,
       "isJsonSchema": true,
       "metadata": {},
       "overflow": false,
       "plotOptions": {
        "customPlotOptions": {},
        "displayType": "table",
        "pivotAggregation": null,
        "pivotColumns": null,
        "xColumns": null,
        "yColumns": null
       },
       "removedWidgets": [],
       "schema": [
        {
         "metadata": "{}",
         "name": "imdb_title_id",
         "type": "\"string\""
        },
        {
         "metadata": "{}",
         "name": "ordering",
         "type": "\"integer\""
        },
        {
         "metadata": "{}",
         "name": "imdb_name_id",
         "type": "\"string\""
        },
        {
         "metadata": "{}",
         "name": "category",
         "type": "\"string\""
        },
        {
         "metadata": "{}",
         "name": "job",
         "type": "\"string\""
        },
        {
         "metadata": "{}",
         "name": "characters",
         "type": "\"string\""
        }
       ],
       "type": "table"
      }
     },
     "output_type": "display_data"
    }
   ],
   "source": [
    "actorsDf.write.option(\"header\", \"true\").format(\"json\").mode(\"overwrite\").save(\"dbfs:/tmp/actors.json\")\n",
    "actorsJson = spark.read.format(\"json\").schema(actors_schema).option(\"header\", \"true\").load(\"dbfs:/tmp/actors.json\")\n",
    "display(actorsJson.limit(20))"
   ]
  }
 ],
 "metadata": {
  "application/vnd.databricks.v1+notebook": {
   "computePreferences": null,
   "dashboards": [],
   "environmentMetadata": {
    "base_environment": "",
    "client": "1"
   },
   "language": "python",
   "notebookMetadata": {
    "pythonIndentUnit": 4
   },
   "notebookName": "Daty Python cd",
   "widgets": {}
  }
 },
 "nbformat": 4,
 "nbformat_minor": 0
}
