{
 "cells": [
  {
   "cell_type": "markdown",
   "metadata": {
    "application/vnd.databricks.v1+cell": {
     "cellMetadata": {
      "byteLimit": 2048000,
      "rowLimit": 10000
     },
     "inputWidgets": {},
     "nuid": "cec1630e-4997-447a-a00d-c93c70172ecc",
     "showTitle": false,
     "tableResultSettingsMap": {},
     "title": ""
    }
   },
   "source": [
    "## Zadanie 3"
   ]
  },
  {
   "cell_type": "code",
   "execution_count": 0,
   "metadata": {
    "application/vnd.databricks.v1+cell": {
     "cellMetadata": {
      "byteLimit": 2048000,
      "rowLimit": 10000
     },
     "inputWidgets": {},
     "nuid": "e3d02867-a90d-4f92-9303-5ca90cd7f802",
     "showTitle": false,
     "tableResultSettingsMap": {},
     "title": ""
    }
   },
   "outputs": [],
   "source": [
    "from pyspark.sql.functions import *\n",
    "from pyspark.sql import Window"
   ]
  },
  {
   "cell_type": "code",
   "execution_count": 0,
   "metadata": {
    "application/vnd.databricks.v1+cell": {
     "cellMetadata": {
      "byteLimit": 2048000,
      "rowLimit": 10000
     },
     "inputWidgets": {},
     "nuid": "8dbbc9e7-9f4b-40fe-8e0a-e50c9e39d4da",
     "showTitle": false,
     "tableResultSettingsMap": {},
     "title": ""
    }
   },
   "outputs": [
    {
     "data": {
      "text/html": [
       "<style scoped>\n",
       "  .table-result-container {\n",
       "    max-height: 300px;\n",
       "    overflow: auto;\n",
       "  }\n",
       "  table, th, td {\n",
       "    border: 1px solid black;\n",
       "    border-collapse: collapse;\n",
       "  }\n",
       "  th, td {\n",
       "    padding: 5px;\n",
       "  }\n",
       "  th {\n",
       "    text-align: left;\n",
       "  }\n",
       "</style><div class='table-result-container'><table class='table-result'><thead style='background-color: white'><tr><th>AccountId</th><th>TranDate</th><th>TranAmt</th></tr></thead><tbody><tr><td>1</td><td>2011-01-01</td><td>500</td></tr><tr><td>1</td><td>2011-01-15</td><td>50</td></tr><tr><td>1</td><td>2011-01-22</td><td>250</td></tr><tr><td>1</td><td>2011-01-24</td><td>75</td></tr><tr><td>1</td><td>2011-01-26</td><td>125</td></tr><tr><td>1</td><td>2011-01-28</td><td>175</td></tr><tr><td>2</td><td>2011-01-01</td><td>500</td></tr><tr><td>2</td><td>2011-01-15</td><td>50</td></tr><tr><td>2</td><td>2011-01-22</td><td>25</td></tr><tr><td>2</td><td>2011-01-23</td><td>125</td></tr><tr><td>2</td><td>2011-01-26</td><td>200</td></tr><tr><td>2</td><td>2011-01-29</td><td>250</td></tr><tr><td>3</td><td>2011-01-01</td><td>500</td></tr><tr><td>3</td><td>2011-01-15</td><td>50</td></tr><tr><td>3</td><td>2011-01-22</td><td>5000</td></tr><tr><td>3</td><td>2011-01-25</td><td>550</td></tr><tr><td>3</td><td>2011-01-27</td><td>95</td></tr><tr><td>3</td><td>2011-01-30</td><td>2500</td></tr></tbody></table></div>"
      ]
     },
     "metadata": {
      "application/vnd.databricks.v1+output": {
       "addedWidgets": {},
       "aggData": [],
       "aggError": "",
       "aggOverflow": false,
       "aggSchema": [],
       "aggSeriesLimitReached": false,
       "aggType": "",
       "arguments": {},
       "columnCustomDisplayInfos": {},
       "data": [
        [
         1,
         "2011-01-01",
         500
        ],
        [
         1,
         "2011-01-15",
         50
        ],
        [
         1,
         "2011-01-22",
         250
        ],
        [
         1,
         "2011-01-24",
         75
        ],
        [
         1,
         "2011-01-26",
         125
        ],
        [
         1,
         "2011-01-28",
         175
        ],
        [
         2,
         "2011-01-01",
         500
        ],
        [
         2,
         "2011-01-15",
         50
        ],
        [
         2,
         "2011-01-22",
         25
        ],
        [
         2,
         "2011-01-23",
         125
        ],
        [
         2,
         "2011-01-26",
         200
        ],
        [
         2,
         "2011-01-29",
         250
        ],
        [
         3,
         "2011-01-01",
         500
        ],
        [
         3,
         "2011-01-15",
         50
        ],
        [
         3,
         "2011-01-22",
         5000
        ],
        [
         3,
         "2011-01-25",
         550
        ],
        [
         3,
         "2011-01-27",
         95
        ],
        [
         3,
         "2011-01-30",
         2500
        ]
       ],
       "datasetInfos": [],
       "dbfsResultPath": null,
       "isJsonSchema": true,
       "metadata": {},
       "overflow": false,
       "plotOptions": {
        "customPlotOptions": {},
        "displayType": "table",
        "pivotAggregation": null,
        "pivotColumns": null,
        "xColumns": null,
        "yColumns": null
       },
       "removedWidgets": [],
       "schema": [
        {
         "metadata": "{}",
         "name": "AccountId",
         "type": "\"long\""
        },
        {
         "metadata": "{}",
         "name": "TranDate",
         "type": "\"date\""
        },
        {
         "metadata": "{}",
         "name": "TranAmt",
         "type": "\"long\""
        }
       ],
       "type": "table"
      }
     },
     "output_type": "display_data"
    },
    {
     "data": {
      "text/html": [
       "<style scoped>\n",
       "  .table-result-container {\n",
       "    max-height: 300px;\n",
       "    overflow: auto;\n",
       "  }\n",
       "  table, th, td {\n",
       "    border: 1px solid black;\n",
       "    border-collapse: collapse;\n",
       "  }\n",
       "  th, td {\n",
       "    padding: 5px;\n",
       "  }\n",
       "  th {\n",
       "    text-align: left;\n",
       "  }\n",
       "</style><div class='table-result-container'><table class='table-result'><thead style='background-color: white'><tr><th>RowID</th><th>FName</th><th>Salary</th></tr></thead><tbody><tr><td>1</td><td>George</td><td>800</td></tr><tr><td>2</td><td>Sam</td><td>950</td></tr><tr><td>3</td><td>Diane</td><td>1100</td></tr><tr><td>4</td><td>Nicholas</td><td>1250</td></tr><tr><td>5</td><td>Samuel</td><td>1250</td></tr><tr><td>6</td><td>Patricia</td><td>1300</td></tr><tr><td>7</td><td>Brian</td><td>1500</td></tr><tr><td>8</td><td>Thomas</td><td>1600</td></tr><tr><td>9</td><td>Fran</td><td>2450</td></tr><tr><td>10</td><td>Debbie</td><td>2850</td></tr><tr><td>11</td><td>Mark</td><td>2975</td></tr><tr><td>12</td><td>James</td><td>3000</td></tr><tr><td>13</td><td>Cynthia</td><td>3000</td></tr><tr><td>14</td><td>Christopher</td><td>5000</td></tr></tbody></table></div>"
      ]
     },
     "metadata": {
      "application/vnd.databricks.v1+output": {
       "addedWidgets": {},
       "aggData": [],
       "aggError": "",
       "aggOverflow": false,
       "aggSchema": [],
       "aggSeriesLimitReached": false,
       "aggType": "",
       "arguments": {},
       "columnCustomDisplayInfos": {},
       "data": [
        [
         1,
         "George",
         800
        ],
        [
         2,
         "Sam",
         950
        ],
        [
         3,
         "Diane",
         1100
        ],
        [
         4,
         "Nicholas",
         1250
        ],
        [
         5,
         "Samuel",
         1250
        ],
        [
         6,
         "Patricia",
         1300
        ],
        [
         7,
         "Brian",
         1500
        ],
        [
         8,
         "Thomas",
         1600
        ],
        [
         9,
         "Fran",
         2450
        ],
        [
         10,
         "Debbie",
         2850
        ],
        [
         11,
         "Mark",
         2975
        ],
        [
         12,
         "James",
         3000
        ],
        [
         13,
         "Cynthia",
         3000
        ],
        [
         14,
         "Christopher",
         5000
        ]
       ],
       "datasetInfos": [],
       "dbfsResultPath": null,
       "isJsonSchema": true,
       "metadata": {},
       "overflow": false,
       "plotOptions": {
        "customPlotOptions": {},
        "displayType": "table",
        "pivotAggregation": null,
        "pivotColumns": null,
        "xColumns": null,
        "yColumns": null
       },
       "removedWidgets": [],
       "schema": [
        {
         "metadata": "{}",
         "name": "RowID",
         "type": "\"long\""
        },
        {
         "metadata": "{}",
         "name": "FName",
         "type": "\"string\""
        },
        {
         "metadata": "{}",
         "name": "Salary",
         "type": "\"long\""
        }
       ],
       "type": "table"
      }
     },
     "output_type": "display_data"
    }
   ],
   "source": [
    "# Dane dla Transactions\n",
    "transactions_data = [\n",
    "( 1, '2011-01-01', 500),\n",
    "( 1, '2011-01-15', 50),\n",
    "( 1, '2011-01-22', 250),\n",
    "( 1, '2011-01-24', 75),\n",
    "( 1, '2011-01-26', 125),\n",
    "( 1, '2011-01-28', 175),\n",
    "( 2, '2011-01-01', 500),\n",
    "( 2, '2011-01-15', 50),\n",
    "( 2, '2011-01-22', 25),\n",
    "( 2, '2011-01-23', 125),\n",
    "( 2, '2011-01-26', 200),\n",
    "( 2, '2011-01-29', 250),\n",
    "( 3, '2011-01-01', 500),\n",
    "( 3, '2011-01-15', 50 ),\n",
    "( 3, '2011-01-22', 5000),\n",
    "( 3, '2011-01-25', 550),\n",
    "( 3, '2011-01-27', 95 ),\n",
    "( 3, '2011-01-30', 2500)\n",
    "]\n",
    "\n",
    "transactions_df = spark.createDataFrame(transactions_data, [\"AccountId\", \"TranDate\", \"TranAmt\"])\n",
    "transactions_df = transactions_df.withColumn(\"TranDate\", to_date(\"TranDate\", \"yyyy-MM-dd\"))\n",
    "display(transactions_df)\n",
    "\n",
    "# Dane dla Logical\n",
    "logical_data = [\n",
    "(1,'George', 800),\n",
    "(2,'Sam', 950),\n",
    "(3,'Diane', 1100),\n",
    "(4,'Nicholas', 1250),\n",
    "(5,'Samuel', 1250),\n",
    "(6,'Patricia', 1300),\n",
    "(7,'Brian', 1500),\n",
    "(8,'Thomas', 1600),\n",
    "(9,'Fran', 2450),\n",
    "(10,'Debbie', 2850),\n",
    "(11,'Mark', 2975),\n",
    "(12,'James', 3000),\n",
    "(13,'Cynthia', 3000),\n",
    "(14,'Christopher', 5000)\n",
    "]\n",
    "\n",
    "logical_df = spark.createDataFrame(logical_data, [\"RowID\", \"FName\", \"Salary\"])\n",
    "display(logical_df)"
   ]
  },
  {
   "cell_type": "code",
   "execution_count": 0,
   "metadata": {
    "application/vnd.databricks.v1+cell": {
     "cellMetadata": {
      "byteLimit": 2048000,
      "rowLimit": 10000
     },
     "inputWidgets": {},
     "nuid": "1668febb-e22f-4ad0-9c21-6cb47957c44f",
     "showTitle": false,
     "tableResultSettingsMap": {},
     "title": ""
    }
   },
   "outputs": [
    {
     "data": {
      "text/html": [
       "<style scoped>\n",
       "  .table-result-container {\n",
       "    max-height: 300px;\n",
       "    overflow: auto;\n",
       "  }\n",
       "  table, th, td {\n",
       "    border: 1px solid black;\n",
       "    border-collapse: collapse;\n",
       "  }\n",
       "  th, td {\n",
       "    padding: 5px;\n",
       "  }\n",
       "  th {\n",
       "    text-align: left;\n",
       "  }\n",
       "</style><div class='table-result-container'><table class='table-result'><thead style='background-color: white'><tr><th>AccountId</th><th>TranDate</th><th>TranAmt</th><th>RunTotalAmt</th></tr></thead><tbody><tr><td>1</td><td>2011-01-01</td><td>500</td><td>500</td></tr><tr><td>1</td><td>2011-01-15</td><td>50</td><td>550</td></tr><tr><td>1</td><td>2011-01-22</td><td>250</td><td>800</td></tr><tr><td>1</td><td>2011-01-24</td><td>75</td><td>875</td></tr><tr><td>1</td><td>2011-01-26</td><td>125</td><td>1000</td></tr><tr><td>1</td><td>2011-01-28</td><td>175</td><td>1175</td></tr><tr><td>2</td><td>2011-01-01</td><td>500</td><td>500</td></tr><tr><td>2</td><td>2011-01-15</td><td>50</td><td>550</td></tr><tr><td>2</td><td>2011-01-22</td><td>25</td><td>575</td></tr><tr><td>2</td><td>2011-01-23</td><td>125</td><td>700</td></tr><tr><td>2</td><td>2011-01-26</td><td>200</td><td>900</td></tr><tr><td>2</td><td>2011-01-29</td><td>250</td><td>1150</td></tr><tr><td>3</td><td>2011-01-01</td><td>500</td><td>500</td></tr><tr><td>3</td><td>2011-01-15</td><td>50</td><td>550</td></tr><tr><td>3</td><td>2011-01-22</td><td>5000</td><td>5550</td></tr><tr><td>3</td><td>2011-01-25</td><td>550</td><td>6100</td></tr><tr><td>3</td><td>2011-01-27</td><td>95</td><td>6195</td></tr><tr><td>3</td><td>2011-01-30</td><td>2500</td><td>8695</td></tr></tbody></table></div>"
      ]
     },
     "metadata": {
      "application/vnd.databricks.v1+output": {
       "addedWidgets": {},
       "aggData": [],
       "aggError": "",
       "aggOverflow": false,
       "aggSchema": [],
       "aggSeriesLimitReached": false,
       "aggType": "",
       "arguments": {},
       "columnCustomDisplayInfos": {},
       "data": [
        [
         1,
         "2011-01-01",
         500,
         500
        ],
        [
         1,
         "2011-01-15",
         50,
         550
        ],
        [
         1,
         "2011-01-22",
         250,
         800
        ],
        [
         1,
         "2011-01-24",
         75,
         875
        ],
        [
         1,
         "2011-01-26",
         125,
         1000
        ],
        [
         1,
         "2011-01-28",
         175,
         1175
        ],
        [
         2,
         "2011-01-01",
         500,
         500
        ],
        [
         2,
         "2011-01-15",
         50,
         550
        ],
        [
         2,
         "2011-01-22",
         25,
         575
        ],
        [
         2,
         "2011-01-23",
         125,
         700
        ],
        [
         2,
         "2011-01-26",
         200,
         900
        ],
        [
         2,
         "2011-01-29",
         250,
         1150
        ],
        [
         3,
         "2011-01-01",
         500,
         500
        ],
        [
         3,
         "2011-01-15",
         50,
         550
        ],
        [
         3,
         "2011-01-22",
         5000,
         5550
        ],
        [
         3,
         "2011-01-25",
         550,
         6100
        ],
        [
         3,
         "2011-01-27",
         95,
         6195
        ],
        [
         3,
         "2011-01-30",
         2500,
         8695
        ]
       ],
       "datasetInfos": [],
       "dbfsResultPath": null,
       "isJsonSchema": true,
       "metadata": {},
       "overflow": false,
       "plotOptions": {
        "customPlotOptions": {},
        "displayType": "table",
        "pivotAggregation": null,
        "pivotColumns": null,
        "xColumns": null,
        "yColumns": null
       },
       "removedWidgets": [],
       "schema": [
        {
         "metadata": "{}",
         "name": "AccountId",
         "type": "\"long\""
        },
        {
         "metadata": "{}",
         "name": "TranDate",
         "type": "\"date\""
        },
        {
         "metadata": "{}",
         "name": "TranAmt",
         "type": "\"long\""
        },
        {
         "metadata": "{}",
         "name": "RunTotalAmt",
         "type": "\"long\""
        }
       ],
       "type": "table"
      }
     },
     "output_type": "display_data"
    }
   ],
   "source": [
    "window = Window.partitionBy(\"AccountId\").orderBy(\"TranDate\")\n",
    "display(transactions_df.withColumn(\"RunTotalAmt\", sum(\"TranAmt\").over(window)).orderBy([\"AccountId\",\"TranDate\"]))"
   ]
  },
  {
   "cell_type": "code",
   "execution_count": 0,
   "metadata": {
    "application/vnd.databricks.v1+cell": {
     "cellMetadata": {
      "byteLimit": 2048000,
      "rowLimit": 10000
     },
     "inputWidgets": {},
     "nuid": "8ee43507-aa24-4c41-84dd-f64ade7d516e",
     "showTitle": false,
     "tableResultSettingsMap": {},
     "title": ""
    }
   },
   "outputs": [
    {
     "data": {
      "text/html": [
       "<style scoped>\n",
       "  .table-result-container {\n",
       "    max-height: 300px;\n",
       "    overflow: auto;\n",
       "  }\n",
       "  table, th, td {\n",
       "    border: 1px solid black;\n",
       "    border-collapse: collapse;\n",
       "  }\n",
       "  th, td {\n",
       "    padding: 5px;\n",
       "  }\n",
       "  th {\n",
       "    text-align: left;\n",
       "  }\n",
       "</style><div class='table-result-container'><table class='table-result'><thead style='background-color: white'><tr><th>AccountId</th><th>TranDate</th><th>TranAmt</th><th>RunAvg</th><th>RunTranQty</th><th>RunMinAmt</th><th>RunMaxAmt</th><th>RunTotalAmt</th></tr></thead><tbody><tr><td>1</td><td>2011-01-01</td><td>500</td><td>500.0</td><td>1</td><td>500</td><td>500</td><td>500</td></tr><tr><td>1</td><td>2011-01-15</td><td>50</td><td>275.0</td><td>2</td><td>50</td><td>500</td><td>550</td></tr><tr><td>1</td><td>2011-01-22</td><td>250</td><td>266.6666666666667</td><td>3</td><td>50</td><td>500</td><td>800</td></tr><tr><td>1</td><td>2011-01-24</td><td>75</td><td>218.75</td><td>4</td><td>50</td><td>500</td><td>875</td></tr><tr><td>1</td><td>2011-01-26</td><td>125</td><td>200.0</td><td>5</td><td>50</td><td>500</td><td>1000</td></tr><tr><td>1</td><td>2011-01-28</td><td>175</td><td>195.83333333333334</td><td>6</td><td>50</td><td>500</td><td>1175</td></tr><tr><td>2</td><td>2011-01-01</td><td>500</td><td>500.0</td><td>1</td><td>500</td><td>500</td><td>500</td></tr><tr><td>2</td><td>2011-01-15</td><td>50</td><td>275.0</td><td>2</td><td>50</td><td>500</td><td>550</td></tr><tr><td>2</td><td>2011-01-22</td><td>25</td><td>191.66666666666666</td><td>3</td><td>25</td><td>500</td><td>575</td></tr><tr><td>2</td><td>2011-01-23</td><td>125</td><td>175.0</td><td>4</td><td>25</td><td>500</td><td>700</td></tr><tr><td>2</td><td>2011-01-26</td><td>200</td><td>180.0</td><td>5</td><td>25</td><td>500</td><td>900</td></tr><tr><td>2</td><td>2011-01-29</td><td>250</td><td>191.66666666666666</td><td>6</td><td>25</td><td>500</td><td>1150</td></tr><tr><td>3</td><td>2011-01-01</td><td>500</td><td>500.0</td><td>1</td><td>500</td><td>500</td><td>500</td></tr><tr><td>3</td><td>2011-01-15</td><td>50</td><td>275.0</td><td>2</td><td>50</td><td>500</td><td>550</td></tr><tr><td>3</td><td>2011-01-22</td><td>5000</td><td>1850.0</td><td>3</td><td>50</td><td>5000</td><td>5550</td></tr><tr><td>3</td><td>2011-01-25</td><td>550</td><td>1525.0</td><td>4</td><td>50</td><td>5000</td><td>6100</td></tr><tr><td>3</td><td>2011-01-27</td><td>95</td><td>1239.0</td><td>5</td><td>50</td><td>5000</td><td>6195</td></tr><tr><td>3</td><td>2011-01-30</td><td>2500</td><td>1449.1666666666667</td><td>6</td><td>50</td><td>5000</td><td>8695</td></tr></tbody></table></div>"
      ]
     },
     "metadata": {
      "application/vnd.databricks.v1+output": {
       "addedWidgets": {},
       "aggData": [],
       "aggError": "",
       "aggOverflow": false,
       "aggSchema": [],
       "aggSeriesLimitReached": false,
       "aggType": "",
       "arguments": {},
       "columnCustomDisplayInfos": {},
       "data": [
        [
         1,
         "2011-01-01",
         500,
         500,
         1,
         500,
         500,
         500
        ],
        [
         1,
         "2011-01-15",
         50,
         275,
         2,
         50,
         500,
         550
        ],
        [
         1,
         "2011-01-22",
         250,
         266.6666666666667,
         3,
         50,
         500,
         800
        ],
        [
         1,
         "2011-01-24",
         75,
         218.75,
         4,
         50,
         500,
         875
        ],
        [
         1,
         "2011-01-26",
         125,
         200,
         5,
         50,
         500,
         1000
        ],
        [
         1,
         "2011-01-28",
         175,
         195.83333333333334,
         6,
         50,
         500,
         1175
        ],
        [
         2,
         "2011-01-01",
         500,
         500,
         1,
         500,
         500,
         500
        ],
        [
         2,
         "2011-01-15",
         50,
         275,
         2,
         50,
         500,
         550
        ],
        [
         2,
         "2011-01-22",
         25,
         191.66666666666666,
         3,
         25,
         500,
         575
        ],
        [
         2,
         "2011-01-23",
         125,
         175,
         4,
         25,
         500,
         700
        ],
        [
         2,
         "2011-01-26",
         200,
         180,
         5,
         25,
         500,
         900
        ],
        [
         2,
         "2011-01-29",
         250,
         191.66666666666666,
         6,
         25,
         500,
         1150
        ],
        [
         3,
         "2011-01-01",
         500,
         500,
         1,
         500,
         500,
         500
        ],
        [
         3,
         "2011-01-15",
         50,
         275,
         2,
         50,
         500,
         550
        ],
        [
         3,
         "2011-01-22",
         5000,
         1850,
         3,
         50,
         5000,
         5550
        ],
        [
         3,
         "2011-01-25",
         550,
         1525,
         4,
         50,
         5000,
         6100
        ],
        [
         3,
         "2011-01-27",
         95,
         1239,
         5,
         50,
         5000,
         6195
        ],
        [
         3,
         "2011-01-30",
         2500,
         1449.1666666666667,
         6,
         50,
         5000,
         8695
        ]
       ],
       "datasetInfos": [],
       "dbfsResultPath": null,
       "isJsonSchema": true,
       "metadata": {},
       "overflow": false,
       "plotOptions": {
        "customPlotOptions": {},
        "displayType": "table",
        "pivotAggregation": null,
        "pivotColumns": null,
        "xColumns": null,
        "yColumns": null
       },
       "removedWidgets": [],
       "schema": [
        {
         "metadata": "{}",
         "name": "AccountId",
         "type": "\"long\""
        },
        {
         "metadata": "{}",
         "name": "TranDate",
         "type": "\"date\""
        },
        {
         "metadata": "{}",
         "name": "TranAmt",
         "type": "\"long\""
        },
        {
         "metadata": "{}",
         "name": "RunAvg",
         "type": "\"double\""
        },
        {
         "metadata": "{}",
         "name": "RunTranQty",
         "type": "\"long\""
        },
        {
         "metadata": "{}",
         "name": "RunMinAmt",
         "type": "\"long\""
        },
        {
         "metadata": "{}",
         "name": "RunMaxAmt",
         "type": "\"long\""
        },
        {
         "metadata": "{}",
         "name": "RunTotalAmt",
         "type": "\"long\""
        }
       ],
       "type": "table"
      }
     },
     "output_type": "display_data"
    }
   ],
   "source": [
    "display(transactions_df.withColumn(\"RunAvg\", avg(\"TranAmt\").over(window))\\\n",
    "    .withColumn(\"RunTranQty\", count(\"*\").over(window))\\\n",
    "    .withColumn(\"RunMinAmt\", min(\"TranAmt\").over(window))\\\n",
    "    .withColumn(\"RunMaxAmt\", max(\"TranAmt\").over(window))\\\n",
    "    .withColumn(\"RunTotalAmt\", sum(\"TranAmt\").over(window))\\\n",
    "    .orderBy([\"AccountId\",\"TranDate\"]))"
   ]
  },
  {
   "cell_type": "code",
   "execution_count": 0,
   "metadata": {
    "application/vnd.databricks.v1+cell": {
     "cellMetadata": {
      "byteLimit": 2048000,
      "rowLimit": 10000
     },
     "inputWidgets": {},
     "nuid": "0a6c039a-c5fa-48a4-9c26-2b047cff39d8",
     "showTitle": false,
     "tableResultSettingsMap": {},
     "title": ""
    }
   },
   "outputs": [
    {
     "data": {
      "text/html": [
       "<style scoped>\n",
       "  .table-result-container {\n",
       "    max-height: 300px;\n",
       "    overflow: auto;\n",
       "  }\n",
       "  table, th, td {\n",
       "    border: 1px solid black;\n",
       "    border-collapse: collapse;\n",
       "  }\n",
       "  th, td {\n",
       "    padding: 5px;\n",
       "  }\n",
       "  th {\n",
       "    text-align: left;\n",
       "  }\n",
       "</style><div class='table-result-container'><table class='table-result'><thead style='background-color: white'><tr><th>AccountId</th><th>TranDate</th><th>TranAmt</th><th>SlideAvg</th><th>SlideQty</th><th>SlideMin</th><th>SlideMax</th><th>SlideTotal</th><th>RowNumber</th></tr></thead><tbody><tr><td>1</td><td>2011-01-01</td><td>500</td><td>500.0</td><td>1</td><td>500</td><td>500</td><td>500</td><td>1</td></tr><tr><td>1</td><td>2011-01-15</td><td>50</td><td>275.0</td><td>2</td><td>50</td><td>500</td><td>550</td><td>2</td></tr><tr><td>1</td><td>2011-01-22</td><td>250</td><td>266.6666666666667</td><td>3</td><td>50</td><td>500</td><td>800</td><td>3</td></tr><tr><td>1</td><td>2011-01-24</td><td>75</td><td>125.0</td><td>3</td><td>50</td><td>250</td><td>375</td><td>4</td></tr><tr><td>1</td><td>2011-01-26</td><td>125</td><td>150.0</td><td>3</td><td>75</td><td>250</td><td>450</td><td>5</td></tr><tr><td>1</td><td>2011-01-28</td><td>175</td><td>125.0</td><td>3</td><td>75</td><td>175</td><td>375</td><td>6</td></tr><tr><td>2</td><td>2011-01-01</td><td>500</td><td>500.0</td><td>1</td><td>500</td><td>500</td><td>500</td><td>1</td></tr><tr><td>2</td><td>2011-01-15</td><td>50</td><td>275.0</td><td>2</td><td>50</td><td>500</td><td>550</td><td>2</td></tr><tr><td>2</td><td>2011-01-22</td><td>25</td><td>191.66666666666666</td><td>3</td><td>25</td><td>500</td><td>575</td><td>3</td></tr><tr><td>2</td><td>2011-01-23</td><td>125</td><td>66.66666666666667</td><td>3</td><td>25</td><td>125</td><td>200</td><td>4</td></tr><tr><td>2</td><td>2011-01-26</td><td>200</td><td>116.66666666666667</td><td>3</td><td>25</td><td>200</td><td>350</td><td>5</td></tr><tr><td>2</td><td>2011-01-29</td><td>250</td><td>191.66666666666666</td><td>3</td><td>125</td><td>250</td><td>575</td><td>6</td></tr><tr><td>3</td><td>2011-01-01</td><td>500</td><td>500.0</td><td>1</td><td>500</td><td>500</td><td>500</td><td>1</td></tr><tr><td>3</td><td>2011-01-15</td><td>50</td><td>275.0</td><td>2</td><td>50</td><td>500</td><td>550</td><td>2</td></tr><tr><td>3</td><td>2011-01-22</td><td>5000</td><td>1850.0</td><td>3</td><td>50</td><td>5000</td><td>5550</td><td>3</td></tr><tr><td>3</td><td>2011-01-25</td><td>550</td><td>1866.6666666666667</td><td>3</td><td>50</td><td>5000</td><td>5600</td><td>4</td></tr><tr><td>3</td><td>2011-01-27</td><td>95</td><td>1881.6666666666667</td><td>3</td><td>95</td><td>5000</td><td>5645</td><td>5</td></tr><tr><td>3</td><td>2011-01-30</td><td>2500</td><td>1048.3333333333333</td><td>3</td><td>95</td><td>2500</td><td>3145</td><td>6</td></tr></tbody></table></div>"
      ]
     },
     "metadata": {
      "application/vnd.databricks.v1+output": {
       "addedWidgets": {},
       "aggData": [],
       "aggError": "",
       "aggOverflow": false,
       "aggSchema": [],
       "aggSeriesLimitReached": false,
       "aggType": "",
       "arguments": {},
       "columnCustomDisplayInfos": {},
       "data": [
        [
         1,
         "2011-01-01",
         500,
         500,
         1,
         500,
         500,
         500,
         1
        ],
        [
         1,
         "2011-01-15",
         50,
         275,
         2,
         50,
         500,
         550,
         2
        ],
        [
         1,
         "2011-01-22",
         250,
         266.6666666666667,
         3,
         50,
         500,
         800,
         3
        ],
        [
         1,
         "2011-01-24",
         75,
         125,
         3,
         50,
         250,
         375,
         4
        ],
        [
         1,
         "2011-01-26",
         125,
         150,
         3,
         75,
         250,
         450,
         5
        ],
        [
         1,
         "2011-01-28",
         175,
         125,
         3,
         75,
         175,
         375,
         6
        ],
        [
         2,
         "2011-01-01",
         500,
         500,
         1,
         500,
         500,
         500,
         1
        ],
        [
         2,
         "2011-01-15",
         50,
         275,
         2,
         50,
         500,
         550,
         2
        ],
        [
         2,
         "2011-01-22",
         25,
         191.66666666666666,
         3,
         25,
         500,
         575,
         3
        ],
        [
         2,
         "2011-01-23",
         125,
         66.66666666666667,
         3,
         25,
         125,
         200,
         4
        ],
        [
         2,
         "2011-01-26",
         200,
         116.66666666666667,
         3,
         25,
         200,
         350,
         5
        ],
        [
         2,
         "2011-01-29",
         250,
         191.66666666666666,
         3,
         125,
         250,
         575,
         6
        ],
        [
         3,
         "2011-01-01",
         500,
         500,
         1,
         500,
         500,
         500,
         1
        ],
        [
         3,
         "2011-01-15",
         50,
         275,
         2,
         50,
         500,
         550,
         2
        ],
        [
         3,
         "2011-01-22",
         5000,
         1850,
         3,
         50,
         5000,
         5550,
         3
        ],
        [
         3,
         "2011-01-25",
         550,
         1866.6666666666667,
         3,
         50,
         5000,
         5600,
         4
        ],
        [
         3,
         "2011-01-27",
         95,
         1881.6666666666667,
         3,
         95,
         5000,
         5645,
         5
        ],
        [
         3,
         "2011-01-30",
         2500,
         1048.3333333333333,
         3,
         95,
         2500,
         3145,
         6
        ]
       ],
       "datasetInfos": [],
       "dbfsResultPath": null,
       "isJsonSchema": true,
       "metadata": {},
       "overflow": false,
       "plotOptions": {
        "customPlotOptions": {},
        "displayType": "table",
        "pivotAggregation": null,
        "pivotColumns": null,
        "xColumns": null,
        "yColumns": null
       },
       "removedWidgets": [],
       "schema": [
        {
         "metadata": "{}",
         "name": "AccountId",
         "type": "\"long\""
        },
        {
         "metadata": "{}",
         "name": "TranDate",
         "type": "\"date\""
        },
        {
         "metadata": "{}",
         "name": "TranAmt",
         "type": "\"long\""
        },
        {
         "metadata": "{}",
         "name": "SlideAvg",
         "type": "\"double\""
        },
        {
         "metadata": "{}",
         "name": "SlideQty",
         "type": "\"long\""
        },
        {
         "metadata": "{}",
         "name": "SlideMin",
         "type": "\"long\""
        },
        {
         "metadata": "{}",
         "name": "SlideMax",
         "type": "\"long\""
        },
        {
         "metadata": "{}",
         "name": "SlideTotal",
         "type": "\"long\""
        },
        {
         "metadata": "{}",
         "name": "RowNumber",
         "type": "\"integer\""
        }
       ],
       "type": "table"
      }
     },
     "output_type": "display_data"
    }
   ],
   "source": [
    "sliding_window = Window.partitionBy(\"AccountId\").orderBy(\"TranDate\").rowsBetween(-2, 0)\n",
    "sliding_window_2 = Window.partitionBy(\"AccountId\").orderBy(\"TranDate\")\n",
    "\n",
    "display(transactions_df.withColumn(\"SlideAvg\", avg(\"TranAmt\").over(sliding_window))\\\n",
    "    .withColumn(\"SlideQty\", count(\"*\").over(sliding_window))\\\n",
    "    .withColumn(\"SlideMin\", min(\"TranAmt\").over(sliding_window))\\\n",
    "    .withColumn(\"SlideMax\", max(\"TranAmt\").over(sliding_window))\\\n",
    "    .withColumn(\"SlideTotal\", sum(\"TranAmt\").over(sliding_window))\\\n",
    "    .withColumn(\"RowNumber\", row_number().over(sliding_window_2))\\\n",
    "    .orderBy([\"AccountId\",\"TranDate\", \"RowNumber\"]))\n"
   ]
  },
  {
   "cell_type": "code",
   "execution_count": 0,
   "metadata": {
    "application/vnd.databricks.v1+cell": {
     "cellMetadata": {
      "byteLimit": 2048000,
      "rowLimit": 10000
     },
     "inputWidgets": {},
     "nuid": "7e2d8b0f-0dc5-4d22-b607-772eb33d3d22",
     "showTitle": false,
     "tableResultSettingsMap": {},
     "title": ""
    }
   },
   "outputs": [
    {
     "data": {
      "text/html": [
       "<style scoped>\n",
       "  .table-result-container {\n",
       "    max-height: 300px;\n",
       "    overflow: auto;\n",
       "  }\n",
       "  table, th, td {\n",
       "    border: 1px solid black;\n",
       "    border-collapse: collapse;\n",
       "  }\n",
       "  th, td {\n",
       "    padding: 5px;\n",
       "  }\n",
       "  th {\n",
       "    text-align: left;\n",
       "  }\n",
       "</style><div class='table-result-container'><table class='table-result'><thead style='background-color: white'><tr><th>RowID</th><th>FName</th><th>Salary</th><th>SumByRows</th><th>SumByRange</th></tr></thead><tbody><tr><td>1</td><td>George</td><td>800</td><td>800</td><td>800</td></tr><tr><td>2</td><td>Sam</td><td>950</td><td>1750</td><td>1750</td></tr><tr><td>3</td><td>Diane</td><td>1100</td><td>2850</td><td>2850</td></tr><tr><td>4</td><td>Nicholas</td><td>1250</td><td>4100</td><td>5350</td></tr><tr><td>5</td><td>Samuel</td><td>1250</td><td>5350</td><td>5350</td></tr><tr><td>6</td><td>Patricia</td><td>1300</td><td>6650</td><td>6650</td></tr><tr><td>7</td><td>Brian</td><td>1500</td><td>8150</td><td>8150</td></tr><tr><td>8</td><td>Thomas</td><td>1600</td><td>9750</td><td>9750</td></tr><tr><td>9</td><td>Fran</td><td>2450</td><td>12200</td><td>12200</td></tr><tr><td>10</td><td>Debbie</td><td>2850</td><td>15050</td><td>15050</td></tr><tr><td>11</td><td>Mark</td><td>2975</td><td>18025</td><td>18025</td></tr><tr><td>12</td><td>James</td><td>3000</td><td>21025</td><td>24025</td></tr><tr><td>13</td><td>Cynthia</td><td>3000</td><td>24025</td><td>24025</td></tr><tr><td>14</td><td>Christopher</td><td>5000</td><td>29025</td><td>29025</td></tr></tbody></table></div>"
      ]
     },
     "metadata": {
      "application/vnd.databricks.v1+output": {
       "addedWidgets": {},
       "aggData": [],
       "aggError": "",
       "aggOverflow": false,
       "aggSchema": [],
       "aggSeriesLimitReached": false,
       "aggType": "",
       "arguments": {},
       "columnCustomDisplayInfos": {},
       "data": [
        [
         1,
         "George",
         800,
         800,
         800
        ],
        [
         2,
         "Sam",
         950,
         1750,
         1750
        ],
        [
         3,
         "Diane",
         1100,
         2850,
         2850
        ],
        [
         4,
         "Nicholas",
         1250,
         4100,
         5350
        ],
        [
         5,
         "Samuel",
         1250,
         5350,
         5350
        ],
        [
         6,
         "Patricia",
         1300,
         6650,
         6650
        ],
        [
         7,
         "Brian",
         1500,
         8150,
         8150
        ],
        [
         8,
         "Thomas",
         1600,
         9750,
         9750
        ],
        [
         9,
         "Fran",
         2450,
         12200,
         12200
        ],
        [
         10,
         "Debbie",
         2850,
         15050,
         15050
        ],
        [
         11,
         "Mark",
         2975,
         18025,
         18025
        ],
        [
         12,
         "James",
         3000,
         21025,
         24025
        ],
        [
         13,
         "Cynthia",
         3000,
         24025,
         24025
        ],
        [
         14,
         "Christopher",
         5000,
         29025,
         29025
        ]
       ],
       "datasetInfos": [],
       "dbfsResultPath": null,
       "isJsonSchema": true,
       "metadata": {},
       "overflow": false,
       "plotOptions": {
        "customPlotOptions": {},
        "displayType": "table",
        "pivotAggregation": null,
        "pivotColumns": null,
        "xColumns": null,
        "yColumns": null
       },
       "removedWidgets": [],
       "schema": [
        {
         "metadata": "{}",
         "name": "RowID",
         "type": "\"long\""
        },
        {
         "metadata": "{}",
         "name": "FName",
         "type": "\"string\""
        },
        {
         "metadata": "{}",
         "name": "Salary",
         "type": "\"long\""
        },
        {
         "metadata": "{}",
         "name": "SumByRows",
         "type": "\"long\""
        },
        {
         "metadata": "{}",
         "name": "SumByRange",
         "type": "\"long\""
        }
       ],
       "type": "table"
      }
     },
     "output_type": "display_data"
    }
   ],
   "source": [
    "window_rows_unbounded = Window.orderBy(\"Salary\").rowsBetween(Window.unboundedPreceding, Window.currentRow)\n",
    "window_range_unbounded = Window.orderBy(\"Salary\").rangeBetween(Window.unboundedPreceding, Window.currentRow)\n",
    "\n",
    "display(logical_df.withColumn(\"SumByRows\", sum(\"Salary\").over(window_rows_unbounded))\\\n",
    "    .withColumn(\"SumByRange\", sum(\"Salary\").over(window_range_unbounded))\\\n",
    "    .orderBy(\"RowID\"))"
   ]
  }
 ],
 "metadata": {
  "application/vnd.databricks.v1+notebook": {
   "computePreferences": null,
   "dashboards": [],
   "environmentMetadata": {
    "base_environment": "",
    "environment_version": "1"
   },
   "inputWidgetPreferences": null,
   "language": "python",
   "notebookMetadata": {
    "pythonIndentUnit": 4
   },
   "notebookName": "Notatnik 2",
   "widgets": {}
  },
  "language_info": {
   "name": "python"
  }
 },
 "nbformat": 4,
 "nbformat_minor": 0
}
