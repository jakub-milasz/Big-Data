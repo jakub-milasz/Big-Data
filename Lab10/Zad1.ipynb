{
 "cells": [
  {
   "cell_type": "code",
   "execution_count": 0,
   "metadata": {
    "application/vnd.databricks.v1+cell": {
     "cellMetadata": {
      "byteLimit": 2048000,
      "rowLimit": 10000
     },
     "inputWidgets": {},
     "nuid": "27335ece-226e-48dd-b87f-42cb532348e3",
     "showTitle": false,
     "tableResultSettingsMap": {},
     "title": ""
    }
   },
   "outputs": [],
   "source": [
    "from pyspark.sql.functions import col\n",
    "\n",
    "df = spark.read.option(\"multiline\", \"true\").json(\"dbfs:/FileStore/tables/json/Nested.json\")"
   ]
  },
  {
   "cell_type": "code",
   "execution_count": 0,
   "metadata": {
    "application/vnd.databricks.v1+cell": {
     "cellMetadata": {
      "byteLimit": 2048000,
      "rowLimit": 10000
     },
     "inputWidgets": {},
     "nuid": "00849706-9d9d-479b-81fb-d5f6dc594e28",
     "showTitle": false,
     "tableResultSettingsMap": {},
     "title": ""
    }
   },
   "outputs": [
    {
     "output_type": "display_data",
     "data": {
      "text/html": [
       "<style scoped>\n",
       "  .table-result-container {\n",
       "    max-height: 300px;\n",
       "    overflow: auto;\n",
       "  }\n",
       "  table, th, td {\n",
       "    border: 1px solid black;\n",
       "    border-collapse: collapse;\n",
       "  }\n",
       "  th, td {\n",
       "    padding: 5px;\n",
       "  }\n",
       "  th {\n",
       "    text-align: left;\n",
       "  }\n",
       "</style><div class='table-result-container'><table class='table-result'><thead style='background-color: white'><tr><th>CaptureDate</th><th>CaptureID</th><th>FID</th><th>Geometry</th><th>attribute1</th><th>changeType_source</th><th>identifier</th><th>pathLinkInfo</th></tr></thead><tbody><tr><td>2020-12-31T00:00:00</td><td>3</td><td>24b3sdf4353fc220</td><td>Geo223</td><td>Under Construction</td><td>insert</td><td>2</td><td>List(null, Urban, null, List(1.3, 0), 0, eb7f6122-f765-4113-8b77-908934437ee96, false, Path, null, List(4fb3afad-2c56-4946-83d1-d734508705e2), DTM, Matched, null, MissingFID, 0, 147b7a78-04bf-4f9a-801d-61dc534a0a5, Sealed on surface)</td></tr></tbody></table></div>"
      ]
     },
     "metadata": {
      "application/vnd.databricks.v1+output": {
       "addedWidgets": {},
       "aggData": [],
       "aggError": "",
       "aggOverflow": false,
       "aggSchema": [],
       "aggSeriesLimitReached": false,
       "aggType": "",
       "arguments": {},
       "columnCustomDisplayInfos": {},
       "data": [
        [
         "2020-12-31T00:00:00",
         3,
         "24b3sdf4353fc220",
         "Geo223",
         "Under Construction",
         "insert",
         2,
         [
          null,
          "Urban",
          null,
          [
           1.3,
           0
          ],
          0,
          "eb7f6122-f765-4113-8b77-908934437ee96",
          false,
          "Path",
          null,
          [
           "4fb3afad-2c56-4946-83d1-d734508705e2"
          ],
          "DTM",
          "Matched",
          null,
          "MissingFID",
          0,
          "147b7a78-04bf-4f9a-801d-61dc534a0a5",
          "Sealed on surface"
         ]
        ]
       ],
       "datasetInfos": [],
       "dbfsResultPath": null,
       "isJsonSchema": true,
       "metadata": {},
       "overflow": false,
       "plotOptions": {
        "customPlotOptions": {},
        "displayType": "table",
        "pivotAggregation": null,
        "pivotColumns": null,
        "xColumns": null,
        "yColumns": null
       },
       "removedWidgets": [],
       "schema": [
        {
         "metadata": "{}",
         "name": "CaptureDate",
         "type": "\"string\""
        },
        {
         "metadata": "{}",
         "name": "CaptureID",
         "type": "\"long\""
        },
        {
         "metadata": "{}",
         "name": "FID",
         "type": "\"string\""
        },
        {
         "metadata": "{}",
         "name": "Geometry",
         "type": "\"string\""
        },
        {
         "metadata": "{}",
         "name": "attribute1",
         "type": "\"string\""
        },
        {
         "metadata": "{}",
         "name": "changeType_source",
         "type": "\"string\""
        },
        {
         "metadata": "{}",
         "name": "identifier",
         "type": "\"long\""
        },
        {
         "metadata": "{}",
         "name": "pathLinkInfo",
         "type": "{\"type\":\"struct\",\"fields\":[{\"name\":\"alternateName\",\"type\":\"string\",\"nullable\":true,\"metadata\":{}},{\"name\":\"captureSpecification\",\"type\":\"string\",\"nullable\":true,\"metadata\":{}},{\"name\":\"cycleFacility\",\"type\":\"string\",\"nullable\":true,\"metadata\":{}},{\"name\":\"elevationGain\",\"type\":{\"type\":\"struct\",\"fields\":[{\"name\":\"elevationAgainstDirection\",\"type\":\"double\",\"nullable\":true,\"metadata\":{}},{\"name\":\"elevationInDirection\",\"type\":\"long\",\"nullable\":true,\"metadata\":{}}]},\"nullable\":true,\"metadata\":{}},{\"name\":\"endGradeSeparation\",\"type\":\"long\",\"nullable\":true,\"metadata\":{}},{\"name\":\"endNode\",\"type\":\"string\",\"nullable\":true,\"metadata\":{}},{\"name\":\"fictitious\",\"type\":\"boolean\",\"nullable\":true,\"metadata\":{}},{\"name\":\"formOfWay\",\"type\":\"string\",\"nullable\":true,\"metadata\":{}},{\"name\":\"formsPartOfPath\",\"type\":\"string\",\"nullable\":true,\"metadata\":{}},{\"name\":\"formsPartOfStreet\",\"type\":{\"type\":\"array\",\"elementType\":\"string\",\"containsNull\":true},\"nullable\":true,\"metadata\":{}},{\"name\":\"heightingMethod\",\"type\":\"string\",\"nullable\":true,\"metadata\":{}},{\"name\":\"matchStatus\",\"type\":\"string\",\"nullable\":true,\"metadata\":{}},{\"name\":\"pathName\",\"type\":\"string\",\"nullable\":true,\"metadata\":{}},{\"name\":\"sourceFID\",\"type\":\"string\",\"nullable\":true,\"metadata\":{}},{\"name\":\"startGradeSeparation\",\"type\":\"long\",\"nullable\":true,\"metadata\":{}},{\"name\":\"startNode\",\"type\":\"string\",\"nullable\":true,\"metadata\":{}},{\"name\":\"surfaceType\",\"type\":\"string\",\"nullable\":true,\"metadata\":{}}]}"
        }
       ],
       "type": "table"
      }
     },
     "output_type": "display_data"
    }
   ],
   "source": [
    "display(df)"
   ]
  },
  {
   "cell_type": "code",
   "execution_count": 0,
   "metadata": {
    "application/vnd.databricks.v1+cell": {
     "cellMetadata": {
      "byteLimit": 2048000,
      "rowLimit": 10000
     },
     "inputWidgets": {},
     "nuid": "d5fbac62-05b2-415e-9cdf-b0fabe63f315",
     "showTitle": false,
     "tableResultSettingsMap": {},
     "title": ""
    }
   },
   "outputs": [
    {
     "output_type": "stream",
     "name": "stdout",
     "output_type": "stream",
     "text": [
      "+-------------------+---------+----------------+--------+-----------------+----------+---------------------------------------------------------------------------------------------------------------------------------------------------------------------------------------------------------------+\n|CaptureDate        |CaptureID|FID             |Geometry|changeType_source|identifier|pathLinkInfo                                                                                                                                                                                                   |\n+-------------------+---------+----------------+--------+-----------------+----------+---------------------------------------------------------------------------------------------------------------------------------------------------------------------------------------------------------------+\n|2020-12-31T00:00:00|3        |24b3sdf4353fc220|Geo223  |insert           |2         |{null, Urban, null, {0}, eb7f6122-f765-4113-8b77-908934437ee96, false, Path, [4fb3afad-2c56-4946-83d1-d734508705e2], DTM, Matched, null, MissingFID, 0, 147b7a78-04bf-4f9a-801d-61dc534a0a5, Sealed on surface}|\n+-------------------+---------+----------------+--------+-----------------+----------+---------------------------------------------------------------------------------------------------------------------------------------------------------------------------------------------------------------+\n\nroot\n |-- CaptureDate: string (nullable = true)\n |-- CaptureID: long (nullable = true)\n |-- FID: string (nullable = true)\n |-- Geometry: string (nullable = true)\n |-- changeType_source: string (nullable = true)\n |-- identifier: long (nullable = true)\n |-- pathLinkInfo: struct (nullable = true)\n |    |-- alternateName: string (nullable = true)\n |    |-- captureSpecification: string (nullable = true)\n |    |-- cycleFacility: string (nullable = true)\n |    |-- elevationGain: struct (nullable = true)\n |    |    |-- elevationInDirection: long (nullable = true)\n |    |-- endNode: string (nullable = true)\n |    |-- fictitious: boolean (nullable = true)\n |    |-- formOfWay: string (nullable = true)\n |    |-- formsPartOfStreet: array (nullable = true)\n |    |    |-- element: string (containsNull = true)\n |    |-- heightingMethod: string (nullable = true)\n |    |-- matchStatus: string (nullable = true)\n |    |-- pathName: string (nullable = true)\n |    |-- sourceFID: string (nullable = true)\n |    |-- startGradeSeparation: long (nullable = true)\n |    |-- startNode: string (nullable = true)\n |    |-- surfaceType: string (nullable = true)\n\n"
     ]
    }
   ],
   "source": [
    "df = df.drop(\"attribute1\")\n",
    "\n",
    "df = df.withColumn(\n",
    "    \"pathLinkInfo\",\n",
    "    col(\"pathLinkInfo\").dropFields(\"endGradeSeparation\", \"formsPartOfPath\")\n",
    ")\n",
    "\n",
    "df = df.withColumn(\n",
    "    \"pathLinkInfo\",\n",
    "    col(\"pathLinkInfo\").withField(\n",
    "        \"elevationGain\",\n",
    "        col(\"pathLinkInfo.elevationGain\").dropFields(\"elevationAgainstDirection\")\n",
    "    )\n",
    ")\n",
    "\n",
    "df.show(truncate=False)\n",
    "df.printSchema()"
   ]
  }
 ],
 "metadata": {
  "application/vnd.databricks.v1+notebook": {
   "computePreferences": null,
   "dashboards": [],
   "environmentMetadata": {
    "base_environment": "",
    "environment_version": "1"
   },
   "inputWidgetPreferences": null,
   "language": "python",
   "notebookMetadata": {
    "pythonIndentUnit": 4
   },
   "notebookName": "Zad1",
   "widgets": {}
  }
 },
 "nbformat": 4,
 "nbformat_minor": 0
}